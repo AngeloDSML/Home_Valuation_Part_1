{
  "nbformat": 4,
  "nbformat_minor": 0,
  "metadata": {
    "colab": {
      "name": "Tutorial",
      "provenance": [],
      "collapsed_sections": []
    },
    "kernelspec": {
      "name": "python3",
      "display_name": "Python 3"
    }
  },
  "cells": [
    {
      "cell_type": "markdown",
      "metadata": {
        "id": "1lhttaPaFVFG"
      },
      "source": [
        "### **Quick Tutorial - Machine Learning Models for Residential Appraisers**\n",
        "### **Linear Regression and Decision Tree Regression**\n",
        "\n",
        "&nbsp;  \n",
        "*Important Note: There are plenty of free machine learning tutorials and courses online. Anyone can access them, learn, and run predictive models for home values. However, this tutorial has been designed specifically for residential appraisers, and some of the material will be irrelevant or less important for other industries. If you are not a residential appraiser, and/or you are looking to learn about machine learning as a broader field, this tutorial may not be adequate for you.*\n",
        "\n",
        "The purpose of this tutorial is for residential appraisers interested in machine learning to get their toes wet. This is **not** a comprehensive machine learning tutorial and it does **not** cover everything there is to know about the topic. \n",
        "\n",
        "In this tutorial we will cover data collection, data wrangling/cleaning, visualizations, data modeling, and predictions. Since real estate prices are continuous numerical variables we will be using regression techniques, **Linear Regression and Decision Tree Regression.**\n",
        "\n",
        "&nbsp;  \n",
        "**Prerequisites:**\n",
        "1.\tSome understanding of Python programming.\n",
        "2.\tAccess and familiarity with Jupyter notebook.\n",
        "3.\tIf you want to use your own data you will need access to home sales data and custom exports from your local MLS.\n",
        "\n",
        "&nbsp;  \n",
        "**Obtain the data:**\n",
        "We will be using a dataset of home sales that includes sales prices and several predicting features, in csv format. \n",
        "\n",
        "The easiest way to obtain a dataset for your specific market area is by creating a custom csv export from your local MLS system. If you don’t know how to create it you should get technical support from your MLS provider.\n",
        "\n",
        "The sales dataset  contains the following features:\n",
        "Lot size, Water View, Year Built, Bedrooms, Bathrooms, GLA, Garage, Carport, Fireplace, Pool, and Sales Price.\n",
        "Note: These features are based on the subject’s market area. You should export a dataset that includes all of the value-affecting features you consider relevant for your specific market area. \n",
        "\n",
        "&nbsp;  \n",
        "**Assumptions:**\n",
        "We will make the following assumptions for the purpose of this tutorial. \n",
        "1.\tStable market condition. In rapidly increasing or decreasing markets you will likely need to add a “sales date” column/feature.\n",
        "2.\tAccurate data sources. MLS data is considered to be good and reliable.\n",
        "3.\tRelevant predicting features. Make sure you include all of the appropriate value-affecting features for the subject’s market area."
      ]
    },
    {
      "cell_type": "markdown",
      "metadata": {
        "id": "49NM76jSdSmm"
      },
      "source": [
        "&nbsp;  \n",
        "&nbsp;  \n",
        "#### **IMPORT LIBRARIES**"
      ]
    },
    {
      "cell_type": "markdown",
      "metadata": {
        "id": "ClR2XS8cXerE"
      },
      "source": [
        "#### First, we need to import the libraries we are going to be using."
      ]
    },
    {
      "cell_type": "code",
      "metadata": {
        "id": "lqawxvpFcsW6"
      },
      "source": [
        "import pandas as pd\n",
        "import numpy as np\n",
        "import matplotlib as mpl\n",
        "import matplotlib.pyplot as plt\n",
        "import seaborn as sns\n",
        "import sklearn as sk\n",
        "\n",
        "%matplotlib inline\n"
      ],
      "execution_count": 1,
      "outputs": []
    },
    {
      "cell_type": "markdown",
      "metadata": {
        "id": "maHZ7kfIdqzE"
      },
      "source": [
        "&nbsp; \n",
        "&nbsp;  \n",
        "&nbsp;  \n",
        "&nbsp;  \n",
        "\n",
        "#### **IMPORT DATASET**"
      ]
    },
    {
      "cell_type": "markdown",
      "metadata": {
        "id": "JNyOh3z_Hce6"
      },
      "source": [
        "#### Next, we import the homes sales dataset to our notebook. \n",
        "\n",
        "\n"
      ]
    },
    {
      "cell_type": "code",
      "metadata": {
        "id": "ayPdMqp8dKRX",
        "colab": {
          "base_uri": "https://localhost:8080/",
          "height": 270
        },
        "outputId": "1dd58668-3f4a-4c6c-c9f5-7b40e3ca91a0"
      },
      "source": [
        "file_path = '/content/Sales_Dataset.csv'    #Create file path to csv dataset \n",
        "sales_df = pd.read_csv(file_path)           #Read dataset and assign the name sales_df\n",
        "sales_df.head()                             #Display data (first 5 rows) to make sure it was successfully imported"
      ],
      "execution_count": 2,
      "outputs": [
        {
          "output_type": "execute_result",
          "data": {
            "text/plain": [
              "   LotSizeSquareFeet  WaterViewYN  YearBuilt  BedroomsTotal  BathroomsFull  \\\n",
              "0               8549         True       2016              5              4   \n",
              "1              11108        False       2018              5              4   \n",
              "2               9920        False       1999              5              4   \n",
              "3              10035         True       1999              5              4   \n",
              "4               9600         True       2007              5              4   \n",
              "\n",
              "   BathroomsHalf  LivingArea  GarageSpaces  CarportSpaces  FireplaceYN  \\\n",
              "0              0        4439           3.0            NaN        False   \n",
              "1              0        4069           3.0            NaN        False   \n",
              "2              0        3834           3.0            NaN         True   \n",
              "3              0        3828           3.0            NaN         True   \n",
              "4              0        3382           3.0            NaN        False   \n",
              "\n",
              "   PoolPrivateYN  ClosePrice  \n",
              "0           True      675000  \n",
              "1          False      540000  \n",
              "2           True      515000  \n",
              "3           True      495000  \n",
              "4           True      494700  "
            ],
            "text/html": [
              "\n",
              "  <div id=\"df-c40b4eca-cc5f-4ac0-af05-d5a5422c2d74\">\n",
              "    <div class=\"colab-df-container\">\n",
              "      <div>\n",
              "<style scoped>\n",
              "    .dataframe tbody tr th:only-of-type {\n",
              "        vertical-align: middle;\n",
              "    }\n",
              "\n",
              "    .dataframe tbody tr th {\n",
              "        vertical-align: top;\n",
              "    }\n",
              "\n",
              "    .dataframe thead th {\n",
              "        text-align: right;\n",
              "    }\n",
              "</style>\n",
              "<table border=\"1\" class=\"dataframe\">\n",
              "  <thead>\n",
              "    <tr style=\"text-align: right;\">\n",
              "      <th></th>\n",
              "      <th>LotSizeSquareFeet</th>\n",
              "      <th>WaterViewYN</th>\n",
              "      <th>YearBuilt</th>\n",
              "      <th>BedroomsTotal</th>\n",
              "      <th>BathroomsFull</th>\n",
              "      <th>BathroomsHalf</th>\n",
              "      <th>LivingArea</th>\n",
              "      <th>GarageSpaces</th>\n",
              "      <th>CarportSpaces</th>\n",
              "      <th>FireplaceYN</th>\n",
              "      <th>PoolPrivateYN</th>\n",
              "      <th>ClosePrice</th>\n",
              "    </tr>\n",
              "  </thead>\n",
              "  <tbody>\n",
              "    <tr>\n",
              "      <th>0</th>\n",
              "      <td>8549</td>\n",
              "      <td>True</td>\n",
              "      <td>2016</td>\n",
              "      <td>5</td>\n",
              "      <td>4</td>\n",
              "      <td>0</td>\n",
              "      <td>4439</td>\n",
              "      <td>3.0</td>\n",
              "      <td>NaN</td>\n",
              "      <td>False</td>\n",
              "      <td>True</td>\n",
              "      <td>675000</td>\n",
              "    </tr>\n",
              "    <tr>\n",
              "      <th>1</th>\n",
              "      <td>11108</td>\n",
              "      <td>False</td>\n",
              "      <td>2018</td>\n",
              "      <td>5</td>\n",
              "      <td>4</td>\n",
              "      <td>0</td>\n",
              "      <td>4069</td>\n",
              "      <td>3.0</td>\n",
              "      <td>NaN</td>\n",
              "      <td>False</td>\n",
              "      <td>False</td>\n",
              "      <td>540000</td>\n",
              "    </tr>\n",
              "    <tr>\n",
              "      <th>2</th>\n",
              "      <td>9920</td>\n",
              "      <td>False</td>\n",
              "      <td>1999</td>\n",
              "      <td>5</td>\n",
              "      <td>4</td>\n",
              "      <td>0</td>\n",
              "      <td>3834</td>\n",
              "      <td>3.0</td>\n",
              "      <td>NaN</td>\n",
              "      <td>True</td>\n",
              "      <td>True</td>\n",
              "      <td>515000</td>\n",
              "    </tr>\n",
              "    <tr>\n",
              "      <th>3</th>\n",
              "      <td>10035</td>\n",
              "      <td>True</td>\n",
              "      <td>1999</td>\n",
              "      <td>5</td>\n",
              "      <td>4</td>\n",
              "      <td>0</td>\n",
              "      <td>3828</td>\n",
              "      <td>3.0</td>\n",
              "      <td>NaN</td>\n",
              "      <td>True</td>\n",
              "      <td>True</td>\n",
              "      <td>495000</td>\n",
              "    </tr>\n",
              "    <tr>\n",
              "      <th>4</th>\n",
              "      <td>9600</td>\n",
              "      <td>True</td>\n",
              "      <td>2007</td>\n",
              "      <td>5</td>\n",
              "      <td>4</td>\n",
              "      <td>0</td>\n",
              "      <td>3382</td>\n",
              "      <td>3.0</td>\n",
              "      <td>NaN</td>\n",
              "      <td>False</td>\n",
              "      <td>True</td>\n",
              "      <td>494700</td>\n",
              "    </tr>\n",
              "  </tbody>\n",
              "</table>\n",
              "</div>\n",
              "      <button class=\"colab-df-convert\" onclick=\"convertToInteractive('df-c40b4eca-cc5f-4ac0-af05-d5a5422c2d74')\"\n",
              "              title=\"Convert this dataframe to an interactive table.\"\n",
              "              style=\"display:none;\">\n",
              "        \n",
              "  <svg xmlns=\"http://www.w3.org/2000/svg\" height=\"24px\"viewBox=\"0 0 24 24\"\n",
              "       width=\"24px\">\n",
              "    <path d=\"M0 0h24v24H0V0z\" fill=\"none\"/>\n",
              "    <path d=\"M18.56 5.44l.94 2.06.94-2.06 2.06-.94-2.06-.94-.94-2.06-.94 2.06-2.06.94zm-11 1L8.5 8.5l.94-2.06 2.06-.94-2.06-.94L8.5 2.5l-.94 2.06-2.06.94zm10 10l.94 2.06.94-2.06 2.06-.94-2.06-.94-.94-2.06-.94 2.06-2.06.94z\"/><path d=\"M17.41 7.96l-1.37-1.37c-.4-.4-.92-.59-1.43-.59-.52 0-1.04.2-1.43.59L10.3 9.45l-7.72 7.72c-.78.78-.78 2.05 0 2.83L4 21.41c.39.39.9.59 1.41.59.51 0 1.02-.2 1.41-.59l7.78-7.78 2.81-2.81c.8-.78.8-2.07 0-2.86zM5.41 20L4 18.59l7.72-7.72 1.47 1.35L5.41 20z\"/>\n",
              "  </svg>\n",
              "      </button>\n",
              "      \n",
              "  <style>\n",
              "    .colab-df-container {\n",
              "      display:flex;\n",
              "      flex-wrap:wrap;\n",
              "      gap: 12px;\n",
              "    }\n",
              "\n",
              "    .colab-df-convert {\n",
              "      background-color: #E8F0FE;\n",
              "      border: none;\n",
              "      border-radius: 50%;\n",
              "      cursor: pointer;\n",
              "      display: none;\n",
              "      fill: #1967D2;\n",
              "      height: 32px;\n",
              "      padding: 0 0 0 0;\n",
              "      width: 32px;\n",
              "    }\n",
              "\n",
              "    .colab-df-convert:hover {\n",
              "      background-color: #E2EBFA;\n",
              "      box-shadow: 0px 1px 2px rgba(60, 64, 67, 0.3), 0px 1px 3px 1px rgba(60, 64, 67, 0.15);\n",
              "      fill: #174EA6;\n",
              "    }\n",
              "\n",
              "    [theme=dark] .colab-df-convert {\n",
              "      background-color: #3B4455;\n",
              "      fill: #D2E3FC;\n",
              "    }\n",
              "\n",
              "    [theme=dark] .colab-df-convert:hover {\n",
              "      background-color: #434B5C;\n",
              "      box-shadow: 0px 1px 3px 1px rgba(0, 0, 0, 0.15);\n",
              "      filter: drop-shadow(0px 1px 2px rgba(0, 0, 0, 0.3));\n",
              "      fill: #FFFFFF;\n",
              "    }\n",
              "  </style>\n",
              "\n",
              "      <script>\n",
              "        const buttonEl =\n",
              "          document.querySelector('#df-c40b4eca-cc5f-4ac0-af05-d5a5422c2d74 button.colab-df-convert');\n",
              "        buttonEl.style.display =\n",
              "          google.colab.kernel.accessAllowed ? 'block' : 'none';\n",
              "\n",
              "        async function convertToInteractive(key) {\n",
              "          const element = document.querySelector('#df-c40b4eca-cc5f-4ac0-af05-d5a5422c2d74');\n",
              "          const dataTable =\n",
              "            await google.colab.kernel.invokeFunction('convertToInteractive',\n",
              "                                                     [key], {});\n",
              "          if (!dataTable) return;\n",
              "\n",
              "          const docLinkHtml = 'Like what you see? Visit the ' +\n",
              "            '<a target=\"_blank\" href=https://colab.research.google.com/notebooks/data_table.ipynb>data table notebook</a>'\n",
              "            + ' to learn more about interactive tables.';\n",
              "          element.innerHTML = '';\n",
              "          dataTable['output_type'] = 'display_data';\n",
              "          await google.colab.output.renderOutput(dataTable, element);\n",
              "          const docLink = document.createElement('div');\n",
              "          docLink.innerHTML = docLinkHtml;\n",
              "          element.appendChild(docLink);\n",
              "        }\n",
              "      </script>\n",
              "    </div>\n",
              "  </div>\n",
              "  "
            ]
          },
          "metadata": {},
          "execution_count": 2
        }
      ]
    },
    {
      "cell_type": "markdown",
      "metadata": {
        "id": "AQ9yK2X14Yju"
      },
      "source": [
        "#### Every time we modify the dataframe it is a good practice to check a sample of it to confirm the code did what was intended. For this we will use sales_df.head(), which will show the first 5 rows of the dataframe."
      ]
    },
    {
      "cell_type": "markdown",
      "metadata": {
        "id": "EPwwoczaH8_W"
      },
      "source": [
        "&nbsp;  \n",
        "&nbsp;  \n",
        "&nbsp;  \n",
        "#### **EXPLORE THE DATA**"
      ]
    },
    {
      "cell_type": "markdown",
      "metadata": {
        "id": "chlPVOarIDQI"
      },
      "source": [
        "#### Now we can explore the characteristics of the dataset."
      ]
    },
    {
      "cell_type": "code",
      "metadata": {
        "id": "03Sx1N6tH4sW",
        "colab": {
          "base_uri": "https://localhost:8080/",
          "height": 300
        },
        "outputId": "78354a4e-f991-4424-e22e-925639d82685"
      },
      "source": [
        "sales_df.describe()       #Get main statistics of the dataset"
      ],
      "execution_count": 3,
      "outputs": [
        {
          "output_type": "execute_result",
          "data": {
            "text/plain": [
              "       LotSizeSquareFeet    YearBuilt  BedroomsTotal  BathroomsFull  \\\n",
              "count         210.000000   210.000000     210.000000     210.000000   \n",
              "mean         8608.233333  2000.538095       3.700000       2.419048   \n",
              "std          2779.318027     4.749311       0.641842       0.615291   \n",
              "min          1684.000000  1993.000000       2.000000       2.000000   \n",
              "25%          6577.500000  1997.000000       3.000000       2.000000   \n",
              "50%          8115.500000  2000.000000       4.000000       2.000000   \n",
              "75%         10080.000000  2003.000000       4.000000       3.000000   \n",
              "max         18439.000000  2019.000000       5.000000       4.000000   \n",
              "\n",
              "       BathroomsHalf   LivingArea  GarageSpaces  CarportSpaces     ClosePrice  \n",
              "count     210.000000   210.000000    209.000000            7.0     210.000000  \n",
              "mean        0.095238  2183.052381      4.148325            0.0  306573.128571  \n",
              "std         0.294245   596.492637     26.127498            0.0   71470.906697  \n",
              "min         0.000000  1191.000000      2.000000            0.0  167850.000000  \n",
              "25%         0.000000  1805.750000      2.000000            0.0  259925.000000  \n",
              "50%         0.000000  2023.000000      2.000000            0.0  285000.000000  \n",
              "75%         0.000000  2454.500000      3.000000            0.0  340750.000000  \n",
              "max         1.000000  4439.000000    380.000000            0.0  675000.000000  "
            ],
            "text/html": [
              "\n",
              "  <div id=\"df-2efe900f-9d87-459d-b914-fe3339d8f605\">\n",
              "    <div class=\"colab-df-container\">\n",
              "      <div>\n",
              "<style scoped>\n",
              "    .dataframe tbody tr th:only-of-type {\n",
              "        vertical-align: middle;\n",
              "    }\n",
              "\n",
              "    .dataframe tbody tr th {\n",
              "        vertical-align: top;\n",
              "    }\n",
              "\n",
              "    .dataframe thead th {\n",
              "        text-align: right;\n",
              "    }\n",
              "</style>\n",
              "<table border=\"1\" class=\"dataframe\">\n",
              "  <thead>\n",
              "    <tr style=\"text-align: right;\">\n",
              "      <th></th>\n",
              "      <th>LotSizeSquareFeet</th>\n",
              "      <th>YearBuilt</th>\n",
              "      <th>BedroomsTotal</th>\n",
              "      <th>BathroomsFull</th>\n",
              "      <th>BathroomsHalf</th>\n",
              "      <th>LivingArea</th>\n",
              "      <th>GarageSpaces</th>\n",
              "      <th>CarportSpaces</th>\n",
              "      <th>ClosePrice</th>\n",
              "    </tr>\n",
              "  </thead>\n",
              "  <tbody>\n",
              "    <tr>\n",
              "      <th>count</th>\n",
              "      <td>210.000000</td>\n",
              "      <td>210.000000</td>\n",
              "      <td>210.000000</td>\n",
              "      <td>210.000000</td>\n",
              "      <td>210.000000</td>\n",
              "      <td>210.000000</td>\n",
              "      <td>209.000000</td>\n",
              "      <td>7.0</td>\n",
              "      <td>210.000000</td>\n",
              "    </tr>\n",
              "    <tr>\n",
              "      <th>mean</th>\n",
              "      <td>8608.233333</td>\n",
              "      <td>2000.538095</td>\n",
              "      <td>3.700000</td>\n",
              "      <td>2.419048</td>\n",
              "      <td>0.095238</td>\n",
              "      <td>2183.052381</td>\n",
              "      <td>4.148325</td>\n",
              "      <td>0.0</td>\n",
              "      <td>306573.128571</td>\n",
              "    </tr>\n",
              "    <tr>\n",
              "      <th>std</th>\n",
              "      <td>2779.318027</td>\n",
              "      <td>4.749311</td>\n",
              "      <td>0.641842</td>\n",
              "      <td>0.615291</td>\n",
              "      <td>0.294245</td>\n",
              "      <td>596.492637</td>\n",
              "      <td>26.127498</td>\n",
              "      <td>0.0</td>\n",
              "      <td>71470.906697</td>\n",
              "    </tr>\n",
              "    <tr>\n",
              "      <th>min</th>\n",
              "      <td>1684.000000</td>\n",
              "      <td>1993.000000</td>\n",
              "      <td>2.000000</td>\n",
              "      <td>2.000000</td>\n",
              "      <td>0.000000</td>\n",
              "      <td>1191.000000</td>\n",
              "      <td>2.000000</td>\n",
              "      <td>0.0</td>\n",
              "      <td>167850.000000</td>\n",
              "    </tr>\n",
              "    <tr>\n",
              "      <th>25%</th>\n",
              "      <td>6577.500000</td>\n",
              "      <td>1997.000000</td>\n",
              "      <td>3.000000</td>\n",
              "      <td>2.000000</td>\n",
              "      <td>0.000000</td>\n",
              "      <td>1805.750000</td>\n",
              "      <td>2.000000</td>\n",
              "      <td>0.0</td>\n",
              "      <td>259925.000000</td>\n",
              "    </tr>\n",
              "    <tr>\n",
              "      <th>50%</th>\n",
              "      <td>8115.500000</td>\n",
              "      <td>2000.000000</td>\n",
              "      <td>4.000000</td>\n",
              "      <td>2.000000</td>\n",
              "      <td>0.000000</td>\n",
              "      <td>2023.000000</td>\n",
              "      <td>2.000000</td>\n",
              "      <td>0.0</td>\n",
              "      <td>285000.000000</td>\n",
              "    </tr>\n",
              "    <tr>\n",
              "      <th>75%</th>\n",
              "      <td>10080.000000</td>\n",
              "      <td>2003.000000</td>\n",
              "      <td>4.000000</td>\n",
              "      <td>3.000000</td>\n",
              "      <td>0.000000</td>\n",
              "      <td>2454.500000</td>\n",
              "      <td>3.000000</td>\n",
              "      <td>0.0</td>\n",
              "      <td>340750.000000</td>\n",
              "    </tr>\n",
              "    <tr>\n",
              "      <th>max</th>\n",
              "      <td>18439.000000</td>\n",
              "      <td>2019.000000</td>\n",
              "      <td>5.000000</td>\n",
              "      <td>4.000000</td>\n",
              "      <td>1.000000</td>\n",
              "      <td>4439.000000</td>\n",
              "      <td>380.000000</td>\n",
              "      <td>0.0</td>\n",
              "      <td>675000.000000</td>\n",
              "    </tr>\n",
              "  </tbody>\n",
              "</table>\n",
              "</div>\n",
              "      <button class=\"colab-df-convert\" onclick=\"convertToInteractive('df-2efe900f-9d87-459d-b914-fe3339d8f605')\"\n",
              "              title=\"Convert this dataframe to an interactive table.\"\n",
              "              style=\"display:none;\">\n",
              "        \n",
              "  <svg xmlns=\"http://www.w3.org/2000/svg\" height=\"24px\"viewBox=\"0 0 24 24\"\n",
              "       width=\"24px\">\n",
              "    <path d=\"M0 0h24v24H0V0z\" fill=\"none\"/>\n",
              "    <path d=\"M18.56 5.44l.94 2.06.94-2.06 2.06-.94-2.06-.94-.94-2.06-.94 2.06-2.06.94zm-11 1L8.5 8.5l.94-2.06 2.06-.94-2.06-.94L8.5 2.5l-.94 2.06-2.06.94zm10 10l.94 2.06.94-2.06 2.06-.94-2.06-.94-.94-2.06-.94 2.06-2.06.94z\"/><path d=\"M17.41 7.96l-1.37-1.37c-.4-.4-.92-.59-1.43-.59-.52 0-1.04.2-1.43.59L10.3 9.45l-7.72 7.72c-.78.78-.78 2.05 0 2.83L4 21.41c.39.39.9.59 1.41.59.51 0 1.02-.2 1.41-.59l7.78-7.78 2.81-2.81c.8-.78.8-2.07 0-2.86zM5.41 20L4 18.59l7.72-7.72 1.47 1.35L5.41 20z\"/>\n",
              "  </svg>\n",
              "      </button>\n",
              "      \n",
              "  <style>\n",
              "    .colab-df-container {\n",
              "      display:flex;\n",
              "      flex-wrap:wrap;\n",
              "      gap: 12px;\n",
              "    }\n",
              "\n",
              "    .colab-df-convert {\n",
              "      background-color: #E8F0FE;\n",
              "      border: none;\n",
              "      border-radius: 50%;\n",
              "      cursor: pointer;\n",
              "      display: none;\n",
              "      fill: #1967D2;\n",
              "      height: 32px;\n",
              "      padding: 0 0 0 0;\n",
              "      width: 32px;\n",
              "    }\n",
              "\n",
              "    .colab-df-convert:hover {\n",
              "      background-color: #E2EBFA;\n",
              "      box-shadow: 0px 1px 2px rgba(60, 64, 67, 0.3), 0px 1px 3px 1px rgba(60, 64, 67, 0.15);\n",
              "      fill: #174EA6;\n",
              "    }\n",
              "\n",
              "    [theme=dark] .colab-df-convert {\n",
              "      background-color: #3B4455;\n",
              "      fill: #D2E3FC;\n",
              "    }\n",
              "\n",
              "    [theme=dark] .colab-df-convert:hover {\n",
              "      background-color: #434B5C;\n",
              "      box-shadow: 0px 1px 3px 1px rgba(0, 0, 0, 0.15);\n",
              "      filter: drop-shadow(0px 1px 2px rgba(0, 0, 0, 0.3));\n",
              "      fill: #FFFFFF;\n",
              "    }\n",
              "  </style>\n",
              "\n",
              "      <script>\n",
              "        const buttonEl =\n",
              "          document.querySelector('#df-2efe900f-9d87-459d-b914-fe3339d8f605 button.colab-df-convert');\n",
              "        buttonEl.style.display =\n",
              "          google.colab.kernel.accessAllowed ? 'block' : 'none';\n",
              "\n",
              "        async function convertToInteractive(key) {\n",
              "          const element = document.querySelector('#df-2efe900f-9d87-459d-b914-fe3339d8f605');\n",
              "          const dataTable =\n",
              "            await google.colab.kernel.invokeFunction('convertToInteractive',\n",
              "                                                     [key], {});\n",
              "          if (!dataTable) return;\n",
              "\n",
              "          const docLinkHtml = 'Like what you see? Visit the ' +\n",
              "            '<a target=\"_blank\" href=https://colab.research.google.com/notebooks/data_table.ipynb>data table notebook</a>'\n",
              "            + ' to learn more about interactive tables.';\n",
              "          element.innerHTML = '';\n",
              "          dataTable['output_type'] = 'display_data';\n",
              "          await google.colab.output.renderOutput(dataTable, element);\n",
              "          const docLink = document.createElement('div');\n",
              "          docLink.innerHTML = docLinkHtml;\n",
              "          element.appendChild(docLink);\n",
              "        }\n",
              "      </script>\n",
              "    </div>\n",
              "  </div>\n",
              "  "
            ]
          },
          "metadata": {},
          "execution_count": 3
        }
      ]
    },
    {
      "cell_type": "code",
      "metadata": {
        "colab": {
          "base_uri": "https://localhost:8080/"
        },
        "id": "D9lqCsQuYJQ5",
        "outputId": "defd9489-fb29-498e-c556-9b0718d6bee6"
      },
      "source": [
        "sales_df.info()         #Get general information including number of rows, columns, and data types"
      ],
      "execution_count": 4,
      "outputs": [
        {
          "output_type": "stream",
          "name": "stdout",
          "text": [
            "<class 'pandas.core.frame.DataFrame'>\n",
            "RangeIndex: 210 entries, 0 to 209\n",
            "Data columns (total 12 columns):\n",
            " #   Column             Non-Null Count  Dtype  \n",
            "---  ------             --------------  -----  \n",
            " 0   LotSizeSquareFeet  210 non-null    int64  \n",
            " 1   WaterViewYN        210 non-null    bool   \n",
            " 2   YearBuilt          210 non-null    int64  \n",
            " 3   BedroomsTotal      210 non-null    int64  \n",
            " 4   BathroomsFull      210 non-null    int64  \n",
            " 5   BathroomsHalf      210 non-null    int64  \n",
            " 6   LivingArea         210 non-null    int64  \n",
            " 7   GarageSpaces       209 non-null    float64\n",
            " 8   CarportSpaces      7 non-null      float64\n",
            " 9   FireplaceYN        210 non-null    bool   \n",
            " 10  PoolPrivateYN      210 non-null    bool   \n",
            " 11  ClosePrice         210 non-null    int64  \n",
            "dtypes: bool(3), float64(2), int64(7)\n",
            "memory usage: 15.5 KB\n"
          ]
        }
      ]
    },
    {
      "cell_type": "markdown",
      "metadata": {
        "id": "deR8f0jmdyM1"
      },
      "source": [
        "&nbsp;  \n",
        "&nbsp;  \n",
        "&nbsp;  \n",
        "#### **DATA CLEANING**"
      ]
    },
    {
      "cell_type": "markdown",
      "metadata": {
        "id": "zIcO-kQUJbxF"
      },
      "source": [
        "#### Now we are going to start preparing the data for further exploration.\n",
        "#### First, we rename the columns so they have more practical names. "
      ]
    },
    {
      "cell_type": "code",
      "metadata": {
        "id": "gpjqMEMFevtp",
        "colab": {
          "base_uri": "https://localhost:8080/",
          "height": 206
        },
        "outputId": "5a61231a-ec41-4f76-dbd8-464ea9233fe9"
      },
      "source": [
        "#Rename columns\n",
        "sales_df = sales_df.rename({'LotSizeSquareFeet':'Site', 'WaterViewYN':'View', 'BedroomsTotal':'Bedrooms', \n",
        "                            'BathroomsFull':'Full_Bathrooms', 'BathroomsHalf':'Half_Bathrooms', 'LivingArea':'GLA', \n",
        "                            'GarageSpaces':'Garage', 'CarportSpaces':'Carport', 'FireplaceYN':'Fireplace', \n",
        "                            'PoolPrivateYN':'Pool', 'ClosePrice':'Sales_Price'}, axis='columns')\n",
        "\n",
        "sales_df.head()"
      ],
      "execution_count": 5,
      "outputs": [
        {
          "output_type": "execute_result",
          "data": {
            "text/plain": [
              "    Site   View  YearBuilt  Bedrooms  Full_Bathrooms  Half_Bathrooms   GLA  \\\n",
              "0   8549   True       2016         5               4               0  4439   \n",
              "1  11108  False       2018         5               4               0  4069   \n",
              "2   9920  False       1999         5               4               0  3834   \n",
              "3  10035   True       1999         5               4               0  3828   \n",
              "4   9600   True       2007         5               4               0  3382   \n",
              "\n",
              "   Garage  Carport  Fireplace   Pool  Sales_Price  \n",
              "0     3.0      NaN      False   True       675000  \n",
              "1     3.0      NaN      False  False       540000  \n",
              "2     3.0      NaN       True   True       515000  \n",
              "3     3.0      NaN       True   True       495000  \n",
              "4     3.0      NaN      False   True       494700  "
            ],
            "text/html": [
              "\n",
              "  <div id=\"df-16e2332f-503d-4cd3-a813-e43ae6575f15\">\n",
              "    <div class=\"colab-df-container\">\n",
              "      <div>\n",
              "<style scoped>\n",
              "    .dataframe tbody tr th:only-of-type {\n",
              "        vertical-align: middle;\n",
              "    }\n",
              "\n",
              "    .dataframe tbody tr th {\n",
              "        vertical-align: top;\n",
              "    }\n",
              "\n",
              "    .dataframe thead th {\n",
              "        text-align: right;\n",
              "    }\n",
              "</style>\n",
              "<table border=\"1\" class=\"dataframe\">\n",
              "  <thead>\n",
              "    <tr style=\"text-align: right;\">\n",
              "      <th></th>\n",
              "      <th>Site</th>\n",
              "      <th>View</th>\n",
              "      <th>YearBuilt</th>\n",
              "      <th>Bedrooms</th>\n",
              "      <th>Full_Bathrooms</th>\n",
              "      <th>Half_Bathrooms</th>\n",
              "      <th>GLA</th>\n",
              "      <th>Garage</th>\n",
              "      <th>Carport</th>\n",
              "      <th>Fireplace</th>\n",
              "      <th>Pool</th>\n",
              "      <th>Sales_Price</th>\n",
              "    </tr>\n",
              "  </thead>\n",
              "  <tbody>\n",
              "    <tr>\n",
              "      <th>0</th>\n",
              "      <td>8549</td>\n",
              "      <td>True</td>\n",
              "      <td>2016</td>\n",
              "      <td>5</td>\n",
              "      <td>4</td>\n",
              "      <td>0</td>\n",
              "      <td>4439</td>\n",
              "      <td>3.0</td>\n",
              "      <td>NaN</td>\n",
              "      <td>False</td>\n",
              "      <td>True</td>\n",
              "      <td>675000</td>\n",
              "    </tr>\n",
              "    <tr>\n",
              "      <th>1</th>\n",
              "      <td>11108</td>\n",
              "      <td>False</td>\n",
              "      <td>2018</td>\n",
              "      <td>5</td>\n",
              "      <td>4</td>\n",
              "      <td>0</td>\n",
              "      <td>4069</td>\n",
              "      <td>3.0</td>\n",
              "      <td>NaN</td>\n",
              "      <td>False</td>\n",
              "      <td>False</td>\n",
              "      <td>540000</td>\n",
              "    </tr>\n",
              "    <tr>\n",
              "      <th>2</th>\n",
              "      <td>9920</td>\n",
              "      <td>False</td>\n",
              "      <td>1999</td>\n",
              "      <td>5</td>\n",
              "      <td>4</td>\n",
              "      <td>0</td>\n",
              "      <td>3834</td>\n",
              "      <td>3.0</td>\n",
              "      <td>NaN</td>\n",
              "      <td>True</td>\n",
              "      <td>True</td>\n",
              "      <td>515000</td>\n",
              "    </tr>\n",
              "    <tr>\n",
              "      <th>3</th>\n",
              "      <td>10035</td>\n",
              "      <td>True</td>\n",
              "      <td>1999</td>\n",
              "      <td>5</td>\n",
              "      <td>4</td>\n",
              "      <td>0</td>\n",
              "      <td>3828</td>\n",
              "      <td>3.0</td>\n",
              "      <td>NaN</td>\n",
              "      <td>True</td>\n",
              "      <td>True</td>\n",
              "      <td>495000</td>\n",
              "    </tr>\n",
              "    <tr>\n",
              "      <th>4</th>\n",
              "      <td>9600</td>\n",
              "      <td>True</td>\n",
              "      <td>2007</td>\n",
              "      <td>5</td>\n",
              "      <td>4</td>\n",
              "      <td>0</td>\n",
              "      <td>3382</td>\n",
              "      <td>3.0</td>\n",
              "      <td>NaN</td>\n",
              "      <td>False</td>\n",
              "      <td>True</td>\n",
              "      <td>494700</td>\n",
              "    </tr>\n",
              "  </tbody>\n",
              "</table>\n",
              "</div>\n",
              "      <button class=\"colab-df-convert\" onclick=\"convertToInteractive('df-16e2332f-503d-4cd3-a813-e43ae6575f15')\"\n",
              "              title=\"Convert this dataframe to an interactive table.\"\n",
              "              style=\"display:none;\">\n",
              "        \n",
              "  <svg xmlns=\"http://www.w3.org/2000/svg\" height=\"24px\"viewBox=\"0 0 24 24\"\n",
              "       width=\"24px\">\n",
              "    <path d=\"M0 0h24v24H0V0z\" fill=\"none\"/>\n",
              "    <path d=\"M18.56 5.44l.94 2.06.94-2.06 2.06-.94-2.06-.94-.94-2.06-.94 2.06-2.06.94zm-11 1L8.5 8.5l.94-2.06 2.06-.94-2.06-.94L8.5 2.5l-.94 2.06-2.06.94zm10 10l.94 2.06.94-2.06 2.06-.94-2.06-.94-.94-2.06-.94 2.06-2.06.94z\"/><path d=\"M17.41 7.96l-1.37-1.37c-.4-.4-.92-.59-1.43-.59-.52 0-1.04.2-1.43.59L10.3 9.45l-7.72 7.72c-.78.78-.78 2.05 0 2.83L4 21.41c.39.39.9.59 1.41.59.51 0 1.02-.2 1.41-.59l7.78-7.78 2.81-2.81c.8-.78.8-2.07 0-2.86zM5.41 20L4 18.59l7.72-7.72 1.47 1.35L5.41 20z\"/>\n",
              "  </svg>\n",
              "      </button>\n",
              "      \n",
              "  <style>\n",
              "    .colab-df-container {\n",
              "      display:flex;\n",
              "      flex-wrap:wrap;\n",
              "      gap: 12px;\n",
              "    }\n",
              "\n",
              "    .colab-df-convert {\n",
              "      background-color: #E8F0FE;\n",
              "      border: none;\n",
              "      border-radius: 50%;\n",
              "      cursor: pointer;\n",
              "      display: none;\n",
              "      fill: #1967D2;\n",
              "      height: 32px;\n",
              "      padding: 0 0 0 0;\n",
              "      width: 32px;\n",
              "    }\n",
              "\n",
              "    .colab-df-convert:hover {\n",
              "      background-color: #E2EBFA;\n",
              "      box-shadow: 0px 1px 2px rgba(60, 64, 67, 0.3), 0px 1px 3px 1px rgba(60, 64, 67, 0.15);\n",
              "      fill: #174EA6;\n",
              "    }\n",
              "\n",
              "    [theme=dark] .colab-df-convert {\n",
              "      background-color: #3B4455;\n",
              "      fill: #D2E3FC;\n",
              "    }\n",
              "\n",
              "    [theme=dark] .colab-df-convert:hover {\n",
              "      background-color: #434B5C;\n",
              "      box-shadow: 0px 1px 3px 1px rgba(0, 0, 0, 0.15);\n",
              "      filter: drop-shadow(0px 1px 2px rgba(0, 0, 0, 0.3));\n",
              "      fill: #FFFFFF;\n",
              "    }\n",
              "  </style>\n",
              "\n",
              "      <script>\n",
              "        const buttonEl =\n",
              "          document.querySelector('#df-16e2332f-503d-4cd3-a813-e43ae6575f15 button.colab-df-convert');\n",
              "        buttonEl.style.display =\n",
              "          google.colab.kernel.accessAllowed ? 'block' : 'none';\n",
              "\n",
              "        async function convertToInteractive(key) {\n",
              "          const element = document.querySelector('#df-16e2332f-503d-4cd3-a813-e43ae6575f15');\n",
              "          const dataTable =\n",
              "            await google.colab.kernel.invokeFunction('convertToInteractive',\n",
              "                                                     [key], {});\n",
              "          if (!dataTable) return;\n",
              "\n",
              "          const docLinkHtml = 'Like what you see? Visit the ' +\n",
              "            '<a target=\"_blank\" href=https://colab.research.google.com/notebooks/data_table.ipynb>data table notebook</a>'\n",
              "            + ' to learn more about interactive tables.';\n",
              "          element.innerHTML = '';\n",
              "          dataTable['output_type'] = 'display_data';\n",
              "          await google.colab.output.renderOutput(dataTable, element);\n",
              "          const docLink = document.createElement('div');\n",
              "          docLink.innerHTML = docLinkHtml;\n",
              "          element.appendChild(docLink);\n",
              "        }\n",
              "      </script>\n",
              "    </div>\n",
              "  </div>\n",
              "  "
            ]
          },
          "metadata": {},
          "execution_count": 5
        }
      ]
    },
    {
      "cell_type": "markdown",
      "metadata": {
        "id": "PK7a5l0HLRH8"
      },
      "source": [
        "&nbsp;  \n",
        "&nbsp;  \n",
        "#### In order to have the model to work correctly we need to make sure all the data is of numeric type (integer or float).\n",
        "#### Let's check the data types. "
      ]
    },
    {
      "cell_type": "code",
      "metadata": {
        "id": "-JOsEhXFlMZJ",
        "colab": {
          "base_uri": "https://localhost:8080/"
        },
        "outputId": "5beaeff9-04cb-48c9-f761-6034d7131d5b"
      },
      "source": [
        "sales_df.dtypes     #Check data types"
      ],
      "execution_count": 6,
      "outputs": [
        {
          "output_type": "execute_result",
          "data": {
            "text/plain": [
              "Site                int64\n",
              "View                 bool\n",
              "YearBuilt           int64\n",
              "Bedrooms            int64\n",
              "Full_Bathrooms      int64\n",
              "Half_Bathrooms      int64\n",
              "GLA                 int64\n",
              "Garage            float64\n",
              "Carport           float64\n",
              "Fireplace            bool\n",
              "Pool                 bool\n",
              "Sales_Price         int64\n",
              "dtype: object"
            ]
          },
          "metadata": {},
          "execution_count": 6
        }
      ]
    },
    {
      "cell_type": "markdown",
      "metadata": {
        "id": "mzeDO-nzMORy"
      },
      "source": [
        "&nbsp;  \n",
        "#### As shown above, there are three features that are of a boolean type (View, Fireplace, and Pool). We are going to transform them to integers, where True=1 and False=0."
      ]
    },
    {
      "cell_type": "code",
      "metadata": {
        "colab": {
          "base_uri": "https://localhost:8080/"
        },
        "id": "S63uCZ1wMMqi",
        "outputId": "2c8220c5-ad13-4984-d3ab-661e240fd7c3"
      },
      "source": [
        "sales_df[['View', 'Fireplace','Pool']] = sales_df[['View', 'Fireplace','Pool']].astype(int)     #Convert boolean columns to integers\n",
        "\n",
        "sales_df.dtypes     #Check data types again"
      ],
      "execution_count": 7,
      "outputs": [
        {
          "output_type": "execute_result",
          "data": {
            "text/plain": [
              "Site                int64\n",
              "View                int64\n",
              "YearBuilt           int64\n",
              "Bedrooms            int64\n",
              "Full_Bathrooms      int64\n",
              "Half_Bathrooms      int64\n",
              "GLA                 int64\n",
              "Garage            float64\n",
              "Carport           float64\n",
              "Fireplace           int64\n",
              "Pool                int64\n",
              "Sales_Price         int64\n",
              "dtype: object"
            ]
          },
          "metadata": {},
          "execution_count": 7
        }
      ]
    },
    {
      "cell_type": "markdown",
      "metadata": {
        "id": "FgKpXVtWM__u"
      },
      "source": [
        "&nbsp;  \n",
        "&nbsp;  \n",
        "#### We have no use for the \"YearBuilt\" column itself, what we really want is the age of the property. With the following code we will substract the \"YearBuilt\" from the current year and create a new column called \"Age\"."
      ]
    },
    {
      "cell_type": "code",
      "metadata": {
        "id": "A1lfVrKonA0p",
        "colab": {
          "base_uri": "https://localhost:8080/",
          "height": 206
        },
        "outputId": "2dae1933-f783-46e7-e32d-0f6f627e780b"
      },
      "source": [
        "sales_df['Age'] = pd.to_datetime('today').year - sales_df['YearBuilt']    #Substract YearBuilt from current year and create \"Age\"\n",
        "sales_df.head()"
      ],
      "execution_count": 8,
      "outputs": [
        {
          "output_type": "execute_result",
          "data": {
            "text/plain": [
              "    Site  View  YearBuilt  Bedrooms  Full_Bathrooms  Half_Bathrooms   GLA  \\\n",
              "0   8549     1       2016         5               4               0  4439   \n",
              "1  11108     0       2018         5               4               0  4069   \n",
              "2   9920     0       1999         5               4               0  3834   \n",
              "3  10035     1       1999         5               4               0  3828   \n",
              "4   9600     1       2007         5               4               0  3382   \n",
              "\n",
              "   Garage  Carport  Fireplace  Pool  Sales_Price  Age  \n",
              "0     3.0      NaN          0     1       675000    6  \n",
              "1     3.0      NaN          0     0       540000    4  \n",
              "2     3.0      NaN          1     1       515000   23  \n",
              "3     3.0      NaN          1     1       495000   23  \n",
              "4     3.0      NaN          0     1       494700   15  "
            ],
            "text/html": [
              "\n",
              "  <div id=\"df-9ca14251-ea95-485d-a020-7be35e002f56\">\n",
              "    <div class=\"colab-df-container\">\n",
              "      <div>\n",
              "<style scoped>\n",
              "    .dataframe tbody tr th:only-of-type {\n",
              "        vertical-align: middle;\n",
              "    }\n",
              "\n",
              "    .dataframe tbody tr th {\n",
              "        vertical-align: top;\n",
              "    }\n",
              "\n",
              "    .dataframe thead th {\n",
              "        text-align: right;\n",
              "    }\n",
              "</style>\n",
              "<table border=\"1\" class=\"dataframe\">\n",
              "  <thead>\n",
              "    <tr style=\"text-align: right;\">\n",
              "      <th></th>\n",
              "      <th>Site</th>\n",
              "      <th>View</th>\n",
              "      <th>YearBuilt</th>\n",
              "      <th>Bedrooms</th>\n",
              "      <th>Full_Bathrooms</th>\n",
              "      <th>Half_Bathrooms</th>\n",
              "      <th>GLA</th>\n",
              "      <th>Garage</th>\n",
              "      <th>Carport</th>\n",
              "      <th>Fireplace</th>\n",
              "      <th>Pool</th>\n",
              "      <th>Sales_Price</th>\n",
              "      <th>Age</th>\n",
              "    </tr>\n",
              "  </thead>\n",
              "  <tbody>\n",
              "    <tr>\n",
              "      <th>0</th>\n",
              "      <td>8549</td>\n",
              "      <td>1</td>\n",
              "      <td>2016</td>\n",
              "      <td>5</td>\n",
              "      <td>4</td>\n",
              "      <td>0</td>\n",
              "      <td>4439</td>\n",
              "      <td>3.0</td>\n",
              "      <td>NaN</td>\n",
              "      <td>0</td>\n",
              "      <td>1</td>\n",
              "      <td>675000</td>\n",
              "      <td>6</td>\n",
              "    </tr>\n",
              "    <tr>\n",
              "      <th>1</th>\n",
              "      <td>11108</td>\n",
              "      <td>0</td>\n",
              "      <td>2018</td>\n",
              "      <td>5</td>\n",
              "      <td>4</td>\n",
              "      <td>0</td>\n",
              "      <td>4069</td>\n",
              "      <td>3.0</td>\n",
              "      <td>NaN</td>\n",
              "      <td>0</td>\n",
              "      <td>0</td>\n",
              "      <td>540000</td>\n",
              "      <td>4</td>\n",
              "    </tr>\n",
              "    <tr>\n",
              "      <th>2</th>\n",
              "      <td>9920</td>\n",
              "      <td>0</td>\n",
              "      <td>1999</td>\n",
              "      <td>5</td>\n",
              "      <td>4</td>\n",
              "      <td>0</td>\n",
              "      <td>3834</td>\n",
              "      <td>3.0</td>\n",
              "      <td>NaN</td>\n",
              "      <td>1</td>\n",
              "      <td>1</td>\n",
              "      <td>515000</td>\n",
              "      <td>23</td>\n",
              "    </tr>\n",
              "    <tr>\n",
              "      <th>3</th>\n",
              "      <td>10035</td>\n",
              "      <td>1</td>\n",
              "      <td>1999</td>\n",
              "      <td>5</td>\n",
              "      <td>4</td>\n",
              "      <td>0</td>\n",
              "      <td>3828</td>\n",
              "      <td>3.0</td>\n",
              "      <td>NaN</td>\n",
              "      <td>1</td>\n",
              "      <td>1</td>\n",
              "      <td>495000</td>\n",
              "      <td>23</td>\n",
              "    </tr>\n",
              "    <tr>\n",
              "      <th>4</th>\n",
              "      <td>9600</td>\n",
              "      <td>1</td>\n",
              "      <td>2007</td>\n",
              "      <td>5</td>\n",
              "      <td>4</td>\n",
              "      <td>0</td>\n",
              "      <td>3382</td>\n",
              "      <td>3.0</td>\n",
              "      <td>NaN</td>\n",
              "      <td>0</td>\n",
              "      <td>1</td>\n",
              "      <td>494700</td>\n",
              "      <td>15</td>\n",
              "    </tr>\n",
              "  </tbody>\n",
              "</table>\n",
              "</div>\n",
              "      <button class=\"colab-df-convert\" onclick=\"convertToInteractive('df-9ca14251-ea95-485d-a020-7be35e002f56')\"\n",
              "              title=\"Convert this dataframe to an interactive table.\"\n",
              "              style=\"display:none;\">\n",
              "        \n",
              "  <svg xmlns=\"http://www.w3.org/2000/svg\" height=\"24px\"viewBox=\"0 0 24 24\"\n",
              "       width=\"24px\">\n",
              "    <path d=\"M0 0h24v24H0V0z\" fill=\"none\"/>\n",
              "    <path d=\"M18.56 5.44l.94 2.06.94-2.06 2.06-.94-2.06-.94-.94-2.06-.94 2.06-2.06.94zm-11 1L8.5 8.5l.94-2.06 2.06-.94-2.06-.94L8.5 2.5l-.94 2.06-2.06.94zm10 10l.94 2.06.94-2.06 2.06-.94-2.06-.94-.94-2.06-.94 2.06-2.06.94z\"/><path d=\"M17.41 7.96l-1.37-1.37c-.4-.4-.92-.59-1.43-.59-.52 0-1.04.2-1.43.59L10.3 9.45l-7.72 7.72c-.78.78-.78 2.05 0 2.83L4 21.41c.39.39.9.59 1.41.59.51 0 1.02-.2 1.41-.59l7.78-7.78 2.81-2.81c.8-.78.8-2.07 0-2.86zM5.41 20L4 18.59l7.72-7.72 1.47 1.35L5.41 20z\"/>\n",
              "  </svg>\n",
              "      </button>\n",
              "      \n",
              "  <style>\n",
              "    .colab-df-container {\n",
              "      display:flex;\n",
              "      flex-wrap:wrap;\n",
              "      gap: 12px;\n",
              "    }\n",
              "\n",
              "    .colab-df-convert {\n",
              "      background-color: #E8F0FE;\n",
              "      border: none;\n",
              "      border-radius: 50%;\n",
              "      cursor: pointer;\n",
              "      display: none;\n",
              "      fill: #1967D2;\n",
              "      height: 32px;\n",
              "      padding: 0 0 0 0;\n",
              "      width: 32px;\n",
              "    }\n",
              "\n",
              "    .colab-df-convert:hover {\n",
              "      background-color: #E2EBFA;\n",
              "      box-shadow: 0px 1px 2px rgba(60, 64, 67, 0.3), 0px 1px 3px 1px rgba(60, 64, 67, 0.15);\n",
              "      fill: #174EA6;\n",
              "    }\n",
              "\n",
              "    [theme=dark] .colab-df-convert {\n",
              "      background-color: #3B4455;\n",
              "      fill: #D2E3FC;\n",
              "    }\n",
              "\n",
              "    [theme=dark] .colab-df-convert:hover {\n",
              "      background-color: #434B5C;\n",
              "      box-shadow: 0px 1px 3px 1px rgba(0, 0, 0, 0.15);\n",
              "      filter: drop-shadow(0px 1px 2px rgba(0, 0, 0, 0.3));\n",
              "      fill: #FFFFFF;\n",
              "    }\n",
              "  </style>\n",
              "\n",
              "      <script>\n",
              "        const buttonEl =\n",
              "          document.querySelector('#df-9ca14251-ea95-485d-a020-7be35e002f56 button.colab-df-convert');\n",
              "        buttonEl.style.display =\n",
              "          google.colab.kernel.accessAllowed ? 'block' : 'none';\n",
              "\n",
              "        async function convertToInteractive(key) {\n",
              "          const element = document.querySelector('#df-9ca14251-ea95-485d-a020-7be35e002f56');\n",
              "          const dataTable =\n",
              "            await google.colab.kernel.invokeFunction('convertToInteractive',\n",
              "                                                     [key], {});\n",
              "          if (!dataTable) return;\n",
              "\n",
              "          const docLinkHtml = 'Like what you see? Visit the ' +\n",
              "            '<a target=\"_blank\" href=https://colab.research.google.com/notebooks/data_table.ipynb>data table notebook</a>'\n",
              "            + ' to learn more about interactive tables.';\n",
              "          element.innerHTML = '';\n",
              "          dataTable['output_type'] = 'display_data';\n",
              "          await google.colab.output.renderOutput(dataTable, element);\n",
              "          const docLink = document.createElement('div');\n",
              "          docLink.innerHTML = docLinkHtml;\n",
              "          element.appendChild(docLink);\n",
              "        }\n",
              "      </script>\n",
              "    </div>\n",
              "  </div>\n",
              "  "
            ]
          },
          "metadata": {},
          "execution_count": 8
        }
      ]
    },
    {
      "cell_type": "markdown",
      "metadata": {
        "id": "ld2YSBoeO4S4"
      },
      "source": [
        "&nbsp;  \n",
        "&nbsp;  \n",
        "#### We can merge the \"Full_Bathroom\" and the \"Half_Bathroom\" columns to create a new column that represents both of these features. The new column is called \"Bathrooms\". "
      ]
    },
    {
      "cell_type": "code",
      "metadata": {
        "id": "Vxv8Y8yriG99",
        "colab": {
          "base_uri": "https://localhost:8080/",
          "height": 206
        },
        "outputId": "4fb519ee-6df6-454d-bfad-acd61f3ebf69"
      },
      "source": [
        "sales_df['Half_Bathrooms'] = sales_df['Half_Bathrooms'] / 2                       #Modify Half_Bathrooms (dividing by 2) before merging\n",
        "sales_df['Bathrooms'] = sales_df['Full_Bathrooms'] + sales_df['Half_Bathrooms']   #Merge (Add) Full_Bathrooms and Half_Bathrooms. Create new column \"Bathrooms\"\n",
        "sales_df.head()"
      ],
      "execution_count": 9,
      "outputs": [
        {
          "output_type": "execute_result",
          "data": {
            "text/plain": [
              "    Site  View  YearBuilt  Bedrooms  Full_Bathrooms  Half_Bathrooms   GLA  \\\n",
              "0   8549     1       2016         5               4             0.0  4439   \n",
              "1  11108     0       2018         5               4             0.0  4069   \n",
              "2   9920     0       1999         5               4             0.0  3834   \n",
              "3  10035     1       1999         5               4             0.0  3828   \n",
              "4   9600     1       2007         5               4             0.0  3382   \n",
              "\n",
              "   Garage  Carport  Fireplace  Pool  Sales_Price  Age  Bathrooms  \n",
              "0     3.0      NaN          0     1       675000    6        4.0  \n",
              "1     3.0      NaN          0     0       540000    4        4.0  \n",
              "2     3.0      NaN          1     1       515000   23        4.0  \n",
              "3     3.0      NaN          1     1       495000   23        4.0  \n",
              "4     3.0      NaN          0     1       494700   15        4.0  "
            ],
            "text/html": [
              "\n",
              "  <div id=\"df-f332d1d3-a269-4bac-a6d6-8e4647319f49\">\n",
              "    <div class=\"colab-df-container\">\n",
              "      <div>\n",
              "<style scoped>\n",
              "    .dataframe tbody tr th:only-of-type {\n",
              "        vertical-align: middle;\n",
              "    }\n",
              "\n",
              "    .dataframe tbody tr th {\n",
              "        vertical-align: top;\n",
              "    }\n",
              "\n",
              "    .dataframe thead th {\n",
              "        text-align: right;\n",
              "    }\n",
              "</style>\n",
              "<table border=\"1\" class=\"dataframe\">\n",
              "  <thead>\n",
              "    <tr style=\"text-align: right;\">\n",
              "      <th></th>\n",
              "      <th>Site</th>\n",
              "      <th>View</th>\n",
              "      <th>YearBuilt</th>\n",
              "      <th>Bedrooms</th>\n",
              "      <th>Full_Bathrooms</th>\n",
              "      <th>Half_Bathrooms</th>\n",
              "      <th>GLA</th>\n",
              "      <th>Garage</th>\n",
              "      <th>Carport</th>\n",
              "      <th>Fireplace</th>\n",
              "      <th>Pool</th>\n",
              "      <th>Sales_Price</th>\n",
              "      <th>Age</th>\n",
              "      <th>Bathrooms</th>\n",
              "    </tr>\n",
              "  </thead>\n",
              "  <tbody>\n",
              "    <tr>\n",
              "      <th>0</th>\n",
              "      <td>8549</td>\n",
              "      <td>1</td>\n",
              "      <td>2016</td>\n",
              "      <td>5</td>\n",
              "      <td>4</td>\n",
              "      <td>0.0</td>\n",
              "      <td>4439</td>\n",
              "      <td>3.0</td>\n",
              "      <td>NaN</td>\n",
              "      <td>0</td>\n",
              "      <td>1</td>\n",
              "      <td>675000</td>\n",
              "      <td>6</td>\n",
              "      <td>4.0</td>\n",
              "    </tr>\n",
              "    <tr>\n",
              "      <th>1</th>\n",
              "      <td>11108</td>\n",
              "      <td>0</td>\n",
              "      <td>2018</td>\n",
              "      <td>5</td>\n",
              "      <td>4</td>\n",
              "      <td>0.0</td>\n",
              "      <td>4069</td>\n",
              "      <td>3.0</td>\n",
              "      <td>NaN</td>\n",
              "      <td>0</td>\n",
              "      <td>0</td>\n",
              "      <td>540000</td>\n",
              "      <td>4</td>\n",
              "      <td>4.0</td>\n",
              "    </tr>\n",
              "    <tr>\n",
              "      <th>2</th>\n",
              "      <td>9920</td>\n",
              "      <td>0</td>\n",
              "      <td>1999</td>\n",
              "      <td>5</td>\n",
              "      <td>4</td>\n",
              "      <td>0.0</td>\n",
              "      <td>3834</td>\n",
              "      <td>3.0</td>\n",
              "      <td>NaN</td>\n",
              "      <td>1</td>\n",
              "      <td>1</td>\n",
              "      <td>515000</td>\n",
              "      <td>23</td>\n",
              "      <td>4.0</td>\n",
              "    </tr>\n",
              "    <tr>\n",
              "      <th>3</th>\n",
              "      <td>10035</td>\n",
              "      <td>1</td>\n",
              "      <td>1999</td>\n",
              "      <td>5</td>\n",
              "      <td>4</td>\n",
              "      <td>0.0</td>\n",
              "      <td>3828</td>\n",
              "      <td>3.0</td>\n",
              "      <td>NaN</td>\n",
              "      <td>1</td>\n",
              "      <td>1</td>\n",
              "      <td>495000</td>\n",
              "      <td>23</td>\n",
              "      <td>4.0</td>\n",
              "    </tr>\n",
              "    <tr>\n",
              "      <th>4</th>\n",
              "      <td>9600</td>\n",
              "      <td>1</td>\n",
              "      <td>2007</td>\n",
              "      <td>5</td>\n",
              "      <td>4</td>\n",
              "      <td>0.0</td>\n",
              "      <td>3382</td>\n",
              "      <td>3.0</td>\n",
              "      <td>NaN</td>\n",
              "      <td>0</td>\n",
              "      <td>1</td>\n",
              "      <td>494700</td>\n",
              "      <td>15</td>\n",
              "      <td>4.0</td>\n",
              "    </tr>\n",
              "  </tbody>\n",
              "</table>\n",
              "</div>\n",
              "      <button class=\"colab-df-convert\" onclick=\"convertToInteractive('df-f332d1d3-a269-4bac-a6d6-8e4647319f49')\"\n",
              "              title=\"Convert this dataframe to an interactive table.\"\n",
              "              style=\"display:none;\">\n",
              "        \n",
              "  <svg xmlns=\"http://www.w3.org/2000/svg\" height=\"24px\"viewBox=\"0 0 24 24\"\n",
              "       width=\"24px\">\n",
              "    <path d=\"M0 0h24v24H0V0z\" fill=\"none\"/>\n",
              "    <path d=\"M18.56 5.44l.94 2.06.94-2.06 2.06-.94-2.06-.94-.94-2.06-.94 2.06-2.06.94zm-11 1L8.5 8.5l.94-2.06 2.06-.94-2.06-.94L8.5 2.5l-.94 2.06-2.06.94zm10 10l.94 2.06.94-2.06 2.06-.94-2.06-.94-.94-2.06-.94 2.06-2.06.94z\"/><path d=\"M17.41 7.96l-1.37-1.37c-.4-.4-.92-.59-1.43-.59-.52 0-1.04.2-1.43.59L10.3 9.45l-7.72 7.72c-.78.78-.78 2.05 0 2.83L4 21.41c.39.39.9.59 1.41.59.51 0 1.02-.2 1.41-.59l7.78-7.78 2.81-2.81c.8-.78.8-2.07 0-2.86zM5.41 20L4 18.59l7.72-7.72 1.47 1.35L5.41 20z\"/>\n",
              "  </svg>\n",
              "      </button>\n",
              "      \n",
              "  <style>\n",
              "    .colab-df-container {\n",
              "      display:flex;\n",
              "      flex-wrap:wrap;\n",
              "      gap: 12px;\n",
              "    }\n",
              "\n",
              "    .colab-df-convert {\n",
              "      background-color: #E8F0FE;\n",
              "      border: none;\n",
              "      border-radius: 50%;\n",
              "      cursor: pointer;\n",
              "      display: none;\n",
              "      fill: #1967D2;\n",
              "      height: 32px;\n",
              "      padding: 0 0 0 0;\n",
              "      width: 32px;\n",
              "    }\n",
              "\n",
              "    .colab-df-convert:hover {\n",
              "      background-color: #E2EBFA;\n",
              "      box-shadow: 0px 1px 2px rgba(60, 64, 67, 0.3), 0px 1px 3px 1px rgba(60, 64, 67, 0.15);\n",
              "      fill: #174EA6;\n",
              "    }\n",
              "\n",
              "    [theme=dark] .colab-df-convert {\n",
              "      background-color: #3B4455;\n",
              "      fill: #D2E3FC;\n",
              "    }\n",
              "\n",
              "    [theme=dark] .colab-df-convert:hover {\n",
              "      background-color: #434B5C;\n",
              "      box-shadow: 0px 1px 3px 1px rgba(0, 0, 0, 0.15);\n",
              "      filter: drop-shadow(0px 1px 2px rgba(0, 0, 0, 0.3));\n",
              "      fill: #FFFFFF;\n",
              "    }\n",
              "  </style>\n",
              "\n",
              "      <script>\n",
              "        const buttonEl =\n",
              "          document.querySelector('#df-f332d1d3-a269-4bac-a6d6-8e4647319f49 button.colab-df-convert');\n",
              "        buttonEl.style.display =\n",
              "          google.colab.kernel.accessAllowed ? 'block' : 'none';\n",
              "\n",
              "        async function convertToInteractive(key) {\n",
              "          const element = document.querySelector('#df-f332d1d3-a269-4bac-a6d6-8e4647319f49');\n",
              "          const dataTable =\n",
              "            await google.colab.kernel.invokeFunction('convertToInteractive',\n",
              "                                                     [key], {});\n",
              "          if (!dataTable) return;\n",
              "\n",
              "          const docLinkHtml = 'Like what you see? Visit the ' +\n",
              "            '<a target=\"_blank\" href=https://colab.research.google.com/notebooks/data_table.ipynb>data table notebook</a>'\n",
              "            + ' to learn more about interactive tables.';\n",
              "          element.innerHTML = '';\n",
              "          dataTable['output_type'] = 'display_data';\n",
              "          await google.colab.output.renderOutput(dataTable, element);\n",
              "          const docLink = document.createElement('div');\n",
              "          docLink.innerHTML = docLinkHtml;\n",
              "          element.appendChild(docLink);\n",
              "        }\n",
              "      </script>\n",
              "    </div>\n",
              "  </div>\n",
              "  "
            ]
          },
          "metadata": {},
          "execution_count": 9
        }
      ]
    },
    {
      "cell_type": "markdown",
      "metadata": {
        "id": "r_6Zeg-n0t0V"
      },
      "source": [
        "&nbsp;  \n",
        "&nbsp;  \n",
        "#### Since we created the columns \"Age\" and \"Bathrooms\", we don't need  \"YearBuilt\", \"Full_Bathrooms\", and \"Half_Bathrooms\" anymore. Let's delete them."
      ]
    },
    {
      "cell_type": "code",
      "metadata": {
        "id": "7YpUzzuojTxq",
        "colab": {
          "base_uri": "https://localhost:8080/",
          "height": 206
        },
        "outputId": "4f05f293-adcf-41f5-dff0-2a1407089313"
      },
      "source": [
        "sales_df = sales_df.drop(['YearBuilt','Full_Bathrooms','Half_Bathrooms'], axis=1)   #Drop YearBuilt, Full_Bathroom, and Half_Bathroom.\n",
        "sales_df.head()"
      ],
      "execution_count": 10,
      "outputs": [
        {
          "output_type": "execute_result",
          "data": {
            "text/plain": [
              "    Site  View  Bedrooms   GLA  Garage  Carport  Fireplace  Pool  Sales_Price  \\\n",
              "0   8549     1         5  4439     3.0      NaN          0     1       675000   \n",
              "1  11108     0         5  4069     3.0      NaN          0     0       540000   \n",
              "2   9920     0         5  3834     3.0      NaN          1     1       515000   \n",
              "3  10035     1         5  3828     3.0      NaN          1     1       495000   \n",
              "4   9600     1         5  3382     3.0      NaN          0     1       494700   \n",
              "\n",
              "   Age  Bathrooms  \n",
              "0    6        4.0  \n",
              "1    4        4.0  \n",
              "2   23        4.0  \n",
              "3   23        4.0  \n",
              "4   15        4.0  "
            ],
            "text/html": [
              "\n",
              "  <div id=\"df-a76adde6-faff-4d6b-879f-656178231213\">\n",
              "    <div class=\"colab-df-container\">\n",
              "      <div>\n",
              "<style scoped>\n",
              "    .dataframe tbody tr th:only-of-type {\n",
              "        vertical-align: middle;\n",
              "    }\n",
              "\n",
              "    .dataframe tbody tr th {\n",
              "        vertical-align: top;\n",
              "    }\n",
              "\n",
              "    .dataframe thead th {\n",
              "        text-align: right;\n",
              "    }\n",
              "</style>\n",
              "<table border=\"1\" class=\"dataframe\">\n",
              "  <thead>\n",
              "    <tr style=\"text-align: right;\">\n",
              "      <th></th>\n",
              "      <th>Site</th>\n",
              "      <th>View</th>\n",
              "      <th>Bedrooms</th>\n",
              "      <th>GLA</th>\n",
              "      <th>Garage</th>\n",
              "      <th>Carport</th>\n",
              "      <th>Fireplace</th>\n",
              "      <th>Pool</th>\n",
              "      <th>Sales_Price</th>\n",
              "      <th>Age</th>\n",
              "      <th>Bathrooms</th>\n",
              "    </tr>\n",
              "  </thead>\n",
              "  <tbody>\n",
              "    <tr>\n",
              "      <th>0</th>\n",
              "      <td>8549</td>\n",
              "      <td>1</td>\n",
              "      <td>5</td>\n",
              "      <td>4439</td>\n",
              "      <td>3.0</td>\n",
              "      <td>NaN</td>\n",
              "      <td>0</td>\n",
              "      <td>1</td>\n",
              "      <td>675000</td>\n",
              "      <td>6</td>\n",
              "      <td>4.0</td>\n",
              "    </tr>\n",
              "    <tr>\n",
              "      <th>1</th>\n",
              "      <td>11108</td>\n",
              "      <td>0</td>\n",
              "      <td>5</td>\n",
              "      <td>4069</td>\n",
              "      <td>3.0</td>\n",
              "      <td>NaN</td>\n",
              "      <td>0</td>\n",
              "      <td>0</td>\n",
              "      <td>540000</td>\n",
              "      <td>4</td>\n",
              "      <td>4.0</td>\n",
              "    </tr>\n",
              "    <tr>\n",
              "      <th>2</th>\n",
              "      <td>9920</td>\n",
              "      <td>0</td>\n",
              "      <td>5</td>\n",
              "      <td>3834</td>\n",
              "      <td>3.0</td>\n",
              "      <td>NaN</td>\n",
              "      <td>1</td>\n",
              "      <td>1</td>\n",
              "      <td>515000</td>\n",
              "      <td>23</td>\n",
              "      <td>4.0</td>\n",
              "    </tr>\n",
              "    <tr>\n",
              "      <th>3</th>\n",
              "      <td>10035</td>\n",
              "      <td>1</td>\n",
              "      <td>5</td>\n",
              "      <td>3828</td>\n",
              "      <td>3.0</td>\n",
              "      <td>NaN</td>\n",
              "      <td>1</td>\n",
              "      <td>1</td>\n",
              "      <td>495000</td>\n",
              "      <td>23</td>\n",
              "      <td>4.0</td>\n",
              "    </tr>\n",
              "    <tr>\n",
              "      <th>4</th>\n",
              "      <td>9600</td>\n",
              "      <td>1</td>\n",
              "      <td>5</td>\n",
              "      <td>3382</td>\n",
              "      <td>3.0</td>\n",
              "      <td>NaN</td>\n",
              "      <td>0</td>\n",
              "      <td>1</td>\n",
              "      <td>494700</td>\n",
              "      <td>15</td>\n",
              "      <td>4.0</td>\n",
              "    </tr>\n",
              "  </tbody>\n",
              "</table>\n",
              "</div>\n",
              "      <button class=\"colab-df-convert\" onclick=\"convertToInteractive('df-a76adde6-faff-4d6b-879f-656178231213')\"\n",
              "              title=\"Convert this dataframe to an interactive table.\"\n",
              "              style=\"display:none;\">\n",
              "        \n",
              "  <svg xmlns=\"http://www.w3.org/2000/svg\" height=\"24px\"viewBox=\"0 0 24 24\"\n",
              "       width=\"24px\">\n",
              "    <path d=\"M0 0h24v24H0V0z\" fill=\"none\"/>\n",
              "    <path d=\"M18.56 5.44l.94 2.06.94-2.06 2.06-.94-2.06-.94-.94-2.06-.94 2.06-2.06.94zm-11 1L8.5 8.5l.94-2.06 2.06-.94-2.06-.94L8.5 2.5l-.94 2.06-2.06.94zm10 10l.94 2.06.94-2.06 2.06-.94-2.06-.94-.94-2.06-.94 2.06-2.06.94z\"/><path d=\"M17.41 7.96l-1.37-1.37c-.4-.4-.92-.59-1.43-.59-.52 0-1.04.2-1.43.59L10.3 9.45l-7.72 7.72c-.78.78-.78 2.05 0 2.83L4 21.41c.39.39.9.59 1.41.59.51 0 1.02-.2 1.41-.59l7.78-7.78 2.81-2.81c.8-.78.8-2.07 0-2.86zM5.41 20L4 18.59l7.72-7.72 1.47 1.35L5.41 20z\"/>\n",
              "  </svg>\n",
              "      </button>\n",
              "      \n",
              "  <style>\n",
              "    .colab-df-container {\n",
              "      display:flex;\n",
              "      flex-wrap:wrap;\n",
              "      gap: 12px;\n",
              "    }\n",
              "\n",
              "    .colab-df-convert {\n",
              "      background-color: #E8F0FE;\n",
              "      border: none;\n",
              "      border-radius: 50%;\n",
              "      cursor: pointer;\n",
              "      display: none;\n",
              "      fill: #1967D2;\n",
              "      height: 32px;\n",
              "      padding: 0 0 0 0;\n",
              "      width: 32px;\n",
              "    }\n",
              "\n",
              "    .colab-df-convert:hover {\n",
              "      background-color: #E2EBFA;\n",
              "      box-shadow: 0px 1px 2px rgba(60, 64, 67, 0.3), 0px 1px 3px 1px rgba(60, 64, 67, 0.15);\n",
              "      fill: #174EA6;\n",
              "    }\n",
              "\n",
              "    [theme=dark] .colab-df-convert {\n",
              "      background-color: #3B4455;\n",
              "      fill: #D2E3FC;\n",
              "    }\n",
              "\n",
              "    [theme=dark] .colab-df-convert:hover {\n",
              "      background-color: #434B5C;\n",
              "      box-shadow: 0px 1px 3px 1px rgba(0, 0, 0, 0.15);\n",
              "      filter: drop-shadow(0px 1px 2px rgba(0, 0, 0, 0.3));\n",
              "      fill: #FFFFFF;\n",
              "    }\n",
              "  </style>\n",
              "\n",
              "      <script>\n",
              "        const buttonEl =\n",
              "          document.querySelector('#df-a76adde6-faff-4d6b-879f-656178231213 button.colab-df-convert');\n",
              "        buttonEl.style.display =\n",
              "          google.colab.kernel.accessAllowed ? 'block' : 'none';\n",
              "\n",
              "        async function convertToInteractive(key) {\n",
              "          const element = document.querySelector('#df-a76adde6-faff-4d6b-879f-656178231213');\n",
              "          const dataTable =\n",
              "            await google.colab.kernel.invokeFunction('convertToInteractive',\n",
              "                                                     [key], {});\n",
              "          if (!dataTable) return;\n",
              "\n",
              "          const docLinkHtml = 'Like what you see? Visit the ' +\n",
              "            '<a target=\"_blank\" href=https://colab.research.google.com/notebooks/data_table.ipynb>data table notebook</a>'\n",
              "            + ' to learn more about interactive tables.';\n",
              "          element.innerHTML = '';\n",
              "          dataTable['output_type'] = 'display_data';\n",
              "          await google.colab.output.renderOutput(dataTable, element);\n",
              "          const docLink = document.createElement('div');\n",
              "          docLink.innerHTML = docLinkHtml;\n",
              "          element.appendChild(docLink);\n",
              "        }\n",
              "      </script>\n",
              "    </div>\n",
              "  </div>\n",
              "  "
            ]
          },
          "metadata": {},
          "execution_count": 10
        }
      ]
    },
    {
      "cell_type": "markdown",
      "metadata": {
        "id": "gWNqUO2B1yHC"
      },
      "source": [
        "&nbsp;  \n",
        "&nbsp;  \n",
        "#### Now we rearrange the columns to keep the same order as the original dataset."
      ]
    },
    {
      "cell_type": "code",
      "metadata": {
        "id": "pFnEWOq1gGNd",
        "colab": {
          "base_uri": "https://localhost:8080/",
          "height": 206
        },
        "outputId": "ce7e825a-d091-4aa9-f909-bbf531bc600c"
      },
      "source": [
        "sales_df = sales_df[['Site','View','Age','Bedrooms','Bathrooms','GLA','Garage','Carport','Fireplace','Pool','Sales_Price']] #Rearrange columns\n",
        "sales_df.head()"
      ],
      "execution_count": 11,
      "outputs": [
        {
          "output_type": "execute_result",
          "data": {
            "text/plain": [
              "    Site  View  Age  Bedrooms  Bathrooms   GLA  Garage  Carport  Fireplace  \\\n",
              "0   8549     1    6         5        4.0  4439     3.0      NaN          0   \n",
              "1  11108     0    4         5        4.0  4069     3.0      NaN          0   \n",
              "2   9920     0   23         5        4.0  3834     3.0      NaN          1   \n",
              "3  10035     1   23         5        4.0  3828     3.0      NaN          1   \n",
              "4   9600     1   15         5        4.0  3382     3.0      NaN          0   \n",
              "\n",
              "   Pool  Sales_Price  \n",
              "0     1       675000  \n",
              "1     0       540000  \n",
              "2     1       515000  \n",
              "3     1       495000  \n",
              "4     1       494700  "
            ],
            "text/html": [
              "\n",
              "  <div id=\"df-34fa5e8c-3cd5-4cb9-b434-fa3d9f9bd113\">\n",
              "    <div class=\"colab-df-container\">\n",
              "      <div>\n",
              "<style scoped>\n",
              "    .dataframe tbody tr th:only-of-type {\n",
              "        vertical-align: middle;\n",
              "    }\n",
              "\n",
              "    .dataframe tbody tr th {\n",
              "        vertical-align: top;\n",
              "    }\n",
              "\n",
              "    .dataframe thead th {\n",
              "        text-align: right;\n",
              "    }\n",
              "</style>\n",
              "<table border=\"1\" class=\"dataframe\">\n",
              "  <thead>\n",
              "    <tr style=\"text-align: right;\">\n",
              "      <th></th>\n",
              "      <th>Site</th>\n",
              "      <th>View</th>\n",
              "      <th>Age</th>\n",
              "      <th>Bedrooms</th>\n",
              "      <th>Bathrooms</th>\n",
              "      <th>GLA</th>\n",
              "      <th>Garage</th>\n",
              "      <th>Carport</th>\n",
              "      <th>Fireplace</th>\n",
              "      <th>Pool</th>\n",
              "      <th>Sales_Price</th>\n",
              "    </tr>\n",
              "  </thead>\n",
              "  <tbody>\n",
              "    <tr>\n",
              "      <th>0</th>\n",
              "      <td>8549</td>\n",
              "      <td>1</td>\n",
              "      <td>6</td>\n",
              "      <td>5</td>\n",
              "      <td>4.0</td>\n",
              "      <td>4439</td>\n",
              "      <td>3.0</td>\n",
              "      <td>NaN</td>\n",
              "      <td>0</td>\n",
              "      <td>1</td>\n",
              "      <td>675000</td>\n",
              "    </tr>\n",
              "    <tr>\n",
              "      <th>1</th>\n",
              "      <td>11108</td>\n",
              "      <td>0</td>\n",
              "      <td>4</td>\n",
              "      <td>5</td>\n",
              "      <td>4.0</td>\n",
              "      <td>4069</td>\n",
              "      <td>3.0</td>\n",
              "      <td>NaN</td>\n",
              "      <td>0</td>\n",
              "      <td>0</td>\n",
              "      <td>540000</td>\n",
              "    </tr>\n",
              "    <tr>\n",
              "      <th>2</th>\n",
              "      <td>9920</td>\n",
              "      <td>0</td>\n",
              "      <td>23</td>\n",
              "      <td>5</td>\n",
              "      <td>4.0</td>\n",
              "      <td>3834</td>\n",
              "      <td>3.0</td>\n",
              "      <td>NaN</td>\n",
              "      <td>1</td>\n",
              "      <td>1</td>\n",
              "      <td>515000</td>\n",
              "    </tr>\n",
              "    <tr>\n",
              "      <th>3</th>\n",
              "      <td>10035</td>\n",
              "      <td>1</td>\n",
              "      <td>23</td>\n",
              "      <td>5</td>\n",
              "      <td>4.0</td>\n",
              "      <td>3828</td>\n",
              "      <td>3.0</td>\n",
              "      <td>NaN</td>\n",
              "      <td>1</td>\n",
              "      <td>1</td>\n",
              "      <td>495000</td>\n",
              "    </tr>\n",
              "    <tr>\n",
              "      <th>4</th>\n",
              "      <td>9600</td>\n",
              "      <td>1</td>\n",
              "      <td>15</td>\n",
              "      <td>5</td>\n",
              "      <td>4.0</td>\n",
              "      <td>3382</td>\n",
              "      <td>3.0</td>\n",
              "      <td>NaN</td>\n",
              "      <td>0</td>\n",
              "      <td>1</td>\n",
              "      <td>494700</td>\n",
              "    </tr>\n",
              "  </tbody>\n",
              "</table>\n",
              "</div>\n",
              "      <button class=\"colab-df-convert\" onclick=\"convertToInteractive('df-34fa5e8c-3cd5-4cb9-b434-fa3d9f9bd113')\"\n",
              "              title=\"Convert this dataframe to an interactive table.\"\n",
              "              style=\"display:none;\">\n",
              "        \n",
              "  <svg xmlns=\"http://www.w3.org/2000/svg\" height=\"24px\"viewBox=\"0 0 24 24\"\n",
              "       width=\"24px\">\n",
              "    <path d=\"M0 0h24v24H0V0z\" fill=\"none\"/>\n",
              "    <path d=\"M18.56 5.44l.94 2.06.94-2.06 2.06-.94-2.06-.94-.94-2.06-.94 2.06-2.06.94zm-11 1L8.5 8.5l.94-2.06 2.06-.94-2.06-.94L8.5 2.5l-.94 2.06-2.06.94zm10 10l.94 2.06.94-2.06 2.06-.94-2.06-.94-.94-2.06-.94 2.06-2.06.94z\"/><path d=\"M17.41 7.96l-1.37-1.37c-.4-.4-.92-.59-1.43-.59-.52 0-1.04.2-1.43.59L10.3 9.45l-7.72 7.72c-.78.78-.78 2.05 0 2.83L4 21.41c.39.39.9.59 1.41.59.51 0 1.02-.2 1.41-.59l7.78-7.78 2.81-2.81c.8-.78.8-2.07 0-2.86zM5.41 20L4 18.59l7.72-7.72 1.47 1.35L5.41 20z\"/>\n",
              "  </svg>\n",
              "      </button>\n",
              "      \n",
              "  <style>\n",
              "    .colab-df-container {\n",
              "      display:flex;\n",
              "      flex-wrap:wrap;\n",
              "      gap: 12px;\n",
              "    }\n",
              "\n",
              "    .colab-df-convert {\n",
              "      background-color: #E8F0FE;\n",
              "      border: none;\n",
              "      border-radius: 50%;\n",
              "      cursor: pointer;\n",
              "      display: none;\n",
              "      fill: #1967D2;\n",
              "      height: 32px;\n",
              "      padding: 0 0 0 0;\n",
              "      width: 32px;\n",
              "    }\n",
              "\n",
              "    .colab-df-convert:hover {\n",
              "      background-color: #E2EBFA;\n",
              "      box-shadow: 0px 1px 2px rgba(60, 64, 67, 0.3), 0px 1px 3px 1px rgba(60, 64, 67, 0.15);\n",
              "      fill: #174EA6;\n",
              "    }\n",
              "\n",
              "    [theme=dark] .colab-df-convert {\n",
              "      background-color: #3B4455;\n",
              "      fill: #D2E3FC;\n",
              "    }\n",
              "\n",
              "    [theme=dark] .colab-df-convert:hover {\n",
              "      background-color: #434B5C;\n",
              "      box-shadow: 0px 1px 3px 1px rgba(0, 0, 0, 0.15);\n",
              "      filter: drop-shadow(0px 1px 2px rgba(0, 0, 0, 0.3));\n",
              "      fill: #FFFFFF;\n",
              "    }\n",
              "  </style>\n",
              "\n",
              "      <script>\n",
              "        const buttonEl =\n",
              "          document.querySelector('#df-34fa5e8c-3cd5-4cb9-b434-fa3d9f9bd113 button.colab-df-convert');\n",
              "        buttonEl.style.display =\n",
              "          google.colab.kernel.accessAllowed ? 'block' : 'none';\n",
              "\n",
              "        async function convertToInteractive(key) {\n",
              "          const element = document.querySelector('#df-34fa5e8c-3cd5-4cb9-b434-fa3d9f9bd113');\n",
              "          const dataTable =\n",
              "            await google.colab.kernel.invokeFunction('convertToInteractive',\n",
              "                                                     [key], {});\n",
              "          if (!dataTable) return;\n",
              "\n",
              "          const docLinkHtml = 'Like what you see? Visit the ' +\n",
              "            '<a target=\"_blank\" href=https://colab.research.google.com/notebooks/data_table.ipynb>data table notebook</a>'\n",
              "            + ' to learn more about interactive tables.';\n",
              "          element.innerHTML = '';\n",
              "          dataTable['output_type'] = 'display_data';\n",
              "          await google.colab.output.renderOutput(dataTable, element);\n",
              "          const docLink = document.createElement('div');\n",
              "          docLink.innerHTML = docLinkHtml;\n",
              "          element.appendChild(docLink);\n",
              "        }\n",
              "      </script>\n",
              "    </div>\n",
              "  </div>\n",
              "  "
            ]
          },
          "metadata": {},
          "execution_count": 11
        }
      ]
    },
    {
      "cell_type": "markdown",
      "metadata": {
        "id": "Bd3za30l2joO"
      },
      "source": [
        "&nbsp;  \n",
        "&nbsp;  \n",
        "#### Next, we will find the null/NaN values in the dataframe."
      ]
    },
    {
      "cell_type": "code",
      "metadata": {
        "id": "2xjNbLq_Ajt9",
        "colab": {
          "base_uri": "https://localhost:8080/"
        },
        "outputId": "8b8f65d3-0b77-4dee-9621-839ec7236395"
      },
      "source": [
        "sales_df.isnull().sum()       #Find null/NaN values"
      ],
      "execution_count": 12,
      "outputs": [
        {
          "output_type": "execute_result",
          "data": {
            "text/plain": [
              "Site             0\n",
              "View             0\n",
              "Age              0\n",
              "Bedrooms         0\n",
              "Bathrooms        0\n",
              "GLA              0\n",
              "Garage           1\n",
              "Carport        203\n",
              "Fireplace        0\n",
              "Pool             0\n",
              "Sales_Price      0\n",
              "dtype: int64"
            ]
          },
          "metadata": {},
          "execution_count": 12
        }
      ]
    },
    {
      "cell_type": "markdown",
      "metadata": {
        "id": "0LQ3sGvP3N0M"
      },
      "source": [
        "&nbsp;  \n",
        "&nbsp;  \n",
        "#### Most of the null values are from the feature \"Carport\". In fact, 203 out of 210 properties have a null value for \"Carport\". We can either delete the entire column or we can fill the data points with numerical values (like 0 or a median). Since in this cases there are so many missing values, it makes sense to just delete the entire column."
      ]
    },
    {
      "cell_type": "code",
      "metadata": {
        "id": "D07tYk_SBQtf",
        "colab": {
          "base_uri": "https://localhost:8080/",
          "height": 206
        },
        "outputId": "4c1cd9fb-ec71-4156-b119-7b6db0475f83"
      },
      "source": [
        "sales_df = sales_df.drop(['Carport'], axis=1)     #Drop 'Carport' column.\n",
        "sales_df.head()"
      ],
      "execution_count": 13,
      "outputs": [
        {
          "output_type": "execute_result",
          "data": {
            "text/plain": [
              "    Site  View  Age  Bedrooms  Bathrooms   GLA  Garage  Fireplace  Pool  \\\n",
              "0   8549     1    6         5        4.0  4439     3.0          0     1   \n",
              "1  11108     0    4         5        4.0  4069     3.0          0     0   \n",
              "2   9920     0   23         5        4.0  3834     3.0          1     1   \n",
              "3  10035     1   23         5        4.0  3828     3.0          1     1   \n",
              "4   9600     1   15         5        4.0  3382     3.0          0     1   \n",
              "\n",
              "   Sales_Price  \n",
              "0       675000  \n",
              "1       540000  \n",
              "2       515000  \n",
              "3       495000  \n",
              "4       494700  "
            ],
            "text/html": [
              "\n",
              "  <div id=\"df-6119e158-b33c-4966-9ca6-e0105961fd0d\">\n",
              "    <div class=\"colab-df-container\">\n",
              "      <div>\n",
              "<style scoped>\n",
              "    .dataframe tbody tr th:only-of-type {\n",
              "        vertical-align: middle;\n",
              "    }\n",
              "\n",
              "    .dataframe tbody tr th {\n",
              "        vertical-align: top;\n",
              "    }\n",
              "\n",
              "    .dataframe thead th {\n",
              "        text-align: right;\n",
              "    }\n",
              "</style>\n",
              "<table border=\"1\" class=\"dataframe\">\n",
              "  <thead>\n",
              "    <tr style=\"text-align: right;\">\n",
              "      <th></th>\n",
              "      <th>Site</th>\n",
              "      <th>View</th>\n",
              "      <th>Age</th>\n",
              "      <th>Bedrooms</th>\n",
              "      <th>Bathrooms</th>\n",
              "      <th>GLA</th>\n",
              "      <th>Garage</th>\n",
              "      <th>Fireplace</th>\n",
              "      <th>Pool</th>\n",
              "      <th>Sales_Price</th>\n",
              "    </tr>\n",
              "  </thead>\n",
              "  <tbody>\n",
              "    <tr>\n",
              "      <th>0</th>\n",
              "      <td>8549</td>\n",
              "      <td>1</td>\n",
              "      <td>6</td>\n",
              "      <td>5</td>\n",
              "      <td>4.0</td>\n",
              "      <td>4439</td>\n",
              "      <td>3.0</td>\n",
              "      <td>0</td>\n",
              "      <td>1</td>\n",
              "      <td>675000</td>\n",
              "    </tr>\n",
              "    <tr>\n",
              "      <th>1</th>\n",
              "      <td>11108</td>\n",
              "      <td>0</td>\n",
              "      <td>4</td>\n",
              "      <td>5</td>\n",
              "      <td>4.0</td>\n",
              "      <td>4069</td>\n",
              "      <td>3.0</td>\n",
              "      <td>0</td>\n",
              "      <td>0</td>\n",
              "      <td>540000</td>\n",
              "    </tr>\n",
              "    <tr>\n",
              "      <th>2</th>\n",
              "      <td>9920</td>\n",
              "      <td>0</td>\n",
              "      <td>23</td>\n",
              "      <td>5</td>\n",
              "      <td>4.0</td>\n",
              "      <td>3834</td>\n",
              "      <td>3.0</td>\n",
              "      <td>1</td>\n",
              "      <td>1</td>\n",
              "      <td>515000</td>\n",
              "    </tr>\n",
              "    <tr>\n",
              "      <th>3</th>\n",
              "      <td>10035</td>\n",
              "      <td>1</td>\n",
              "      <td>23</td>\n",
              "      <td>5</td>\n",
              "      <td>4.0</td>\n",
              "      <td>3828</td>\n",
              "      <td>3.0</td>\n",
              "      <td>1</td>\n",
              "      <td>1</td>\n",
              "      <td>495000</td>\n",
              "    </tr>\n",
              "    <tr>\n",
              "      <th>4</th>\n",
              "      <td>9600</td>\n",
              "      <td>1</td>\n",
              "      <td>15</td>\n",
              "      <td>5</td>\n",
              "      <td>4.0</td>\n",
              "      <td>3382</td>\n",
              "      <td>3.0</td>\n",
              "      <td>0</td>\n",
              "      <td>1</td>\n",
              "      <td>494700</td>\n",
              "    </tr>\n",
              "  </tbody>\n",
              "</table>\n",
              "</div>\n",
              "      <button class=\"colab-df-convert\" onclick=\"convertToInteractive('df-6119e158-b33c-4966-9ca6-e0105961fd0d')\"\n",
              "              title=\"Convert this dataframe to an interactive table.\"\n",
              "              style=\"display:none;\">\n",
              "        \n",
              "  <svg xmlns=\"http://www.w3.org/2000/svg\" height=\"24px\"viewBox=\"0 0 24 24\"\n",
              "       width=\"24px\">\n",
              "    <path d=\"M0 0h24v24H0V0z\" fill=\"none\"/>\n",
              "    <path d=\"M18.56 5.44l.94 2.06.94-2.06 2.06-.94-2.06-.94-.94-2.06-.94 2.06-2.06.94zm-11 1L8.5 8.5l.94-2.06 2.06-.94-2.06-.94L8.5 2.5l-.94 2.06-2.06.94zm10 10l.94 2.06.94-2.06 2.06-.94-2.06-.94-.94-2.06-.94 2.06-2.06.94z\"/><path d=\"M17.41 7.96l-1.37-1.37c-.4-.4-.92-.59-1.43-.59-.52 0-1.04.2-1.43.59L10.3 9.45l-7.72 7.72c-.78.78-.78 2.05 0 2.83L4 21.41c.39.39.9.59 1.41.59.51 0 1.02-.2 1.41-.59l7.78-7.78 2.81-2.81c.8-.78.8-2.07 0-2.86zM5.41 20L4 18.59l7.72-7.72 1.47 1.35L5.41 20z\"/>\n",
              "  </svg>\n",
              "      </button>\n",
              "      \n",
              "  <style>\n",
              "    .colab-df-container {\n",
              "      display:flex;\n",
              "      flex-wrap:wrap;\n",
              "      gap: 12px;\n",
              "    }\n",
              "\n",
              "    .colab-df-convert {\n",
              "      background-color: #E8F0FE;\n",
              "      border: none;\n",
              "      border-radius: 50%;\n",
              "      cursor: pointer;\n",
              "      display: none;\n",
              "      fill: #1967D2;\n",
              "      height: 32px;\n",
              "      padding: 0 0 0 0;\n",
              "      width: 32px;\n",
              "    }\n",
              "\n",
              "    .colab-df-convert:hover {\n",
              "      background-color: #E2EBFA;\n",
              "      box-shadow: 0px 1px 2px rgba(60, 64, 67, 0.3), 0px 1px 3px 1px rgba(60, 64, 67, 0.15);\n",
              "      fill: #174EA6;\n",
              "    }\n",
              "\n",
              "    [theme=dark] .colab-df-convert {\n",
              "      background-color: #3B4455;\n",
              "      fill: #D2E3FC;\n",
              "    }\n",
              "\n",
              "    [theme=dark] .colab-df-convert:hover {\n",
              "      background-color: #434B5C;\n",
              "      box-shadow: 0px 1px 3px 1px rgba(0, 0, 0, 0.15);\n",
              "      filter: drop-shadow(0px 1px 2px rgba(0, 0, 0, 0.3));\n",
              "      fill: #FFFFFF;\n",
              "    }\n",
              "  </style>\n",
              "\n",
              "      <script>\n",
              "        const buttonEl =\n",
              "          document.querySelector('#df-6119e158-b33c-4966-9ca6-e0105961fd0d button.colab-df-convert');\n",
              "        buttonEl.style.display =\n",
              "          google.colab.kernel.accessAllowed ? 'block' : 'none';\n",
              "\n",
              "        async function convertToInteractive(key) {\n",
              "          const element = document.querySelector('#df-6119e158-b33c-4966-9ca6-e0105961fd0d');\n",
              "          const dataTable =\n",
              "            await google.colab.kernel.invokeFunction('convertToInteractive',\n",
              "                                                     [key], {});\n",
              "          if (!dataTable) return;\n",
              "\n",
              "          const docLinkHtml = 'Like what you see? Visit the ' +\n",
              "            '<a target=\"_blank\" href=https://colab.research.google.com/notebooks/data_table.ipynb>data table notebook</a>'\n",
              "            + ' to learn more about interactive tables.';\n",
              "          element.innerHTML = '';\n",
              "          dataTable['output_type'] = 'display_data';\n",
              "          await google.colab.output.renderOutput(dataTable, element);\n",
              "          const docLink = document.createElement('div');\n",
              "          docLink.innerHTML = docLinkHtml;\n",
              "          element.appendChild(docLink);\n",
              "        }\n",
              "      </script>\n",
              "    </div>\n",
              "  </div>\n",
              "  "
            ]
          },
          "metadata": {},
          "execution_count": 13
        }
      ]
    },
    {
      "cell_type": "markdown",
      "metadata": {
        "id": "W50cyt-i5dkD"
      },
      "source": [
        "&nbsp;  \n",
        "&nbsp;  \n",
        "#### Let's check for null values again"
      ]
    },
    {
      "cell_type": "code",
      "metadata": {
        "id": "LxZSjW9MUQU8",
        "colab": {
          "base_uri": "https://localhost:8080/"
        },
        "outputId": "73e1a08e-6bac-42f5-ba51-fa255d8c4841"
      },
      "source": [
        "sales_df.isnull().sum()     #Find null/NaN values"
      ],
      "execution_count": 14,
      "outputs": [
        {
          "output_type": "execute_result",
          "data": {
            "text/plain": [
              "Site           0\n",
              "View           0\n",
              "Age            0\n",
              "Bedrooms       0\n",
              "Bathrooms      0\n",
              "GLA            0\n",
              "Garage         1\n",
              "Fireplace      0\n",
              "Pool           0\n",
              "Sales_Price    0\n",
              "dtype: int64"
            ]
          },
          "metadata": {},
          "execution_count": 14
        }
      ]
    },
    {
      "cell_type": "markdown",
      "metadata": {
        "id": "gKF90hYO5l0y"
      },
      "source": [
        "&nbsp;\n",
        "&nbsp;\n",
        "#### We took care of the \"Carport\" column. \n",
        "#### Now, there is one property with a null value for \"Garage\". But, since this time it is only one value, it wouldn't be a good idea to delete the entire column and potentially lose a lot of relevant data. Instead, we are going to fill that data point with a number. In this case we use the number 0 because, most likely, this property has no garage."
      ]
    },
    {
      "cell_type": "code",
      "metadata": {
        "colab": {
          "base_uri": "https://localhost:8080/"
        },
        "id": "uba7ruYiExD-",
        "outputId": "8fdbd08c-c876-40bd-e9a1-98eb76cebafb"
      },
      "source": [
        "sales_df = sales_df.fillna(0)   #Fill null values with a 0\n",
        "\n",
        "sales_df.isnull().sum()         #Find null/NaN values"
      ],
      "execution_count": 15,
      "outputs": [
        {
          "output_type": "execute_result",
          "data": {
            "text/plain": [
              "Site           0\n",
              "View           0\n",
              "Age            0\n",
              "Bedrooms       0\n",
              "Bathrooms      0\n",
              "GLA            0\n",
              "Garage         0\n",
              "Fireplace      0\n",
              "Pool           0\n",
              "Sales_Price    0\n",
              "dtype: int64"
            ]
          },
          "metadata": {},
          "execution_count": 15
        }
      ]
    },
    {
      "cell_type": "markdown",
      "metadata": {
        "id": "d-pydmwK6_0P"
      },
      "source": [
        "&nbsp;  \n",
        "#### At this point there are no more null values and all of the data types are numeric. It is time to create some visualizations."
      ]
    },
    {
      "cell_type": "markdown",
      "metadata": {
        "id": "9PsL8UyGDCgU"
      },
      "source": [
        "&nbsp;  \n",
        "&nbsp;  \n",
        "&nbsp;  \n",
        "#### **VISUALIZATIONS**"
      ]
    },
    {
      "cell_type": "markdown",
      "metadata": {
        "id": "tbMfN0hr_W7l"
      },
      "source": [
        "#### The first visualization we are going to try is the Histogram of Sales Prices using matplotlib."
      ]
    },
    {
      "cell_type": "code",
      "metadata": {
        "id": "UMG2UcOF5JK_",
        "colab": {
          "base_uri": "https://localhost:8080/",
          "height": 265
        },
        "outputId": "42913ce4-59e7-4647-de0d-51406a6746d7"
      },
      "source": [
        "sales_df['Sales_Price'].plot(kind='hist')   #Simple Histogram\n",
        "plt.show()"
      ],
      "execution_count": 16,
      "outputs": [
        {
          "output_type": "display_data",
          "data": {
            "text/plain": [
              "<Figure size 432x288 with 1 Axes>"
            ],
            "image/png": "[encoded data removed]"
          },
          "metadata": {
            "needs_background": "light"
          }
        }
      ]
    },
    {
      "cell_type": "markdown",
      "metadata": {
        "id": "Ckyf6EejAAis"
      },
      "source": [
        "#### The histogram shown above provides information about the distribution of sales prices. However, if we want to use it for a report, it is probably better if we customize it to make more readible and visually appealing."
      ]
    },
    {
      "cell_type": "code",
      "metadata": {
        "colab": {
          "base_uri": "https://localhost:8080/",
          "height": 639
        },
        "id": "Ed1PBsRC_p1K",
        "outputId": "c406df8c-fb52-47fd-9a8d-a0dd6f601b1f"
      },
      "source": [
        "sales_df['Sales_Price'].plot(kind='hist', figsize=(12,10), edgecolor='black', linewidth=1) \n",
        "plt.title('Histogram - Sales Price',fontsize=20)\n",
        "plt.xlabel('Sales Price',fontsize=18)\n",
        "plt.ylabel('Frequency (# of Properties)',fontsize=18)\n",
        "plt.xticks(fontsize=14)\n",
        "plt.yticks(fontsize=14)\n",
        "plt.show()"
      ],
      "execution_count": 17,
      "outputs": [
        {
          "output_type": "display_data",
          "data": {
            "text/plain": [
              "<Figure size 864x720 with 1 Axes>"
            ],
            "image/png": "[encoded data removed]"
          },
          "metadata": {
            "needs_background": "light"
          }
        }
      ]
    },
    {
      "cell_type": "markdown",
      "metadata": {
        "id": "dBrjqFmUChmd"
      },
      "source": [
        "#### Histograms are highly customizable. Read the library documentation to learn more about this and other visualizations with matplotlib (https://matplotlib.org)"
      ]
    },
    {
      "cell_type": "markdown",
      "metadata": {
        "id": "O26zhYWxC5TZ"
      },
      "source": [
        "&nbsp;  \n",
        "&nbsp;  \n",
        "#### Let's try another histogram. Now we are going to use \"GLA\".\n",
        "#### We are also going to try a different color (lightblue)."
      ]
    },
    {
      "cell_type": "code",
      "metadata": {
        "id": "ERLV9hZd5OXx",
        "colab": {
          "base_uri": "https://localhost:8080/",
          "height": 639
        },
        "outputId": "9d509bb6-6b4c-4384-a407-c96d21d155a2"
      },
      "source": [
        "sales_df['GLA'].plot(kind='hist', figsize=(12,10),color='lightblue',edgecolor='black', linewidth=1)\n",
        "plt.title('Histogram - GLA (Gross Living Area)',fontsize=20)\n",
        "plt.xlabel('GLA (Gross Living Area)',fontsize=18)\n",
        "plt.ylabel('Frequency (# of Properties)',fontsize=18)\n",
        "plt.xticks(fontsize=14)\n",
        "plt.yticks(fontsize=14)\n",
        "plt.show()\n"
      ],
      "execution_count": 18,
      "outputs": [
        {
          "output_type": "display_data",
          "data": {
            "text/plain": [
              "<Figure size 864x720 with 1 Axes>"
            ],
            "image/png": "[encoded data removed]"
          },
          "metadata": {
            "needs_background": "light"
          }
        }
      ]
    },
    {
      "cell_type": "markdown",
      "metadata": {
        "id": "5VSDZQ2eEfde"
      },
      "source": [
        "&nbsp;  \n",
        "&nbsp;  \n",
        "#### For next histogram we will use \"Age\". We will try another color (darkseagreen)"
      ]
    },
    {
      "cell_type": "code",
      "metadata": {
        "id": "CezdQGF65ZTe",
        "colab": {
          "base_uri": "https://localhost:8080/",
          "height": 639
        },
        "outputId": "d2edbe6e-5cb7-4e27-bcf6-6457b61c11bf"
      },
      "source": [
        "sales_df['Age'].plot(kind='hist',figsize=(12,10),color='darkseagreen',edgecolor='black', linewidth=1)\n",
        "plt.title('Histogram - Age',fontsize=20)\n",
        "plt.xlabel('Age',fontsize=18)\n",
        "plt.ylabel('Frequency (# of Properties)',fontsize=18)\n",
        "plt.xticks(fontsize=14)\n",
        "plt.yticks(fontsize=14)\n",
        "plt.show()\n"
      ],
      "execution_count": 19,
      "outputs": [
        {
          "output_type": "display_data",
          "data": {
            "text/plain": [
              "<Figure size 864x720 with 1 Axes>"
            ],
            "image/png": "[encoded data removed]"
          },
          "metadata": {
            "needs_background": "light"
          }
        }
      ]
    },
    {
      "cell_type": "markdown",
      "metadata": {
        "id": "MJe92ea2HMAM"
      },
      "source": [
        "&nbsp;  \n",
        "&nbsp;  \n",
        "&nbsp; \n",
        "#### Next, we are going to create a scatterplot of \"GLA\" and \"Sales Price\". This is one of the favorite visualizations among residential appraisers. To create the scatterplot we will be using the seaborn library (For more information read the documentation at https://seaborn.pydata.org/)"
      ]
    },
    {
      "cell_type": "code",
      "metadata": {
        "colab": {
          "base_uri": "https://localhost:8080/",
          "height": 634
        },
        "id": "pPj12tDOHMfc",
        "outputId": "eaf7c6c8-8f91-4d4d-f320-3b2b9872c23e"
      },
      "source": [
        "plt.figure(figsize=(10,10))\n",
        "sns.regplot(x='GLA', y='Sales_Price', data=sales_df)\n",
        "plt.title('GLA and Sales Prices',fontsize=20)\n",
        "plt.xlabel('GLA',fontsize=14)\n",
        "plt.ylabel('Sales Price',fontsize=14)\n",
        "plt.xticks(fontsize=12)\n",
        "plt.yticks(fontsize=12)\n",
        "plt.show()"
      ],
      "execution_count": 20,
      "outputs": [
        {
          "output_type": "display_data",
          "data": {
            "text/plain": [
              "<Figure size 720x720 with 1 Axes>"
            ],
            "image/png": "[encoded data removed]"
          },
          "metadata": {
            "needs_background": "light"
          }
        }
      ]
    },
    {
      "cell_type": "markdown",
      "metadata": {
        "id": "yLvAnJfaIh3i"
      },
      "source": [
        "&nbsp; \n",
        "&nbsp; \n",
        "#### Let's try a scatterplot of \"Site\" and \"Sales Price\"."
      ]
    },
    {
      "cell_type": "code",
      "metadata": {
        "colab": {
          "base_uri": "https://localhost:8080/",
          "height": 634
        },
        "id": "9La6mpuZIxQq",
        "outputId": "417028f3-5d75-467c-df76-bc848a898cd3"
      },
      "source": [
        "plt.figure(figsize=(10,10))\n",
        "sns.regplot(x='Site', y='Sales_Price', data=sales_df)\n",
        "plt.title('Site and Sales Prices',fontsize=20)\n",
        "plt.xlabel('Site',fontsize=14)\n",
        "plt.ylabel('Sales Price',fontsize=14)\n",
        "plt.xticks(fontsize=12)\n",
        "plt.yticks(fontsize=12)\n",
        "plt.show()\n",
        "plt.show()"
      ],
      "execution_count": 21,
      "outputs": [
        {
          "output_type": "display_data",
          "data": {
            "text/plain": [
              "<Figure size 720x720 with 1 Axes>"
            ],
            "image/png": "[encoded data removed]"
          },
          "metadata": {
            "needs_background": "light"
          }
        }
      ]
    },
    {
      "cell_type": "markdown",
      "metadata": {
        "id": "eoD6zjDYR7al"
      },
      "source": [
        "&nbsp; \n",
        "&nbsp; \n",
        "\n",
        "&nbsp;  \n",
        "#### A great visualization to show the correlation between features (correlation matrix) is the heatmap.\n",
        "#### Let's take a quick look at the correlation matrix"
      ]
    },
    {
      "cell_type": "code",
      "metadata": {
        "id": "6vvoPzcakzVn",
        "colab": {
          "base_uri": "https://localhost:8080/",
          "height": 363
        },
        "outputId": "5f2ee662-57b1-498c-f033-9ed0ce9bc509"
      },
      "source": [
        "sales_df.corr()     #Run correlation matrix"
      ],
      "execution_count": 22,
      "outputs": [
        {
          "output_type": "execute_result",
          "data": {
            "text/plain": [
              "                 Site      View       Age  Bedrooms  Bathrooms       GLA  \\\n",
              "Site         1.000000 -0.250851 -0.047395  0.377349   0.396751  0.466039   \n",
              "View        -0.250851  1.000000 -0.037876  0.024390   0.076089 -0.006968   \n",
              "Age         -0.047395 -0.037876  1.000000 -0.313767  -0.412013 -0.472071   \n",
              "Bedrooms     0.377349  0.024390 -0.313767  1.000000   0.644415  0.712319   \n",
              "Bathrooms    0.396751  0.076089 -0.412013  0.644415   1.000000  0.835726   \n",
              "GLA          0.466039 -0.006968 -0.472071  0.712319   0.835726  1.000000   \n",
              "Garage       0.057883 -0.035697  0.001644  0.042926   0.072859 -0.012028   \n",
              "Fireplace    0.124235  0.150430  0.206450  0.100129   0.162889  0.121182   \n",
              "Pool         0.357358  0.033979  0.114419  0.283967   0.237168  0.269489   \n",
              "Sales_Price  0.485549  0.064961 -0.425663  0.668227   0.789761  0.903643   \n",
              "\n",
              "               Garage  Fireplace      Pool  Sales_Price  \n",
              "Site         0.057883   0.124235  0.357358     0.485549  \n",
              "View        -0.035697   0.150430  0.033979     0.064961  \n",
              "Age          0.001644   0.206450  0.114419    -0.425663  \n",
              "Bedrooms     0.042926   0.100129  0.283967     0.668227  \n",
              "Bathrooms    0.072859   0.162889  0.237168     0.789761  \n",
              "GLA         -0.012028   0.121182  0.269489     0.903643  \n",
              "Garage       1.000000  -0.026790 -0.045061    -0.012330  \n",
              "Fireplace   -0.026790   1.000000  0.277564     0.168883  \n",
              "Pool        -0.045061   0.277564  1.000000     0.412499  \n",
              "Sales_Price -0.012330   0.168883  0.412499     1.000000  "
            ],
            "text/html": [
              "\n",
              "  <div id=\"df-d9bcc278-a96d-4833-948c-a25e6524439b\">\n",
              "    <div class=\"colab-df-container\">\n",
              "      <div>\n",
              "<style scoped>\n",
              "    .dataframe tbody tr th:only-of-type {\n",
              "        vertical-align: middle;\n",
              "    }\n",
              "\n",
              "    .dataframe tbody tr th {\n",
              "        vertical-align: top;\n",
              "    }\n",
              "\n",
              "    .dataframe thead th {\n",
              "        text-align: right;\n",
              "    }\n",
              "</style>\n",
              "<table border=\"1\" class=\"dataframe\">\n",
              "  <thead>\n",
              "    <tr style=\"text-align: right;\">\n",
              "      <th></th>\n",
              "      <th>Site</th>\n",
              "      <th>View</th>\n",
              "      <th>Age</th>\n",
              "      <th>Bedrooms</th>\n",
              "      <th>Bathrooms</th>\n",
              "      <th>GLA</th>\n",
              "      <th>Garage</th>\n",
              "      <th>Fireplace</th>\n",
              "      <th>Pool</th>\n",
              "      <th>Sales_Price</th>\n",
              "    </tr>\n",
              "  </thead>\n",
              "  <tbody>\n",
              "    <tr>\n",
              "      <th>Site</th>\n",
              "      <td>1.000000</td>\n",
              "      <td>-0.250851</td>\n",
              "      <td>-0.047395</td>\n",
              "      <td>0.377349</td>\n",
              "      <td>0.396751</td>\n",
              "      <td>0.466039</td>\n",
              "      <td>0.057883</td>\n",
              "      <td>0.124235</td>\n",
              "      <td>0.357358</td>\n",
              "      <td>0.485549</td>\n",
              "    </tr>\n",
              "    <tr>\n",
              "      <th>View</th>\n",
              "      <td>-0.250851</td>\n",
              "      <td>1.000000</td>\n",
              "      <td>-0.037876</td>\n",
              "      <td>0.024390</td>\n",
              "      <td>0.076089</td>\n",
              "      <td>-0.006968</td>\n",
              "      <td>-0.035697</td>\n",
              "      <td>0.150430</td>\n",
              "      <td>0.033979</td>\n",
              "      <td>0.064961</td>\n",
              "    </tr>\n",
              "    <tr>\n",
              "      <th>Age</th>\n",
              "      <td>-0.047395</td>\n",
              "      <td>-0.037876</td>\n",
              "      <td>1.000000</td>\n",
              "      <td>-0.313767</td>\n",
              "      <td>-0.412013</td>\n",
              "      <td>-0.472071</td>\n",
              "      <td>0.001644</td>\n",
              "      <td>0.206450</td>\n",
              "      <td>0.114419</td>\n",
              "      <td>-0.425663</td>\n",
              "    </tr>\n",
              "    <tr>\n",
              "      <th>Bedrooms</th>\n",
              "      <td>0.377349</td>\n",
              "      <td>0.024390</td>\n",
              "      <td>-0.313767</td>\n",
              "      <td>1.000000</td>\n",
              "      <td>0.644415</td>\n",
              "      <td>0.712319</td>\n",
              "      <td>0.042926</td>\n",
              "      <td>0.100129</td>\n",
              "      <td>0.283967</td>\n",
              "      <td>0.668227</td>\n",
              "    </tr>\n",
              "    <tr>\n",
              "      <th>Bathrooms</th>\n",
              "      <td>0.396751</td>\n",
              "      <td>0.076089</td>\n",
              "      <td>-0.412013</td>\n",
              "      <td>0.644415</td>\n",
              "      <td>1.000000</td>\n",
              "      <td>0.835726</td>\n",
              "      <td>0.072859</td>\n",
              "      <td>0.162889</td>\n",
              "      <td>0.237168</td>\n",
              "      <td>0.789761</td>\n",
              "    </tr>\n",
              "    <tr>\n",
              "      <th>GLA</th>\n",
              "      <td>0.466039</td>\n",
              "      <td>-0.006968</td>\n",
              "      <td>-0.472071</td>\n",
              "      <td>0.712319</td>\n",
              "      <td>0.835726</td>\n",
              "      <td>1.000000</td>\n",
              "      <td>-0.012028</td>\n",
              "      <td>0.121182</td>\n",
              "      <td>0.269489</td>\n",
              "      <td>0.903643</td>\n",
              "    </tr>\n",
              "    <tr>\n",
              "      <th>Garage</th>\n",
              "      <td>0.057883</td>\n",
              "      <td>-0.035697</td>\n",
              "      <td>0.001644</td>\n",
              "      <td>0.042926</td>\n",
              "      <td>0.072859</td>\n",
              "      <td>-0.012028</td>\n",
              "      <td>1.000000</td>\n",
              "      <td>-0.026790</td>\n",
              "      <td>-0.045061</td>\n",
              "      <td>-0.012330</td>\n",
              "    </tr>\n",
              "    <tr>\n",
              "      <th>Fireplace</th>\n",
              "      <td>0.124235</td>\n",
              "      <td>0.150430</td>\n",
              "      <td>0.206450</td>\n",
              "      <td>0.100129</td>\n",
              "      <td>0.162889</td>\n",
              "      <td>0.121182</td>\n",
              "      <td>-0.026790</td>\n",
              "      <td>1.000000</td>\n",
              "      <td>0.277564</td>\n",
              "      <td>0.168883</td>\n",
              "    </tr>\n",
              "    <tr>\n",
              "      <th>Pool</th>\n",
              "      <td>0.357358</td>\n",
              "      <td>0.033979</td>\n",
              "      <td>0.114419</td>\n",
              "      <td>0.283967</td>\n",
              "      <td>0.237168</td>\n",
              "      <td>0.269489</td>\n",
              "      <td>-0.045061</td>\n",
              "      <td>0.277564</td>\n",
              "      <td>1.000000</td>\n",
              "      <td>0.412499</td>\n",
              "    </tr>\n",
              "    <tr>\n",
              "      <th>Sales_Price</th>\n",
              "      <td>0.485549</td>\n",
              "      <td>0.064961</td>\n",
              "      <td>-0.425663</td>\n",
              "      <td>0.668227</td>\n",
              "      <td>0.789761</td>\n",
              "      <td>0.903643</td>\n",
              "      <td>-0.012330</td>\n",
              "      <td>0.168883</td>\n",
              "      <td>0.412499</td>\n",
              "      <td>1.000000</td>\n",
              "    </tr>\n",
              "  </tbody>\n",
              "</table>\n",
              "</div>\n",
              "      <button class=\"colab-df-convert\" onclick=\"convertToInteractive('df-d9bcc278-a96d-4833-948c-a25e6524439b')\"\n",
              "              title=\"Convert this dataframe to an interactive table.\"\n",
              "              style=\"display:none;\">\n",
              "        \n",
              "  <svg xmlns=\"http://www.w3.org/2000/svg\" height=\"24px\"viewBox=\"0 0 24 24\"\n",
              "       width=\"24px\">\n",
              "    <path d=\"M0 0h24v24H0V0z\" fill=\"none\"/>\n",
              "    <path d=\"M18.56 5.44l.94 2.06.94-2.06 2.06-.94-2.06-.94-.94-2.06-.94 2.06-2.06.94zm-11 1L8.5 8.5l.94-2.06 2.06-.94-2.06-.94L8.5 2.5l-.94 2.06-2.06.94zm10 10l.94 2.06.94-2.06 2.06-.94-2.06-.94-.94-2.06-.94 2.06-2.06.94z\"/><path d=\"M17.41 7.96l-1.37-1.37c-.4-.4-.92-.59-1.43-.59-.52 0-1.04.2-1.43.59L10.3 9.45l-7.72 7.72c-.78.78-.78 2.05 0 2.83L4 21.41c.39.39.9.59 1.41.59.51 0 1.02-.2 1.41-.59l7.78-7.78 2.81-2.81c.8-.78.8-2.07 0-2.86zM5.41 20L4 18.59l7.72-7.72 1.47 1.35L5.41 20z\"/>\n",
              "  </svg>\n",
              "      </button>\n",
              "      \n",
              "  <style>\n",
              "    .colab-df-container {\n",
              "      display:flex;\n",
              "      flex-wrap:wrap;\n",
              "      gap: 12px;\n",
              "    }\n",
              "\n",
              "    .colab-df-convert {\n",
              "      background-color: #E8F0FE;\n",
              "      border: none;\n",
              "      border-radius: 50%;\n",
              "      cursor: pointer;\n",
              "      display: none;\n",
              "      fill: #1967D2;\n",
              "      height: 32px;\n",
              "      padding: 0 0 0 0;\n",
              "      width: 32px;\n",
              "    }\n",
              "\n",
              "    .colab-df-convert:hover {\n",
              "      background-color: #E2EBFA;\n",
              "      box-shadow: 0px 1px 2px rgba(60, 64, 67, 0.3), 0px 1px 3px 1px rgba(60, 64, 67, 0.15);\n",
              "      fill: #174EA6;\n",
              "    }\n",
              "\n",
              "    [theme=dark] .colab-df-convert {\n",
              "      background-color: #3B4455;\n",
              "      fill: #D2E3FC;\n",
              "    }\n",
              "\n",
              "    [theme=dark] .colab-df-convert:hover {\n",
              "      background-color: #434B5C;\n",
              "      box-shadow: 0px 1px 3px 1px rgba(0, 0, 0, 0.15);\n",
              "      filter: drop-shadow(0px 1px 2px rgba(0, 0, 0, 0.3));\n",
              "      fill: #FFFFFF;\n",
              "    }\n",
              "  </style>\n",
              "\n",
              "      <script>\n",
              "        const buttonEl =\n",
              "          document.querySelector('#df-d9bcc278-a96d-4833-948c-a25e6524439b button.colab-df-convert');\n",
              "        buttonEl.style.display =\n",
              "          google.colab.kernel.accessAllowed ? 'block' : 'none';\n",
              "\n",
              "        async function convertToInteractive(key) {\n",
              "          const element = document.querySelector('#df-d9bcc278-a96d-4833-948c-a25e6524439b');\n",
              "          const dataTable =\n",
              "            await google.colab.kernel.invokeFunction('convertToInteractive',\n",
              "                                                     [key], {});\n",
              "          if (!dataTable) return;\n",
              "\n",
              "          const docLinkHtml = 'Like what you see? Visit the ' +\n",
              "            '<a target=\"_blank\" href=https://colab.research.google.com/notebooks/data_table.ipynb>data table notebook</a>'\n",
              "            + ' to learn more about interactive tables.';\n",
              "          element.innerHTML = '';\n",
              "          dataTable['output_type'] = 'display_data';\n",
              "          await google.colab.output.renderOutput(dataTable, element);\n",
              "          const docLink = document.createElement('div');\n",
              "          docLink.innerHTML = docLinkHtml;\n",
              "          element.appendChild(docLink);\n",
              "        }\n",
              "      </script>\n",
              "    </div>\n",
              "  </div>\n",
              "  "
            ]
          },
          "metadata": {},
          "execution_count": 22
        }
      ]
    },
    {
      "cell_type": "markdown",
      "metadata": {
        "id": "8nLjLjovSbNN"
      },
      "source": [
        "&nbsp;  \n",
        "&nbsp;\n",
        "#### Next, we create a heatmap to visualize the correlation matrix."
      ]
    },
    {
      "cell_type": "code",
      "metadata": {
        "id": "GGbW_pxpl3t_",
        "colab": {
          "base_uri": "https://localhost:8080/",
          "height": 604
        },
        "outputId": "d24868b2-9bf3-4401-d283-14da8091ca2a"
      },
      "source": [
        "plt.figure(figsize=(12,10))\n",
        "\n",
        "sns.heatmap(sales_df.corr(),linewidths = 0.25,square = True,cmap = 'coolwarm',linecolor = 'black',annot= True);\n",
        "\n",
        "plt.title(\"Correlation Matrix\",fontsize=18)\n",
        "plt.xticks(fontsize=10)\n",
        "plt.yticks(fontsize=10)\n",
        "\n",
        "plt.show()\n"
      ],
      "execution_count": 23,
      "outputs": [
        {
          "output_type": "display_data",
          "data": {
            "text/plain": [
              "<Figure size 864x720 with 2 Axes>"
            ],
            "image/png": "[encoded data removed]"
          },
          "metadata": {
            "needs_background": "light"
          }
        }
      ]
    },
    {
      "cell_type": "markdown",
      "metadata": {
        "id": "uOEzdFYFUjDP"
      },
      "source": [
        "&nbsp;   \n",
        "#### The previous visualizations are only a few of the many kinds of visualizations that can be used to explore a dataset. To learn more about the matplotlib and seaborn libraries please refer to the documentation.\n",
        "#### https://matplotlib.org \n",
        "#### https://seaborn.pydata.org/ \n"
      ]
    },
    {
      "cell_type": "markdown",
      "metadata": {
        "id": "v1Gq621XSZ2w"
      },
      "source": [
        "&nbsp;  \n",
        "&nbsp;\n",
        "#### It is time to start working on the regression models (Linear Regression and Decision Tree Regression).\n"
      ]
    },
    {
      "cell_type": "markdown",
      "metadata": {
        "id": "kZqbTAJ9B82B"
      },
      "source": [
        "#### **MODELS**"
      ]
    },
    {
      "cell_type": "markdown",
      "metadata": {
        "id": "iApM6WL7I2a8"
      },
      "source": [
        "#### First, we import the libraries we are going to be using."
      ]
    },
    {
      "cell_type": "code",
      "metadata": {
        "id": "PQ8PopDAIxik"
      },
      "source": [
        "from sklearn.model_selection import train_test_split\n",
        "from sklearn.linear_model import LinearRegression\n",
        "from sklearn.tree import DecisionTreeRegressor\n",
        "from sklearn.metrics import mean_absolute_error"
      ],
      "execution_count": 24,
      "outputs": []
    },
    {
      "cell_type": "markdown",
      "metadata": {
        "id": "2GGxPVepHzuO"
      },
      "source": [
        "&nbsp;  \n",
        "&nbsp;  \n",
        "#### Before running the linear regression and the decision tree regression we must define the predicting features (Site, View, Age, Bedrooms, Bathrooms, GLA, Garage, Fireplace, and Pool) as 'X' and the target feature (Sales Prices) as 'y'."
      ]
    },
    {
      "cell_type": "code",
      "metadata": {
        "id": "9Jtw44jMPjGR"
      },
      "source": [
        "X = sales_df.iloc[:,:-1]      #Define predicting features, X\n",
        "y = sales_df.iloc[:,-1]       #Define target, y"
      ],
      "execution_count": 25,
      "outputs": []
    },
    {
      "cell_type": "markdown",
      "metadata": {
        "id": "Eu9Lr2dsJY-s"
      },
      "source": [
        "&nbsp;  \n",
        "&nbsp;  \n",
        "#### Next, we split the dataframe in two sets. The train set (to train the model) and the test set (to test the model with new data).\n",
        "#### We assign 80% of the data to the train set and 20% to the test set. (Other common combinations are 75/25, 85/15, and 90/10)."
      ]
    },
    {
      "cell_type": "code",
      "metadata": {
        "id": "gaGZL7d_Jxzy"
      },
      "source": [
        "X_train, X_test, y_train, y_test = train_test_split(X, y, train_size=0.80, test_size=0.2, random_state=0)     #train-test split"
      ],
      "execution_count": 26,
      "outputs": []
    },
    {
      "cell_type": "markdown",
      "metadata": {
        "id": "seapE5RxPH6R"
      },
      "source": [
        "&nbsp;  \n",
        "&nbsp;  \n",
        "\n",
        "#### **MODEL: Linear Regression**"
      ]
    },
    {
      "cell_type": "markdown",
      "metadata": {
        "id": "up0Vr5qDK8Bw"
      },
      "source": [
        "\n",
        "#### The next step is to define the linear regression model and fit the train set."
      ]
    },
    {
      "cell_type": "code",
      "metadata": {
        "id": "RW1sulxHSjNI",
        "colab": {
          "base_uri": "https://localhost:8080/"
        },
        "outputId": "ddcf3a39-1cf1-4029-ece9-3448759fa0da"
      },
      "source": [
        "lin_regressor = LinearRegression()        #Define the model\n",
        "\n",
        "lin_regressor.fit(X_train,y_train)        #Fit the train set"
      ],
      "execution_count": 27,
      "outputs": [
        {
          "output_type": "execute_result",
          "data": {
            "text/plain": [
              "LinearRegression()"
            ]
          },
          "metadata": {},
          "execution_count": 27
        }
      ]
    },
    {
      "cell_type": "markdown",
      "metadata": {
        "id": "giOSu1bcL1GH"
      },
      "source": [
        "&nbsp;  \n",
        "&nbsp;  \n",
        "#### Now that the Linear Regression model has been created, we want to know how well it performs with new data (test set). We will use \"Mean Absolute Error\" (MAE) to score the model."
      ]
    },
    {
      "cell_type": "code",
      "metadata": {
        "colab": {
          "base_uri": "https://localhost:8080/"
        },
        "id": "tvkbaCo0MQCJ",
        "outputId": "66590efd-35ba-4980-d2f3-7ff8784dc064"
      },
      "source": [
        "lin_pred = lin_regressor.predict(X_test)                                 #Get predictions using the test set\n",
        "\n",
        "lin_mae = mean_absolute_error(lin_pred,y_test)                           #Calculate MAE\n",
        "\n",
        "print('Linear Regression\\nMean Absolute Error (MAE):', format(lin_mae, ',.2f'))    #Display MAE score"
      ],
      "execution_count": 28,
      "outputs": [
        {
          "output_type": "stream",
          "name": "stdout",
          "text": [
            "Linear Regression\n",
            "Mean Absolute Error (MAE): 17,980.19\n"
          ]
        }
      ]
    },
    {
      "cell_type": "markdown",
      "metadata": {
        "id": "LVLSLu0I2MTs"
      },
      "source": [
        "#### The Mean Absoulte Error (MAE) is 17,980.19"
      ]
    },
    {
      "cell_type": "markdown",
      "metadata": {
        "id": "IM19UomwRFua"
      },
      "source": [
        "&nbsp; \n",
        "&nbsp; \n",
        "#### Next, we can work on the Decision Tree Regression model."
      ]
    },
    {
      "cell_type": "markdown",
      "metadata": {
        "id": "eca1NBFrw1uq"
      },
      "source": [
        "#### **MODEL : Decision Tree**"
      ]
    },
    {
      "cell_type": "markdown",
      "metadata": {
        "id": "-8Wt7ITgSWiD"
      },
      "source": [
        "#### Let's define the Decision Tree model and fit the train set."
      ]
    },
    {
      "cell_type": "code",
      "metadata": {
        "id": "otNQwhNSja_o",
        "colab": {
          "base_uri": "https://localhost:8080/"
        },
        "outputId": "88dd7772-a4e6-4605-bd6c-15b65d3f57bb"
      },
      "source": [
        "decision_tree = DecisionTreeRegressor()     #Define the model\n",
        " \n",
        "decision_tree.fit(X_train,y_train)          #Fit the train set"
      ],
      "execution_count": 29,
      "outputs": [
        {
          "output_type": "execute_result",
          "data": {
            "text/plain": [
              "DecisionTreeRegressor()"
            ]
          },
          "metadata": {},
          "execution_count": 29
        }
      ]
    },
    {
      "cell_type": "markdown",
      "metadata": {
        "id": "07tpVfN5SzyO"
      },
      "source": [
        "&nbsp;  \n",
        "&nbsp;  \n",
        "#### We just created the Decision Tree Regression model. Now we want to know how well it performs with new data (test set). We will use \"Mean Absolute Error\" (MAE) to score the model."
      ]
    },
    {
      "cell_type": "code",
      "metadata": {
        "id": "y-5_uZlKSyVI",
        "colab": {
          "base_uri": "https://localhost:8080/"
        },
        "outputId": "c725ad10-eae7-4c51-8209-8f331154f39d"
      },
      "source": [
        "dt_pred = decision_tree.predict(X_test)       #Get predictions using the test set\n",
        "\n",
        "dt_mae = mean_absolute_error(dt_pred,y_test)  #Calculate MAE\n",
        "\n",
        "print('Decision Tree\\nMean Absolute Error (MAE):', format(dt_mae, ',.2f'))    #Display MAE score\n"
      ],
      "execution_count": 30,
      "outputs": [
        {
          "output_type": "stream",
          "name": "stdout",
          "text": [
            "Decision Tree\n",
            "Mean Absolute Error (MAE): 29,666.33\n"
          ]
        }
      ]
    },
    {
      "cell_type": "markdown",
      "metadata": {
        "id": "TXY-_Kyb2v0K"
      },
      "source": [
        "#### The Mean Absoulte Error (MAE) is 32,385.38"
      ]
    },
    {
      "cell_type": "markdown",
      "metadata": {
        "id": "MS4XtRgxWCmI"
      },
      "source": [
        "#### Based on the MAE scores it appears that the **Linear Regression** model, with a lower MAE, is a better fit for our dataset."
      ]
    },
    {
      "cell_type": "markdown",
      "metadata": {
        "id": "YrObnivyWj59"
      },
      "source": [
        "&nbsp;  \n",
        "&nbsp;  \n",
        "#### Next, we will run both of the trained models using the subject property data."
      ]
    },
    {
      "cell_type": "markdown",
      "metadata": {
        "id": "dGRy_DDkmxeZ"
      },
      "source": [
        "#### **PREDICTIONS**"
      ]
    },
    {
      "cell_type": "markdown",
      "metadata": {
        "id": "Za7s0g65WywE"
      },
      "source": [
        "#### Import a csv file that contains the subject's information in the same format as the cleaned dataframe. The only missing feature is the \"Sales Price\" since that is the target we are trying to predict."
      ]
    },
    {
      "cell_type": "code",
      "metadata": {
        "id": "Wq3tRkv0b628",
        "colab": {
          "base_uri": "https://localhost:8080/",
          "height": 81
        },
        "outputId": "3d4dcf06-30ce-4e76-84da-7e63ed06b263"
      },
      "source": [
        "sp_data_path = '/content/SP_Data.csv'           #Create file path to csv dataset \n",
        "sp_data = pd.read_csv(sp_data_path)             #Read dataset in dataframe\n",
        "\n",
        "sp_data.head()                                  #Display data (first 5 rows) just to make sure it was successfully imported"
      ],
      "execution_count": 31,
      "outputs": [
        {
          "output_type": "execute_result",
          "data": {
            "text/plain": [
              "    Site  View  Age  Bedrooms  Bathrooms   GLA  Garage  Fireplace  Pool\n",
              "0  12100     0   16         4          3  2915       3          0     1"
            ],
            "text/html": [
              "\n",
              "  <div id=\"df-e11b5ab1-7a91-41f4-80e4-0d5952cc3107\">\n",
              "    <div class=\"colab-df-container\">\n",
              "      <div>\n",
              "<style scoped>\n",
              "    .dataframe tbody tr th:only-of-type {\n",
              "        vertical-align: middle;\n",
              "    }\n",
              "\n",
              "    .dataframe tbody tr th {\n",
              "        vertical-align: top;\n",
              "    }\n",
              "\n",
              "    .dataframe thead th {\n",
              "        text-align: right;\n",
              "    }\n",
              "</style>\n",
              "<table border=\"1\" class=\"dataframe\">\n",
              "  <thead>\n",
              "    <tr style=\"text-align: right;\">\n",
              "      <th></th>\n",
              "      <th>Site</th>\n",
              "      <th>View</th>\n",
              "      <th>Age</th>\n",
              "      <th>Bedrooms</th>\n",
              "      <th>Bathrooms</th>\n",
              "      <th>GLA</th>\n",
              "      <th>Garage</th>\n",
              "      <th>Fireplace</th>\n",
              "      <th>Pool</th>\n",
              "    </tr>\n",
              "  </thead>\n",
              "  <tbody>\n",
              "    <tr>\n",
              "      <th>0</th>\n",
              "      <td>12100</td>\n",
              "      <td>0</td>\n",
              "      <td>16</td>\n",
              "      <td>4</td>\n",
              "      <td>3</td>\n",
              "      <td>2915</td>\n",
              "      <td>3</td>\n",
              "      <td>0</td>\n",
              "      <td>1</td>\n",
              "    </tr>\n",
              "  </tbody>\n",
              "</table>\n",
              "</div>\n",
              "      <button class=\"colab-df-convert\" onclick=\"convertToInteractive('df-e11b5ab1-7a91-41f4-80e4-0d5952cc3107')\"\n",
              "              title=\"Convert this dataframe to an interactive table.\"\n",
              "              style=\"display:none;\">\n",
              "        \n",
              "  <svg xmlns=\"http://www.w3.org/2000/svg\" height=\"24px\"viewBox=\"0 0 24 24\"\n",
              "       width=\"24px\">\n",
              "    <path d=\"M0 0h24v24H0V0z\" fill=\"none\"/>\n",
              "    <path d=\"M18.56 5.44l.94 2.06.94-2.06 2.06-.94-2.06-.94-.94-2.06-.94 2.06-2.06.94zm-11 1L8.5 8.5l.94-2.06 2.06-.94-2.06-.94L8.5 2.5l-.94 2.06-2.06.94zm10 10l.94 2.06.94-2.06 2.06-.94-2.06-.94-.94-2.06-.94 2.06-2.06.94z\"/><path d=\"M17.41 7.96l-1.37-1.37c-.4-.4-.92-.59-1.43-.59-.52 0-1.04.2-1.43.59L10.3 9.45l-7.72 7.72c-.78.78-.78 2.05 0 2.83L4 21.41c.39.39.9.59 1.41.59.51 0 1.02-.2 1.41-.59l7.78-7.78 2.81-2.81c.8-.78.8-2.07 0-2.86zM5.41 20L4 18.59l7.72-7.72 1.47 1.35L5.41 20z\"/>\n",
              "  </svg>\n",
              "      </button>\n",
              "      \n",
              "  <style>\n",
              "    .colab-df-container {\n",
              "      display:flex;\n",
              "      flex-wrap:wrap;\n",
              "      gap: 12px;\n",
              "    }\n",
              "\n",
              "    .colab-df-convert {\n",
              "      background-color: #E8F0FE;\n",
              "      border: none;\n",
              "      border-radius: 50%;\n",
              "      cursor: pointer;\n",
              "      display: none;\n",
              "      fill: #1967D2;\n",
              "      height: 32px;\n",
              "      padding: 0 0 0 0;\n",
              "      width: 32px;\n",
              "    }\n",
              "\n",
              "    .colab-df-convert:hover {\n",
              "      background-color: #E2EBFA;\n",
              "      box-shadow: 0px 1px 2px rgba(60, 64, 67, 0.3), 0px 1px 3px 1px rgba(60, 64, 67, 0.15);\n",
              "      fill: #174EA6;\n",
              "    }\n",
              "\n",
              "    [theme=dark] .colab-df-convert {\n",
              "      background-color: #3B4455;\n",
              "      fill: #D2E3FC;\n",
              "    }\n",
              "\n",
              "    [theme=dark] .colab-df-convert:hover {\n",
              "      background-color: #434B5C;\n",
              "      box-shadow: 0px 1px 3px 1px rgba(0, 0, 0, 0.15);\n",
              "      filter: drop-shadow(0px 1px 2px rgba(0, 0, 0, 0.3));\n",
              "      fill: #FFFFFF;\n",
              "    }\n",
              "  </style>\n",
              "\n",
              "      <script>\n",
              "        const buttonEl =\n",
              "          document.querySelector('#df-e11b5ab1-7a91-41f4-80e4-0d5952cc3107 button.colab-df-convert');\n",
              "        buttonEl.style.display =\n",
              "          google.colab.kernel.accessAllowed ? 'block' : 'none';\n",
              "\n",
              "        async function convertToInteractive(key) {\n",
              "          const element = document.querySelector('#df-e11b5ab1-7a91-41f4-80e4-0d5952cc3107');\n",
              "          const dataTable =\n",
              "            await google.colab.kernel.invokeFunction('convertToInteractive',\n",
              "                                                     [key], {});\n",
              "          if (!dataTable) return;\n",
              "\n",
              "          const docLinkHtml = 'Like what you see? Visit the ' +\n",
              "            '<a target=\"_blank\" href=https://colab.research.google.com/notebooks/data_table.ipynb>data table notebook</a>'\n",
              "            + ' to learn more about interactive tables.';\n",
              "          element.innerHTML = '';\n",
              "          dataTable['output_type'] = 'display_data';\n",
              "          await google.colab.output.renderOutput(dataTable, element);\n",
              "          const docLink = document.createElement('div');\n",
              "          docLink.innerHTML = docLinkHtml;\n",
              "          element.appendChild(docLink);\n",
              "        }\n",
              "      </script>\n",
              "    </div>\n",
              "  </div>\n",
              "  "
            ]
          },
          "metadata": {},
          "execution_count": 31
        }
      ]
    },
    {
      "cell_type": "markdown",
      "metadata": {
        "id": "MknaQcljbJHn"
      },
      "source": [
        "&nbsp;\n",
        "\n",
        "&nbsp;  \n",
        "#### Now we define the predicting features and then we are run the trained models to predict the subject's estimated value."
      ]
    },
    {
      "cell_type": "code",
      "metadata": {
        "colab": {
          "base_uri": "https://localhost:8080/"
        },
        "id": "5o0tnsZuaaxO",
        "outputId": "0c7a3802-0bc6-4b6d-bdeb-e89c643c57a4"
      },
      "source": [
        "features = ['Site', 'View', 'Age', 'Bedrooms', 'Bathrooms', 'GLA','Garage','Fireplace','Pool']    #Define predicting features\n",
        "sp_X = sp_data[features]\n",
        "\n",
        "prediction_linear = int(lin_regressor.predict(sp_X))                    #Predict the subject's value using Linear Regresion model\n",
        "prediction_decision_tree = int(decision_tree.predict(sp_X))             #Predict the subject's value using Decision Tree Regresion model\n",
        "\n",
        "print('Estimated Values')                                               #Display estimated values\n",
        "print()\n",
        "print('Linear Regression: $', format(prediction_linear,','))\n",
        "print('Decision Tree Regression: $', format(prediction_decision_tree,','))"
      ],
      "execution_count": 32,
      "outputs": [
        {
          "output_type": "stream",
          "name": "stdout",
          "text": [
            "Estimated Values\n",
            "\n",
            "Linear Regression: $ 405,604\n",
            "Decision Tree Regression: $ 420,000\n"
          ]
        }
      ]
    },
    {
      "cell_type": "markdown",
      "metadata": {
        "id": "FOV9Kz32nRaP"
      },
      "source": [
        "&nbsp;  \n",
        "&nbsp;  \n",
        "#### Subject's estimated value:\n",
        "#### 1) Based on Linear Regression is 405,604\n",
        "#### 2) Based on Decision Tree Regression is 420,000"
      ]
    },
    {
      "cell_type": "markdown",
      "metadata": {
        "id": "0--_bh-4H6DP"
      },
      "source": [
        "&nbsp;  \n",
        "&nbsp;\n",
        "#### **What to do with the results?**\n",
        "\n",
        "#### We were able to run a couple of regression models that predicted a property value with reasonable accuracy. However, the fact that our models produced these results doesn’t mean that we must use them to derive a final estimate of value. Perhaps we just want them as an additional tool to support our own analysis. Or maybe we do want to use them for low-risk collateral analysis. The point is that we should always keep in mind that machine learning models are just tools, we are ultimately in charge of making the decision to use them or not. \n",
        "&nbsp;\n",
        "\n",
        "#### **Conclusion**\n",
        "#### In this tutorial we covered data collection, data wrangling/cleaning, visualizations, data modeling, and prediction of values. The process may seem lengthy the first time, but now it is all done and the code is saved in our Jupyter notebook. You can run it and predict property values as many times as we want, in a matter of seconds.\n",
        "&nbsp;\n",
        "\n",
        "#### **What’s next?** \n",
        "#### Hopefully now you have a better idea of what it takes to run a (basic) prediction model. But, there is a lot more about data analysis and machine learning than what we covered in this tutorial. Next, you can explore more data visualizations, optimizations, learn about feature engineering, or have fun with deep learning. Go explore the vast world of machine learning and Level Up!!\n"
      ]
    }
  ]
}