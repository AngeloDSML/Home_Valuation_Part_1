{
  "nbformat": 4,
  "nbformat_minor": 0,
  "metadata": {
    "colab": {
      "name": "Tutorial",
      "provenance": [],
      "collapsed_sections": [],
      "toc_visible": true
    },
    "kernelspec": {
      "name": "python3",
      "display_name": "Python 3"
    }
  },
  "cells": [
    {
      "cell_type": "markdown",
      "metadata": {
        "id": "1lhttaPaFVFG"
      },
      "source": [
        "### **Quick Tutorial - Machine Learning Models (Linear Regression and Decision Tree Regression) for Residential Appraisers**\r\n",
        "\r\n",
        "*Important Note: There are plenty of free machine learning tutorials and courses online. Anyone can access them, learn, and run predictive models for home values. However, this tutorial has been designed specifically for residential appraisers, and some of the material will be irrelevant or less important for other industries. If you are not a residential appraiser, and/or you are looking to learn about machine learning as a broader field, this tutorial may not be adequate for you.*\r\n",
        "\r\n",
        "The purpose of this tutorial is for residenatial appraisers interested in machine learning to get their toes wet. This is **not** a comprehensive machine learning tutorial and it does **not** cover everything there is to know about the topic. \r\n",
        "\r\n",
        "In this tutorial we will cover data collection, data wrangling/cleaning, visualizations, data modelling, and predictions. Since real estate prices are continuous numerical variables we will be using regression techniques, **Linear Regression and Decision Tree Regression.**\r\n",
        "\r\n",
        "\r\n",
        "**Prerequisites:**\r\n",
        "1.\tSome understanding of Python programming.\r\n",
        "2.\tAccess and familiarity with Google Colabs or Jupyter notebook.\r\n",
        "3.\tIf you want to use your own data you will need access to home sales data and custom exports from your local MLS.\r\n",
        "\r\n",
        "\r\n",
        "**Obtain the data:**\r\n",
        "We will be using a dataset of home sales that includes sales prices and several predicting features, in csv format. \r\n",
        "\r\n",
        "The easiest way to obtain a dataset for your specific market area is by creating a custom csv export from your local MLS system. If you don’t know how to create it you should get technical support from your MLS provider.\r\n",
        "\r\n",
        "The sales dataset  contains the following features:\r\n",
        "Lot size, Water View, Year Built, Bedrooms, Bathrooms, GLA, Garage, Carport, Fireplace, Pool, and Sales Price.\r\n",
        "Note: These features are based on the subject’s market area. You should export a dataset that includes all of the value-affecting features you consider relevant for your specific market area. \r\n",
        "\r\n",
        "\r\n",
        "**Assumptions:**\r\n",
        "We will make the following assumptions for the purpose of this tutorial. \r\n",
        "1.\tStable market condition. In rapidly increasing or decreasing markets you will likely need to add a “sales date” column/feature.\r\n",
        "2.\tAccurate data sources. MLS data is considered to be good and reliable.\r\n",
        "3.\tRelevant predicting features. Make sure you include all of the appropriate value-affecting features for the subject’s market area."
      ]
    },
    {
      "cell_type": "markdown",
      "metadata": {
        "id": "49NM76jSdSmm"
      },
      "source": [
        "### **IMPORT LIBRARIES**"
      ]
    },
    {
      "cell_type": "markdown",
      "metadata": {
        "id": "ClR2XS8cXerE"
      },
      "source": [
        "### First we are going to import the libraries we are going to be using."
      ]
    },
    {
      "cell_type": "code",
      "metadata": {
        "id": "lqawxvpFcsW6"
      },
      "source": [
        "import pandas as pd\n",
        "import numpy as np\n",
        "import matplotlib as mpl\n",
        "import matplotlib.pyplot as plt\n",
        "import seaborn as sns\n",
        "import sklearn as sk\n",
        "\n",
        "%matplotlib inline\n"
      ],
      "execution_count": null,
      "outputs": []
    },
    {
      "cell_type": "markdown",
      "metadata": {
        "id": "maHZ7kfIdqzE"
      },
      "source": [
        "### **IMPORT DATASET**"
      ]
    },
    {
      "cell_type": "markdown",
      "metadata": {
        "id": "JNyOh3z_Hce6"
      },
      "source": [
        "### The following code will import the dataset to the Colabs/Jupyter notebook. \r\n",
        "\r\n",
        "\r\n"
      ]
    },
    {
      "cell_type": "code",
      "metadata": {
        "id": "ayPdMqp8dKRX",
        "colab": {
          "base_uri": "https://localhost:8080/",
          "height": 204
        },
        "outputId": "f701202b-2b59-4fa2-9d30-db4f01d04696"
      },
      "source": [
        "file_path = '/content/Sales_Dataset.csv'    #Create file path to csv dataset \n",
        "sales_df = pd.read_csv(file_path)           #Read dataset in dataframe\n",
        "sales_df.head()                             #Display data (first 5 rows) just to make sure it was successfully imported"
      ],
      "execution_count": null,
      "outputs": [
        {
          "output_type": "execute_result",
          "data": {
            "text/html": [
              "<div>\n",
              "<style scoped>\n",
              "    .dataframe tbody tr th:only-of-type {\n",
              "        vertical-align: middle;\n",
              "    }\n",
              "\n",
              "    .dataframe tbody tr th {\n",
              "        vertical-align: top;\n",
              "    }\n",
              "\n",
              "    .dataframe thead th {\n",
              "        text-align: right;\n",
              "    }\n",
              "</style>\n",
              "<table border=\"1\" class=\"dataframe\">\n",
              "  <thead>\n",
              "    <tr style=\"text-align: right;\">\n",
              "      <th></th>\n",
              "      <th>LotSizeSquareFeet</th>\n",
              "      <th>WaterViewYN</th>\n",
              "      <th>YearBuilt</th>\n",
              "      <th>BedroomsTotal</th>\n",
              "      <th>BathroomsFull</th>\n",
              "      <th>BathroomsHalf</th>\n",
              "      <th>LivingArea</th>\n",
              "      <th>GarageSpaces</th>\n",
              "      <th>CarportSpaces</th>\n",
              "      <th>FireplaceYN</th>\n",
              "      <th>PoolPrivateYN</th>\n",
              "      <th>ClosePrice</th>\n",
              "    </tr>\n",
              "  </thead>\n",
              "  <tbody>\n",
              "    <tr>\n",
              "      <th>0</th>\n",
              "      <td>8549</td>\n",
              "      <td>True</td>\n",
              "      <td>2016</td>\n",
              "      <td>5</td>\n",
              "      <td>4</td>\n",
              "      <td>0</td>\n",
              "      <td>4439</td>\n",
              "      <td>3.0</td>\n",
              "      <td>NaN</td>\n",
              "      <td>False</td>\n",
              "      <td>True</td>\n",
              "      <td>675000</td>\n",
              "    </tr>\n",
              "    <tr>\n",
              "      <th>1</th>\n",
              "      <td>11108</td>\n",
              "      <td>False</td>\n",
              "      <td>2018</td>\n",
              "      <td>5</td>\n",
              "      <td>4</td>\n",
              "      <td>0</td>\n",
              "      <td>4069</td>\n",
              "      <td>3.0</td>\n",
              "      <td>NaN</td>\n",
              "      <td>False</td>\n",
              "      <td>False</td>\n",
              "      <td>540000</td>\n",
              "    </tr>\n",
              "    <tr>\n",
              "      <th>2</th>\n",
              "      <td>9920</td>\n",
              "      <td>False</td>\n",
              "      <td>1999</td>\n",
              "      <td>5</td>\n",
              "      <td>4</td>\n",
              "      <td>0</td>\n",
              "      <td>3834</td>\n",
              "      <td>3.0</td>\n",
              "      <td>NaN</td>\n",
              "      <td>True</td>\n",
              "      <td>True</td>\n",
              "      <td>515000</td>\n",
              "    </tr>\n",
              "    <tr>\n",
              "      <th>3</th>\n",
              "      <td>10035</td>\n",
              "      <td>True</td>\n",
              "      <td>1999</td>\n",
              "      <td>5</td>\n",
              "      <td>4</td>\n",
              "      <td>0</td>\n",
              "      <td>3828</td>\n",
              "      <td>3.0</td>\n",
              "      <td>NaN</td>\n",
              "      <td>True</td>\n",
              "      <td>True</td>\n",
              "      <td>495000</td>\n",
              "    </tr>\n",
              "    <tr>\n",
              "      <th>4</th>\n",
              "      <td>9600</td>\n",
              "      <td>True</td>\n",
              "      <td>2007</td>\n",
              "      <td>5</td>\n",
              "      <td>4</td>\n",
              "      <td>0</td>\n",
              "      <td>3382</td>\n",
              "      <td>3.0</td>\n",
              "      <td>NaN</td>\n",
              "      <td>False</td>\n",
              "      <td>True</td>\n",
              "      <td>494700</td>\n",
              "    </tr>\n",
              "  </tbody>\n",
              "</table>\n",
              "</div>"
            ],
            "text/plain": [
              "   LotSizeSquareFeet  WaterViewYN  ...  PoolPrivateYN  ClosePrice\n",
              "0               8549         True  ...           True      675000\n",
              "1              11108        False  ...          False      540000\n",
              "2               9920        False  ...           True      515000\n",
              "3              10035         True  ...           True      495000\n",
              "4               9600         True  ...           True      494700\n",
              "\n",
              "[5 rows x 12 columns]"
            ]
          },
          "metadata": {
            "tags": []
          },
          "execution_count": 2
        }
      ]
    },
    {
      "cell_type": "markdown",
      "metadata": {
        "id": "AQ9yK2X14Yju"
      },
      "source": [
        "### Every time we modify the dataframe it is a good practice to check a sample of it to confirm the code did what was intended. For this we will use sales_df.head(), which will show the first 5 rows of the dataframe."
      ]
    },
    {
      "cell_type": "markdown",
      "metadata": {
        "id": "EPwwoczaH8_W"
      },
      "source": [
        "### **EXPLORE THE DATA**"
      ]
    },
    {
      "cell_type": "markdown",
      "metadata": {
        "id": "chlPVOarIDQI"
      },
      "source": [
        "### Explore the data to get an idea of the characteristics of the dataset."
      ]
    },
    {
      "cell_type": "code",
      "metadata": {
        "id": "03Sx1N6tH4sW",
        "colab": {
          "base_uri": "https://localhost:8080/",
          "height": 297
        },
        "outputId": "4024193d-f7ea-4f6f-d7a9-645a0a9a43ed"
      },
      "source": [
        "sales_df.describe()       #Get main statistics of the dataset"
      ],
      "execution_count": null,
      "outputs": [
        {
          "output_type": "execute_result",
          "data": {
            "text/html": [
              "<div>\n",
              "<style scoped>\n",
              "    .dataframe tbody tr th:only-of-type {\n",
              "        vertical-align: middle;\n",
              "    }\n",
              "\n",
              "    .dataframe tbody tr th {\n",
              "        vertical-align: top;\n",
              "    }\n",
              "\n",
              "    .dataframe thead th {\n",
              "        text-align: right;\n",
              "    }\n",
              "</style>\n",
              "<table border=\"1\" class=\"dataframe\">\n",
              "  <thead>\n",
              "    <tr style=\"text-align: right;\">\n",
              "      <th></th>\n",
              "      <th>LotSizeSquareFeet</th>\n",
              "      <th>YearBuilt</th>\n",
              "      <th>BedroomsTotal</th>\n",
              "      <th>BathroomsFull</th>\n",
              "      <th>BathroomsHalf</th>\n",
              "      <th>LivingArea</th>\n",
              "      <th>GarageSpaces</th>\n",
              "      <th>CarportSpaces</th>\n",
              "      <th>ClosePrice</th>\n",
              "    </tr>\n",
              "  </thead>\n",
              "  <tbody>\n",
              "    <tr>\n",
              "      <th>count</th>\n",
              "      <td>210.000000</td>\n",
              "      <td>210.000000</td>\n",
              "      <td>210.000000</td>\n",
              "      <td>210.000000</td>\n",
              "      <td>210.000000</td>\n",
              "      <td>210.000000</td>\n",
              "      <td>209.000000</td>\n",
              "      <td>7.0</td>\n",
              "      <td>210.000000</td>\n",
              "    </tr>\n",
              "    <tr>\n",
              "      <th>mean</th>\n",
              "      <td>8608.233333</td>\n",
              "      <td>2000.538095</td>\n",
              "      <td>3.700000</td>\n",
              "      <td>2.419048</td>\n",
              "      <td>0.095238</td>\n",
              "      <td>2183.052381</td>\n",
              "      <td>4.148325</td>\n",
              "      <td>0.0</td>\n",
              "      <td>306573.128571</td>\n",
              "    </tr>\n",
              "    <tr>\n",
              "      <th>std</th>\n",
              "      <td>2779.318027</td>\n",
              "      <td>4.749311</td>\n",
              "      <td>0.641842</td>\n",
              "      <td>0.615291</td>\n",
              "      <td>0.294245</td>\n",
              "      <td>596.492637</td>\n",
              "      <td>26.127498</td>\n",
              "      <td>0.0</td>\n",
              "      <td>71470.906697</td>\n",
              "    </tr>\n",
              "    <tr>\n",
              "      <th>min</th>\n",
              "      <td>1684.000000</td>\n",
              "      <td>1993.000000</td>\n",
              "      <td>2.000000</td>\n",
              "      <td>2.000000</td>\n",
              "      <td>0.000000</td>\n",
              "      <td>1191.000000</td>\n",
              "      <td>2.000000</td>\n",
              "      <td>0.0</td>\n",
              "      <td>167850.000000</td>\n",
              "    </tr>\n",
              "    <tr>\n",
              "      <th>25%</th>\n",
              "      <td>6577.500000</td>\n",
              "      <td>1997.000000</td>\n",
              "      <td>3.000000</td>\n",
              "      <td>2.000000</td>\n",
              "      <td>0.000000</td>\n",
              "      <td>1805.750000</td>\n",
              "      <td>2.000000</td>\n",
              "      <td>0.0</td>\n",
              "      <td>259925.000000</td>\n",
              "    </tr>\n",
              "    <tr>\n",
              "      <th>50%</th>\n",
              "      <td>8115.500000</td>\n",
              "      <td>2000.000000</td>\n",
              "      <td>4.000000</td>\n",
              "      <td>2.000000</td>\n",
              "      <td>0.000000</td>\n",
              "      <td>2023.000000</td>\n",
              "      <td>2.000000</td>\n",
              "      <td>0.0</td>\n",
              "      <td>285000.000000</td>\n",
              "    </tr>\n",
              "    <tr>\n",
              "      <th>75%</th>\n",
              "      <td>10080.000000</td>\n",
              "      <td>2003.000000</td>\n",
              "      <td>4.000000</td>\n",
              "      <td>3.000000</td>\n",
              "      <td>0.000000</td>\n",
              "      <td>2454.500000</td>\n",
              "      <td>3.000000</td>\n",
              "      <td>0.0</td>\n",
              "      <td>340750.000000</td>\n",
              "    </tr>\n",
              "    <tr>\n",
              "      <th>max</th>\n",
              "      <td>18439.000000</td>\n",
              "      <td>2019.000000</td>\n",
              "      <td>5.000000</td>\n",
              "      <td>4.000000</td>\n",
              "      <td>1.000000</td>\n",
              "      <td>4439.000000</td>\n",
              "      <td>380.000000</td>\n",
              "      <td>0.0</td>\n",
              "      <td>675000.000000</td>\n",
              "    </tr>\n",
              "  </tbody>\n",
              "</table>\n",
              "</div>"
            ],
            "text/plain": [
              "       LotSizeSquareFeet    YearBuilt  ...  CarportSpaces     ClosePrice\n",
              "count         210.000000   210.000000  ...            7.0     210.000000\n",
              "mean         8608.233333  2000.538095  ...            0.0  306573.128571\n",
              "std          2779.318027     4.749311  ...            0.0   71470.906697\n",
              "min          1684.000000  1993.000000  ...            0.0  167850.000000\n",
              "25%          6577.500000  1997.000000  ...            0.0  259925.000000\n",
              "50%          8115.500000  2000.000000  ...            0.0  285000.000000\n",
              "75%         10080.000000  2003.000000  ...            0.0  340750.000000\n",
              "max         18439.000000  2019.000000  ...            0.0  675000.000000\n",
              "\n",
              "[8 rows x 9 columns]"
            ]
          },
          "metadata": {
            "tags": []
          },
          "execution_count": 3
        }
      ]
    },
    {
      "cell_type": "code",
      "metadata": {
        "colab": {
          "base_uri": "https://localhost:8080/"
        },
        "id": "D9lqCsQuYJQ5",
        "outputId": "a6c7502e-cba9-427b-bea5-0fc873b38253"
      },
      "source": [
        "sales_df.info()         #Get general information including number of rows, columns, and data types"
      ],
      "execution_count": null,
      "outputs": [
        {
          "output_type": "stream",
          "text": [
            "<class 'pandas.core.frame.DataFrame'>\n",
            "RangeIndex: 210 entries, 0 to 209\n",
            "Data columns (total 12 columns):\n",
            " #   Column             Non-Null Count  Dtype  \n",
            "---  ------             --------------  -----  \n",
            " 0   LotSizeSquareFeet  210 non-null    int64  \n",
            " 1   WaterViewYN        210 non-null    bool   \n",
            " 2   YearBuilt          210 non-null    int64  \n",
            " 3   BedroomsTotal      210 non-null    int64  \n",
            " 4   BathroomsFull      210 non-null    int64  \n",
            " 5   BathroomsHalf      210 non-null    int64  \n",
            " 6   LivingArea         210 non-null    int64  \n",
            " 7   GarageSpaces       209 non-null    float64\n",
            " 8   CarportSpaces      7 non-null      float64\n",
            " 9   FireplaceYN        210 non-null    bool   \n",
            " 10  PoolPrivateYN      210 non-null    bool   \n",
            " 11  ClosePrice         210 non-null    int64  \n",
            "dtypes: bool(3), float64(2), int64(7)\n",
            "memory usage: 15.5 KB\n"
          ],
          "name": "stdout"
        }
      ]
    },
    {
      "cell_type": "markdown",
      "metadata": {
        "id": "deR8f0jmdyM1"
      },
      "source": [
        "### **DATA CLEANING**"
      ]
    },
    {
      "cell_type": "markdown",
      "metadata": {
        "id": "zIcO-kQUJbxF"
      },
      "source": [
        "### Start cleaning/preparing the data for further exploration.\r\n",
        "### First, we rename the columns so they have more practical names. "
      ]
    },
    {
      "cell_type": "code",
      "metadata": {
        "id": "gpjqMEMFevtp",
        "colab": {
          "base_uri": "https://localhost:8080/",
          "height": 204
        },
        "outputId": "9fc0a08c-b906-433d-dc4d-990089d1e3b4"
      },
      "source": [
        "#Rename columns\n",
        "sales_df = sales_df.rename({'LotSizeSquareFeet':'Site', 'WaterViewYN':'View', 'BedroomsTotal':'Bedrooms', \n",
        "                            'BathroomsFull':'Full_Bathrooms', 'BathroomsHalf':'Half_Bathrooms', 'LivingArea':'GLA', \n",
        "                            'GarageSpaces':'Garage', 'CarportSpaces':'Carport', 'FireplaceYN':'Fireplace', \n",
        "                            'PoolPrivateYN':'Pool', 'ClosePrice':'Sales_Price'}, axis='columns')\n",
        "\n",
        "sales_df.head()"
      ],
      "execution_count": null,
      "outputs": [
        {
          "output_type": "execute_result",
          "data": {
            "text/html": [
              "<div>\n",
              "<style scoped>\n",
              "    .dataframe tbody tr th:only-of-type {\n",
              "        vertical-align: middle;\n",
              "    }\n",
              "\n",
              "    .dataframe tbody tr th {\n",
              "        vertical-align: top;\n",
              "    }\n",
              "\n",
              "    .dataframe thead th {\n",
              "        text-align: right;\n",
              "    }\n",
              "</style>\n",
              "<table border=\"1\" class=\"dataframe\">\n",
              "  <thead>\n",
              "    <tr style=\"text-align: right;\">\n",
              "      <th></th>\n",
              "      <th>Site</th>\n",
              "      <th>View</th>\n",
              "      <th>YearBuilt</th>\n",
              "      <th>Bedrooms</th>\n",
              "      <th>Full_Bathrooms</th>\n",
              "      <th>Half_Bathrooms</th>\n",
              "      <th>GLA</th>\n",
              "      <th>Garage</th>\n",
              "      <th>Carport</th>\n",
              "      <th>Fireplace</th>\n",
              "      <th>Pool</th>\n",
              "      <th>Sales_Price</th>\n",
              "    </tr>\n",
              "  </thead>\n",
              "  <tbody>\n",
              "    <tr>\n",
              "      <th>0</th>\n",
              "      <td>8549</td>\n",
              "      <td>True</td>\n",
              "      <td>2016</td>\n",
              "      <td>5</td>\n",
              "      <td>4</td>\n",
              "      <td>0</td>\n",
              "      <td>4439</td>\n",
              "      <td>3.0</td>\n",
              "      <td>NaN</td>\n",
              "      <td>False</td>\n",
              "      <td>True</td>\n",
              "      <td>675000</td>\n",
              "    </tr>\n",
              "    <tr>\n",
              "      <th>1</th>\n",
              "      <td>11108</td>\n",
              "      <td>False</td>\n",
              "      <td>2018</td>\n",
              "      <td>5</td>\n",
              "      <td>4</td>\n",
              "      <td>0</td>\n",
              "      <td>4069</td>\n",
              "      <td>3.0</td>\n",
              "      <td>NaN</td>\n",
              "      <td>False</td>\n",
              "      <td>False</td>\n",
              "      <td>540000</td>\n",
              "    </tr>\n",
              "    <tr>\n",
              "      <th>2</th>\n",
              "      <td>9920</td>\n",
              "      <td>False</td>\n",
              "      <td>1999</td>\n",
              "      <td>5</td>\n",
              "      <td>4</td>\n",
              "      <td>0</td>\n",
              "      <td>3834</td>\n",
              "      <td>3.0</td>\n",
              "      <td>NaN</td>\n",
              "      <td>True</td>\n",
              "      <td>True</td>\n",
              "      <td>515000</td>\n",
              "    </tr>\n",
              "    <tr>\n",
              "      <th>3</th>\n",
              "      <td>10035</td>\n",
              "      <td>True</td>\n",
              "      <td>1999</td>\n",
              "      <td>5</td>\n",
              "      <td>4</td>\n",
              "      <td>0</td>\n",
              "      <td>3828</td>\n",
              "      <td>3.0</td>\n",
              "      <td>NaN</td>\n",
              "      <td>True</td>\n",
              "      <td>True</td>\n",
              "      <td>495000</td>\n",
              "    </tr>\n",
              "    <tr>\n",
              "      <th>4</th>\n",
              "      <td>9600</td>\n",
              "      <td>True</td>\n",
              "      <td>2007</td>\n",
              "      <td>5</td>\n",
              "      <td>4</td>\n",
              "      <td>0</td>\n",
              "      <td>3382</td>\n",
              "      <td>3.0</td>\n",
              "      <td>NaN</td>\n",
              "      <td>False</td>\n",
              "      <td>True</td>\n",
              "      <td>494700</td>\n",
              "    </tr>\n",
              "  </tbody>\n",
              "</table>\n",
              "</div>"
            ],
            "text/plain": [
              "    Site   View  YearBuilt  Bedrooms  ...  Carport  Fireplace   Pool  Sales_Price\n",
              "0   8549   True       2016         5  ...      NaN      False   True       675000\n",
              "1  11108  False       2018         5  ...      NaN      False  False       540000\n",
              "2   9920  False       1999         5  ...      NaN       True   True       515000\n",
              "3  10035   True       1999         5  ...      NaN       True   True       495000\n",
              "4   9600   True       2007         5  ...      NaN      False   True       494700\n",
              "\n",
              "[5 rows x 12 columns]"
            ]
          },
          "metadata": {
            "tags": []
          },
          "execution_count": 5
        }
      ]
    },
    {
      "cell_type": "markdown",
      "metadata": {
        "id": "PK7a5l0HLRH8"
      },
      "source": [
        "\r\n",
        "### In order to have the model to work correctly we need to make sure all the data is of numeric type (integer or float).\r\n",
        "### Check the data types. "
      ]
    },
    {
      "cell_type": "code",
      "metadata": {
        "id": "-JOsEhXFlMZJ",
        "colab": {
          "base_uri": "https://localhost:8080/"
        },
        "outputId": "d67968e4-bdc9-4c73-f95d-087490928cc6"
      },
      "source": [
        "sales_df.dtypes     #Check data types"
      ],
      "execution_count": null,
      "outputs": [
        {
          "output_type": "execute_result",
          "data": {
            "text/plain": [
              "Site                int64\n",
              "View                 bool\n",
              "YearBuilt           int64\n",
              "Bedrooms            int64\n",
              "Full_Bathrooms      int64\n",
              "Half_Bathrooms      int64\n",
              "GLA                 int64\n",
              "Garage            float64\n",
              "Carport           float64\n",
              "Fireplace            bool\n",
              "Pool                 bool\n",
              "Sales_Price         int64\n",
              "dtype: object"
            ]
          },
          "metadata": {
            "tags": []
          },
          "execution_count": 6
        }
      ]
    },
    {
      "cell_type": "markdown",
      "metadata": {
        "id": "mzeDO-nzMORy"
      },
      "source": [
        "### As shown, there are three features that are of a boolean type (View, Fireplace, and Pool). Transform them to integers, where True=1 and False=0."
      ]
    },
    {
      "cell_type": "code",
      "metadata": {
        "colab": {
          "base_uri": "https://localhost:8080/",
          "height": 204
        },
        "id": "S63uCZ1wMMqi",
        "outputId": "f69f3102-c397-44a4-9ef8-d6c324059804"
      },
      "source": [
        "sales_df[['View', 'Fireplace','Pool']] = sales_df[['View', 'Fireplace','Pool']].astype(int)     #Convert boolean columns to integers\r\n",
        "sales_df.head()"
      ],
      "execution_count": null,
      "outputs": [
        {
          "output_type": "execute_result",
          "data": {
            "text/html": [
              "<div>\n",
              "<style scoped>\n",
              "    .dataframe tbody tr th:only-of-type {\n",
              "        vertical-align: middle;\n",
              "    }\n",
              "\n",
              "    .dataframe tbody tr th {\n",
              "        vertical-align: top;\n",
              "    }\n",
              "\n",
              "    .dataframe thead th {\n",
              "        text-align: right;\n",
              "    }\n",
              "</style>\n",
              "<table border=\"1\" class=\"dataframe\">\n",
              "  <thead>\n",
              "    <tr style=\"text-align: right;\">\n",
              "      <th></th>\n",
              "      <th>Site</th>\n",
              "      <th>View</th>\n",
              "      <th>YearBuilt</th>\n",
              "      <th>Bedrooms</th>\n",
              "      <th>Full_Bathrooms</th>\n",
              "      <th>Half_Bathrooms</th>\n",
              "      <th>GLA</th>\n",
              "      <th>Garage</th>\n",
              "      <th>Carport</th>\n",
              "      <th>Fireplace</th>\n",
              "      <th>Pool</th>\n",
              "      <th>Sales_Price</th>\n",
              "    </tr>\n",
              "  </thead>\n",
              "  <tbody>\n",
              "    <tr>\n",
              "      <th>0</th>\n",
              "      <td>8549</td>\n",
              "      <td>1</td>\n",
              "      <td>2016</td>\n",
              "      <td>5</td>\n",
              "      <td>4</td>\n",
              "      <td>0</td>\n",
              "      <td>4439</td>\n",
              "      <td>3.0</td>\n",
              "      <td>NaN</td>\n",
              "      <td>0</td>\n",
              "      <td>1</td>\n",
              "      <td>675000</td>\n",
              "    </tr>\n",
              "    <tr>\n",
              "      <th>1</th>\n",
              "      <td>11108</td>\n",
              "      <td>0</td>\n",
              "      <td>2018</td>\n",
              "      <td>5</td>\n",
              "      <td>4</td>\n",
              "      <td>0</td>\n",
              "      <td>4069</td>\n",
              "      <td>3.0</td>\n",
              "      <td>NaN</td>\n",
              "      <td>0</td>\n",
              "      <td>0</td>\n",
              "      <td>540000</td>\n",
              "    </tr>\n",
              "    <tr>\n",
              "      <th>2</th>\n",
              "      <td>9920</td>\n",
              "      <td>0</td>\n",
              "      <td>1999</td>\n",
              "      <td>5</td>\n",
              "      <td>4</td>\n",
              "      <td>0</td>\n",
              "      <td>3834</td>\n",
              "      <td>3.0</td>\n",
              "      <td>NaN</td>\n",
              "      <td>1</td>\n",
              "      <td>1</td>\n",
              "      <td>515000</td>\n",
              "    </tr>\n",
              "    <tr>\n",
              "      <th>3</th>\n",
              "      <td>10035</td>\n",
              "      <td>1</td>\n",
              "      <td>1999</td>\n",
              "      <td>5</td>\n",
              "      <td>4</td>\n",
              "      <td>0</td>\n",
              "      <td>3828</td>\n",
              "      <td>3.0</td>\n",
              "      <td>NaN</td>\n",
              "      <td>1</td>\n",
              "      <td>1</td>\n",
              "      <td>495000</td>\n",
              "    </tr>\n",
              "    <tr>\n",
              "      <th>4</th>\n",
              "      <td>9600</td>\n",
              "      <td>1</td>\n",
              "      <td>2007</td>\n",
              "      <td>5</td>\n",
              "      <td>4</td>\n",
              "      <td>0</td>\n",
              "      <td>3382</td>\n",
              "      <td>3.0</td>\n",
              "      <td>NaN</td>\n",
              "      <td>0</td>\n",
              "      <td>1</td>\n",
              "      <td>494700</td>\n",
              "    </tr>\n",
              "  </tbody>\n",
              "</table>\n",
              "</div>"
            ],
            "text/plain": [
              "    Site  View  YearBuilt  Bedrooms  ...  Carport  Fireplace  Pool  Sales_Price\n",
              "0   8549     1       2016         5  ...      NaN          0     1       675000\n",
              "1  11108     0       2018         5  ...      NaN          0     0       540000\n",
              "2   9920     0       1999         5  ...      NaN          1     1       515000\n",
              "3  10035     1       1999         5  ...      NaN          1     1       495000\n",
              "4   9600     1       2007         5  ...      NaN          0     1       494700\n",
              "\n",
              "[5 rows x 12 columns]"
            ]
          },
          "metadata": {
            "tags": []
          },
          "execution_count": 7
        }
      ]
    },
    {
      "cell_type": "markdown",
      "metadata": {
        "id": "FgKpXVtWM__u"
      },
      "source": [
        "### There is no use for the \"YearBuilt\" column itself, what we really need is the age of the property. With the following code we substract the \"YearBuilt\" from the current year and create a new column called \"Age\"."
      ]
    },
    {
      "cell_type": "code",
      "metadata": {
        "id": "A1lfVrKonA0p",
        "colab": {
          "base_uri": "https://localhost:8080/",
          "height": 204
        },
        "outputId": "4eb53456-3830-46ca-9b8c-d19196c9b80f"
      },
      "source": [
        "sales_df['Age'] = pd.to_datetime('today').year - sales_df['YearBuilt']    #Substract YearBuilt from current year and create \"Age\"\n",
        "sales_df.head()"
      ],
      "execution_count": null,
      "outputs": [
        {
          "output_type": "execute_result",
          "data": {
            "text/html": [
              "<div>\n",
              "<style scoped>\n",
              "    .dataframe tbody tr th:only-of-type {\n",
              "        vertical-align: middle;\n",
              "    }\n",
              "\n",
              "    .dataframe tbody tr th {\n",
              "        vertical-align: top;\n",
              "    }\n",
              "\n",
              "    .dataframe thead th {\n",
              "        text-align: right;\n",
              "    }\n",
              "</style>\n",
              "<table border=\"1\" class=\"dataframe\">\n",
              "  <thead>\n",
              "    <tr style=\"text-align: right;\">\n",
              "      <th></th>\n",
              "      <th>Site</th>\n",
              "      <th>View</th>\n",
              "      <th>YearBuilt</th>\n",
              "      <th>Bedrooms</th>\n",
              "      <th>Full_Bathrooms</th>\n",
              "      <th>Half_Bathrooms</th>\n",
              "      <th>GLA</th>\n",
              "      <th>Garage</th>\n",
              "      <th>Carport</th>\n",
              "      <th>Fireplace</th>\n",
              "      <th>Pool</th>\n",
              "      <th>Sales_Price</th>\n",
              "      <th>Age</th>\n",
              "    </tr>\n",
              "  </thead>\n",
              "  <tbody>\n",
              "    <tr>\n",
              "      <th>0</th>\n",
              "      <td>8549</td>\n",
              "      <td>1</td>\n",
              "      <td>2016</td>\n",
              "      <td>5</td>\n",
              "      <td>4</td>\n",
              "      <td>0</td>\n",
              "      <td>4439</td>\n",
              "      <td>3.0</td>\n",
              "      <td>NaN</td>\n",
              "      <td>0</td>\n",
              "      <td>1</td>\n",
              "      <td>675000</td>\n",
              "      <td>5</td>\n",
              "    </tr>\n",
              "    <tr>\n",
              "      <th>1</th>\n",
              "      <td>11108</td>\n",
              "      <td>0</td>\n",
              "      <td>2018</td>\n",
              "      <td>5</td>\n",
              "      <td>4</td>\n",
              "      <td>0</td>\n",
              "      <td>4069</td>\n",
              "      <td>3.0</td>\n",
              "      <td>NaN</td>\n",
              "      <td>0</td>\n",
              "      <td>0</td>\n",
              "      <td>540000</td>\n",
              "      <td>3</td>\n",
              "    </tr>\n",
              "    <tr>\n",
              "      <th>2</th>\n",
              "      <td>9920</td>\n",
              "      <td>0</td>\n",
              "      <td>1999</td>\n",
              "      <td>5</td>\n",
              "      <td>4</td>\n",
              "      <td>0</td>\n",
              "      <td>3834</td>\n",
              "      <td>3.0</td>\n",
              "      <td>NaN</td>\n",
              "      <td>1</td>\n",
              "      <td>1</td>\n",
              "      <td>515000</td>\n",
              "      <td>22</td>\n",
              "    </tr>\n",
              "    <tr>\n",
              "      <th>3</th>\n",
              "      <td>10035</td>\n",
              "      <td>1</td>\n",
              "      <td>1999</td>\n",
              "      <td>5</td>\n",
              "      <td>4</td>\n",
              "      <td>0</td>\n",
              "      <td>3828</td>\n",
              "      <td>3.0</td>\n",
              "      <td>NaN</td>\n",
              "      <td>1</td>\n",
              "      <td>1</td>\n",
              "      <td>495000</td>\n",
              "      <td>22</td>\n",
              "    </tr>\n",
              "    <tr>\n",
              "      <th>4</th>\n",
              "      <td>9600</td>\n",
              "      <td>1</td>\n",
              "      <td>2007</td>\n",
              "      <td>5</td>\n",
              "      <td>4</td>\n",
              "      <td>0</td>\n",
              "      <td>3382</td>\n",
              "      <td>3.0</td>\n",
              "      <td>NaN</td>\n",
              "      <td>0</td>\n",
              "      <td>1</td>\n",
              "      <td>494700</td>\n",
              "      <td>14</td>\n",
              "    </tr>\n",
              "  </tbody>\n",
              "</table>\n",
              "</div>"
            ],
            "text/plain": [
              "    Site  View  YearBuilt  Bedrooms  ...  Fireplace  Pool  Sales_Price  Age\n",
              "0   8549     1       2016         5  ...          0     1       675000    5\n",
              "1  11108     0       2018         5  ...          0     0       540000    3\n",
              "2   9920     0       1999         5  ...          1     1       515000   22\n",
              "3  10035     1       1999         5  ...          1     1       495000   22\n",
              "4   9600     1       2007         5  ...          0     1       494700   14\n",
              "\n",
              "[5 rows x 13 columns]"
            ]
          },
          "metadata": {
            "tags": []
          },
          "execution_count": 8
        }
      ]
    },
    {
      "cell_type": "markdown",
      "metadata": {
        "id": "ld2YSBoeO4S4"
      },
      "source": [
        "### We can merge the \"Full_Bathroom\" and the \"Half_Bathroom\" columns to create a new column that represents both of these features. The new column is called \"Bathroom\". "
      ]
    },
    {
      "cell_type": "code",
      "metadata": {
        "id": "Vxv8Y8yriG99",
        "colab": {
          "base_uri": "https://localhost:8080/",
          "height": 204
        },
        "outputId": "6d863a0a-49d4-490d-de8a-8c19430640e2"
      },
      "source": [
        "sales_df['Half_Bathrooms'] = sales_df['Half_Bathrooms'] / 2                       #Modify Half_Bathrooms (dividing by 2) before merging\n",
        "sales_df['Bathrooms'] = sales_df['Full_Bathrooms'] + sales_df['Half_Bathrooms']   #Merge (Add) Full_Bathrooms and Half_Bathrooms. Create new column Bathrooms\n",
        "sales_df.head()"
      ],
      "execution_count": null,
      "outputs": [
        {
          "output_type": "execute_result",
          "data": {
            "text/html": [
              "<div>\n",
              "<style scoped>\n",
              "    .dataframe tbody tr th:only-of-type {\n",
              "        vertical-align: middle;\n",
              "    }\n",
              "\n",
              "    .dataframe tbody tr th {\n",
              "        vertical-align: top;\n",
              "    }\n",
              "\n",
              "    .dataframe thead th {\n",
              "        text-align: right;\n",
              "    }\n",
              "</style>\n",
              "<table border=\"1\" class=\"dataframe\">\n",
              "  <thead>\n",
              "    <tr style=\"text-align: right;\">\n",
              "      <th></th>\n",
              "      <th>Site</th>\n",
              "      <th>View</th>\n",
              "      <th>YearBuilt</th>\n",
              "      <th>Bedrooms</th>\n",
              "      <th>Full_Bathrooms</th>\n",
              "      <th>Half_Bathrooms</th>\n",
              "      <th>GLA</th>\n",
              "      <th>Garage</th>\n",
              "      <th>Carport</th>\n",
              "      <th>Fireplace</th>\n",
              "      <th>Pool</th>\n",
              "      <th>Sales_Price</th>\n",
              "      <th>Age</th>\n",
              "      <th>Bathrooms</th>\n",
              "    </tr>\n",
              "  </thead>\n",
              "  <tbody>\n",
              "    <tr>\n",
              "      <th>0</th>\n",
              "      <td>8549</td>\n",
              "      <td>1</td>\n",
              "      <td>2016</td>\n",
              "      <td>5</td>\n",
              "      <td>4</td>\n",
              "      <td>0.0</td>\n",
              "      <td>4439</td>\n",
              "      <td>3.0</td>\n",
              "      <td>NaN</td>\n",
              "      <td>0</td>\n",
              "      <td>1</td>\n",
              "      <td>675000</td>\n",
              "      <td>5</td>\n",
              "      <td>4.0</td>\n",
              "    </tr>\n",
              "    <tr>\n",
              "      <th>1</th>\n",
              "      <td>11108</td>\n",
              "      <td>0</td>\n",
              "      <td>2018</td>\n",
              "      <td>5</td>\n",
              "      <td>4</td>\n",
              "      <td>0.0</td>\n",
              "      <td>4069</td>\n",
              "      <td>3.0</td>\n",
              "      <td>NaN</td>\n",
              "      <td>0</td>\n",
              "      <td>0</td>\n",
              "      <td>540000</td>\n",
              "      <td>3</td>\n",
              "      <td>4.0</td>\n",
              "    </tr>\n",
              "    <tr>\n",
              "      <th>2</th>\n",
              "      <td>9920</td>\n",
              "      <td>0</td>\n",
              "      <td>1999</td>\n",
              "      <td>5</td>\n",
              "      <td>4</td>\n",
              "      <td>0.0</td>\n",
              "      <td>3834</td>\n",
              "      <td>3.0</td>\n",
              "      <td>NaN</td>\n",
              "      <td>1</td>\n",
              "      <td>1</td>\n",
              "      <td>515000</td>\n",
              "      <td>22</td>\n",
              "      <td>4.0</td>\n",
              "    </tr>\n",
              "    <tr>\n",
              "      <th>3</th>\n",
              "      <td>10035</td>\n",
              "      <td>1</td>\n",
              "      <td>1999</td>\n",
              "      <td>5</td>\n",
              "      <td>4</td>\n",
              "      <td>0.0</td>\n",
              "      <td>3828</td>\n",
              "      <td>3.0</td>\n",
              "      <td>NaN</td>\n",
              "      <td>1</td>\n",
              "      <td>1</td>\n",
              "      <td>495000</td>\n",
              "      <td>22</td>\n",
              "      <td>4.0</td>\n",
              "    </tr>\n",
              "    <tr>\n",
              "      <th>4</th>\n",
              "      <td>9600</td>\n",
              "      <td>1</td>\n",
              "      <td>2007</td>\n",
              "      <td>5</td>\n",
              "      <td>4</td>\n",
              "      <td>0.0</td>\n",
              "      <td>3382</td>\n",
              "      <td>3.0</td>\n",
              "      <td>NaN</td>\n",
              "      <td>0</td>\n",
              "      <td>1</td>\n",
              "      <td>494700</td>\n",
              "      <td>14</td>\n",
              "      <td>4.0</td>\n",
              "    </tr>\n",
              "  </tbody>\n",
              "</table>\n",
              "</div>"
            ],
            "text/plain": [
              "    Site  View  YearBuilt  Bedrooms  ...  Pool  Sales_Price  Age  Bathrooms\n",
              "0   8549     1       2016         5  ...     1       675000    5        4.0\n",
              "1  11108     0       2018         5  ...     0       540000    3        4.0\n",
              "2   9920     0       1999         5  ...     1       515000   22        4.0\n",
              "3  10035     1       1999         5  ...     1       495000   22        4.0\n",
              "4   9600     1       2007         5  ...     1       494700   14        4.0\n",
              "\n",
              "[5 rows x 14 columns]"
            ]
          },
          "metadata": {
            "tags": []
          },
          "execution_count": 9
        }
      ]
    },
    {
      "cell_type": "markdown",
      "metadata": {
        "id": "r_6Zeg-n0t0V"
      },
      "source": [
        "### Since we created two new columns (Age and Bathrooms), we do not need to keep 'YearBuilt', 'Full_Bathrooms', and 'Half_Bathrooms' anymore."
      ]
    },
    {
      "cell_type": "code",
      "metadata": {
        "id": "7YpUzzuojTxq",
        "colab": {
          "base_uri": "https://localhost:8080/",
          "height": 204
        },
        "outputId": "6a8ec109-4d40-4654-ae4a-cdd6f177e6e5"
      },
      "source": [
        "sales_df = sales_df.drop(['YearBuilt','Full_Bathrooms','Half_Bathrooms'], axis=1)   #Drop YearBuilt, Full_Bathroom, and Half_Bathroom.\n",
        "sales_df.head()"
      ],
      "execution_count": null,
      "outputs": [
        {
          "output_type": "execute_result",
          "data": {
            "text/html": [
              "<div>\n",
              "<style scoped>\n",
              "    .dataframe tbody tr th:only-of-type {\n",
              "        vertical-align: middle;\n",
              "    }\n",
              "\n",
              "    .dataframe tbody tr th {\n",
              "        vertical-align: top;\n",
              "    }\n",
              "\n",
              "    .dataframe thead th {\n",
              "        text-align: right;\n",
              "    }\n",
              "</style>\n",
              "<table border=\"1\" class=\"dataframe\">\n",
              "  <thead>\n",
              "    <tr style=\"text-align: right;\">\n",
              "      <th></th>\n",
              "      <th>Site</th>\n",
              "      <th>View</th>\n",
              "      <th>Bedrooms</th>\n",
              "      <th>GLA</th>\n",
              "      <th>Garage</th>\n",
              "      <th>Carport</th>\n",
              "      <th>Fireplace</th>\n",
              "      <th>Pool</th>\n",
              "      <th>Sales_Price</th>\n",
              "      <th>Age</th>\n",
              "      <th>Bathrooms</th>\n",
              "    </tr>\n",
              "  </thead>\n",
              "  <tbody>\n",
              "    <tr>\n",
              "      <th>0</th>\n",
              "      <td>8549</td>\n",
              "      <td>1</td>\n",
              "      <td>5</td>\n",
              "      <td>4439</td>\n",
              "      <td>3.0</td>\n",
              "      <td>NaN</td>\n",
              "      <td>0</td>\n",
              "      <td>1</td>\n",
              "      <td>675000</td>\n",
              "      <td>5</td>\n",
              "      <td>4.0</td>\n",
              "    </tr>\n",
              "    <tr>\n",
              "      <th>1</th>\n",
              "      <td>11108</td>\n",
              "      <td>0</td>\n",
              "      <td>5</td>\n",
              "      <td>4069</td>\n",
              "      <td>3.0</td>\n",
              "      <td>NaN</td>\n",
              "      <td>0</td>\n",
              "      <td>0</td>\n",
              "      <td>540000</td>\n",
              "      <td>3</td>\n",
              "      <td>4.0</td>\n",
              "    </tr>\n",
              "    <tr>\n",
              "      <th>2</th>\n",
              "      <td>9920</td>\n",
              "      <td>0</td>\n",
              "      <td>5</td>\n",
              "      <td>3834</td>\n",
              "      <td>3.0</td>\n",
              "      <td>NaN</td>\n",
              "      <td>1</td>\n",
              "      <td>1</td>\n",
              "      <td>515000</td>\n",
              "      <td>22</td>\n",
              "      <td>4.0</td>\n",
              "    </tr>\n",
              "    <tr>\n",
              "      <th>3</th>\n",
              "      <td>10035</td>\n",
              "      <td>1</td>\n",
              "      <td>5</td>\n",
              "      <td>3828</td>\n",
              "      <td>3.0</td>\n",
              "      <td>NaN</td>\n",
              "      <td>1</td>\n",
              "      <td>1</td>\n",
              "      <td>495000</td>\n",
              "      <td>22</td>\n",
              "      <td>4.0</td>\n",
              "    </tr>\n",
              "    <tr>\n",
              "      <th>4</th>\n",
              "      <td>9600</td>\n",
              "      <td>1</td>\n",
              "      <td>5</td>\n",
              "      <td>3382</td>\n",
              "      <td>3.0</td>\n",
              "      <td>NaN</td>\n",
              "      <td>0</td>\n",
              "      <td>1</td>\n",
              "      <td>494700</td>\n",
              "      <td>14</td>\n",
              "      <td>4.0</td>\n",
              "    </tr>\n",
              "  </tbody>\n",
              "</table>\n",
              "</div>"
            ],
            "text/plain": [
              "    Site  View  Bedrooms   GLA  ...  Pool  Sales_Price  Age  Bathrooms\n",
              "0   8549     1         5  4439  ...     1       675000    5        4.0\n",
              "1  11108     0         5  4069  ...     0       540000    3        4.0\n",
              "2   9920     0         5  3834  ...     1       515000   22        4.0\n",
              "3  10035     1         5  3828  ...     1       495000   22        4.0\n",
              "4   9600     1         5  3382  ...     1       494700   14        4.0\n",
              "\n",
              "[5 rows x 11 columns]"
            ]
          },
          "metadata": {
            "tags": []
          },
          "execution_count": 10
        }
      ]
    },
    {
      "cell_type": "markdown",
      "metadata": {
        "id": "gWNqUO2B1yHC"
      },
      "source": [
        "### Rearrange the columns to keep the same order as the original dataset."
      ]
    },
    {
      "cell_type": "code",
      "metadata": {
        "id": "pFnEWOq1gGNd",
        "colab": {
          "base_uri": "https://localhost:8080/",
          "height": 204
        },
        "outputId": "e62dd646-07b1-4c9c-fc60-3c2452d53cb1"
      },
      "source": [
        "sales_df = sales_df[['Site','View','Age','Bedrooms','Bathrooms','GLA','Garage','Carport','Fireplace','Pool','Sales_Price']] #Rearrange columns\n",
        "sales_df.head()"
      ],
      "execution_count": null,
      "outputs": [
        {
          "output_type": "execute_result",
          "data": {
            "text/html": [
              "<div>\n",
              "<style scoped>\n",
              "    .dataframe tbody tr th:only-of-type {\n",
              "        vertical-align: middle;\n",
              "    }\n",
              "\n",
              "    .dataframe tbody tr th {\n",
              "        vertical-align: top;\n",
              "    }\n",
              "\n",
              "    .dataframe thead th {\n",
              "        text-align: right;\n",
              "    }\n",
              "</style>\n",
              "<table border=\"1\" class=\"dataframe\">\n",
              "  <thead>\n",
              "    <tr style=\"text-align: right;\">\n",
              "      <th></th>\n",
              "      <th>Site</th>\n",
              "      <th>View</th>\n",
              "      <th>Age</th>\n",
              "      <th>Bedrooms</th>\n",
              "      <th>Bathrooms</th>\n",
              "      <th>GLA</th>\n",
              "      <th>Garage</th>\n",
              "      <th>Carport</th>\n",
              "      <th>Fireplace</th>\n",
              "      <th>Pool</th>\n",
              "      <th>Sales_Price</th>\n",
              "    </tr>\n",
              "  </thead>\n",
              "  <tbody>\n",
              "    <tr>\n",
              "      <th>0</th>\n",
              "      <td>8549</td>\n",
              "      <td>1</td>\n",
              "      <td>5</td>\n",
              "      <td>5</td>\n",
              "      <td>4.0</td>\n",
              "      <td>4439</td>\n",
              "      <td>3.0</td>\n",
              "      <td>NaN</td>\n",
              "      <td>0</td>\n",
              "      <td>1</td>\n",
              "      <td>675000</td>\n",
              "    </tr>\n",
              "    <tr>\n",
              "      <th>1</th>\n",
              "      <td>11108</td>\n",
              "      <td>0</td>\n",
              "      <td>3</td>\n",
              "      <td>5</td>\n",
              "      <td>4.0</td>\n",
              "      <td>4069</td>\n",
              "      <td>3.0</td>\n",
              "      <td>NaN</td>\n",
              "      <td>0</td>\n",
              "      <td>0</td>\n",
              "      <td>540000</td>\n",
              "    </tr>\n",
              "    <tr>\n",
              "      <th>2</th>\n",
              "      <td>9920</td>\n",
              "      <td>0</td>\n",
              "      <td>22</td>\n",
              "      <td>5</td>\n",
              "      <td>4.0</td>\n",
              "      <td>3834</td>\n",
              "      <td>3.0</td>\n",
              "      <td>NaN</td>\n",
              "      <td>1</td>\n",
              "      <td>1</td>\n",
              "      <td>515000</td>\n",
              "    </tr>\n",
              "    <tr>\n",
              "      <th>3</th>\n",
              "      <td>10035</td>\n",
              "      <td>1</td>\n",
              "      <td>22</td>\n",
              "      <td>5</td>\n",
              "      <td>4.0</td>\n",
              "      <td>3828</td>\n",
              "      <td>3.0</td>\n",
              "      <td>NaN</td>\n",
              "      <td>1</td>\n",
              "      <td>1</td>\n",
              "      <td>495000</td>\n",
              "    </tr>\n",
              "    <tr>\n",
              "      <th>4</th>\n",
              "      <td>9600</td>\n",
              "      <td>1</td>\n",
              "      <td>14</td>\n",
              "      <td>5</td>\n",
              "      <td>4.0</td>\n",
              "      <td>3382</td>\n",
              "      <td>3.0</td>\n",
              "      <td>NaN</td>\n",
              "      <td>0</td>\n",
              "      <td>1</td>\n",
              "      <td>494700</td>\n",
              "    </tr>\n",
              "  </tbody>\n",
              "</table>\n",
              "</div>"
            ],
            "text/plain": [
              "    Site  View  Age  Bedrooms  ...  Carport  Fireplace  Pool  Sales_Price\n",
              "0   8549     1    5         5  ...      NaN          0     1       675000\n",
              "1  11108     0    3         5  ...      NaN          0     0       540000\n",
              "2   9920     0   22         5  ...      NaN          1     1       515000\n",
              "3  10035     1   22         5  ...      NaN          1     1       495000\n",
              "4   9600     1   14         5  ...      NaN          0     1       494700\n",
              "\n",
              "[5 rows x 11 columns]"
            ]
          },
          "metadata": {
            "tags": []
          },
          "execution_count": 11
        }
      ]
    },
    {
      "cell_type": "markdown",
      "metadata": {
        "id": "Bd3za30l2joO"
      },
      "source": [
        "### Now we take care of null/NaN values in the dataframe."
      ]
    },
    {
      "cell_type": "code",
      "metadata": {
        "id": "2xjNbLq_Ajt9",
        "colab": {
          "base_uri": "https://localhost:8080/"
        },
        "outputId": "c620d2e9-22ec-4d84-d79c-71ac87155a8a"
      },
      "source": [
        "sales_df.isnull().sum()       #Find null/NaN values"
      ],
      "execution_count": null,
      "outputs": [
        {
          "output_type": "execute_result",
          "data": {
            "text/plain": [
              "Site             0\n",
              "View             0\n",
              "Age              0\n",
              "Bedrooms         0\n",
              "Bathrooms        0\n",
              "GLA              0\n",
              "Garage           1\n",
              "Carport        203\n",
              "Fireplace        0\n",
              "Pool             0\n",
              "Sales_Price      0\n",
              "dtype: int64"
            ]
          },
          "metadata": {
            "tags": []
          },
          "execution_count": 12
        }
      ]
    },
    {
      "cell_type": "markdown",
      "metadata": {
        "id": "0LQ3sGvP3N0M"
      },
      "source": [
        "### Most of the null values are from the feature 'Carport'. In fact, 203 out of 210 properties have a null value for 'Carport'. We can either delete the entire column or we can fill them we a numerical value (like 0 or a median of other values). Since in this cases there are so many missing values, it makes sense to just delete the entire column."
      ]
    },
    {
      "cell_type": "code",
      "metadata": {
        "id": "D07tYk_SBQtf",
        "colab": {
          "base_uri": "https://localhost:8080/",
          "height": 204
        },
        "outputId": "b666a53a-47a1-43c8-958c-93d78a8e547f"
      },
      "source": [
        "sales_df = sales_df.drop(['Carport'], axis=1)     #Drop 'Carport' column.\n",
        "sales_df.head()"
      ],
      "execution_count": null,
      "outputs": [
        {
          "output_type": "execute_result",
          "data": {
            "text/html": [
              "<div>\n",
              "<style scoped>\n",
              "    .dataframe tbody tr th:only-of-type {\n",
              "        vertical-align: middle;\n",
              "    }\n",
              "\n",
              "    .dataframe tbody tr th {\n",
              "        vertical-align: top;\n",
              "    }\n",
              "\n",
              "    .dataframe thead th {\n",
              "        text-align: right;\n",
              "    }\n",
              "</style>\n",
              "<table border=\"1\" class=\"dataframe\">\n",
              "  <thead>\n",
              "    <tr style=\"text-align: right;\">\n",
              "      <th></th>\n",
              "      <th>Site</th>\n",
              "      <th>View</th>\n",
              "      <th>Age</th>\n",
              "      <th>Bedrooms</th>\n",
              "      <th>Bathrooms</th>\n",
              "      <th>GLA</th>\n",
              "      <th>Garage</th>\n",
              "      <th>Fireplace</th>\n",
              "      <th>Pool</th>\n",
              "      <th>Sales_Price</th>\n",
              "    </tr>\n",
              "  </thead>\n",
              "  <tbody>\n",
              "    <tr>\n",
              "      <th>0</th>\n",
              "      <td>8549</td>\n",
              "      <td>1</td>\n",
              "      <td>5</td>\n",
              "      <td>5</td>\n",
              "      <td>4.0</td>\n",
              "      <td>4439</td>\n",
              "      <td>3.0</td>\n",
              "      <td>0</td>\n",
              "      <td>1</td>\n",
              "      <td>675000</td>\n",
              "    </tr>\n",
              "    <tr>\n",
              "      <th>1</th>\n",
              "      <td>11108</td>\n",
              "      <td>0</td>\n",
              "      <td>3</td>\n",
              "      <td>5</td>\n",
              "      <td>4.0</td>\n",
              "      <td>4069</td>\n",
              "      <td>3.0</td>\n",
              "      <td>0</td>\n",
              "      <td>0</td>\n",
              "      <td>540000</td>\n",
              "    </tr>\n",
              "    <tr>\n",
              "      <th>2</th>\n",
              "      <td>9920</td>\n",
              "      <td>0</td>\n",
              "      <td>22</td>\n",
              "      <td>5</td>\n",
              "      <td>4.0</td>\n",
              "      <td>3834</td>\n",
              "      <td>3.0</td>\n",
              "      <td>1</td>\n",
              "      <td>1</td>\n",
              "      <td>515000</td>\n",
              "    </tr>\n",
              "    <tr>\n",
              "      <th>3</th>\n",
              "      <td>10035</td>\n",
              "      <td>1</td>\n",
              "      <td>22</td>\n",
              "      <td>5</td>\n",
              "      <td>4.0</td>\n",
              "      <td>3828</td>\n",
              "      <td>3.0</td>\n",
              "      <td>1</td>\n",
              "      <td>1</td>\n",
              "      <td>495000</td>\n",
              "    </tr>\n",
              "    <tr>\n",
              "      <th>4</th>\n",
              "      <td>9600</td>\n",
              "      <td>1</td>\n",
              "      <td>14</td>\n",
              "      <td>5</td>\n",
              "      <td>4.0</td>\n",
              "      <td>3382</td>\n",
              "      <td>3.0</td>\n",
              "      <td>0</td>\n",
              "      <td>1</td>\n",
              "      <td>494700</td>\n",
              "    </tr>\n",
              "  </tbody>\n",
              "</table>\n",
              "</div>"
            ],
            "text/plain": [
              "    Site  View  Age  Bedrooms  ...  Garage  Fireplace  Pool  Sales_Price\n",
              "0   8549     1    5         5  ...     3.0          0     1       675000\n",
              "1  11108     0    3         5  ...     3.0          0     0       540000\n",
              "2   9920     0   22         5  ...     3.0          1     1       515000\n",
              "3  10035     1   22         5  ...     3.0          1     1       495000\n",
              "4   9600     1   14         5  ...     3.0          0     1       494700\n",
              "\n",
              "[5 rows x 10 columns]"
            ]
          },
          "metadata": {
            "tags": []
          },
          "execution_count": 13
        }
      ]
    },
    {
      "cell_type": "markdown",
      "metadata": {
        "id": "W50cyt-i5dkD"
      },
      "source": [
        "### Check for null values again"
      ]
    },
    {
      "cell_type": "code",
      "metadata": {
        "id": "LxZSjW9MUQU8",
        "colab": {
          "base_uri": "https://localhost:8080/"
        },
        "outputId": "83b494cc-561a-476d-add1-4639117aead0"
      },
      "source": [
        "sales_df.isnull().sum()     #Find null/NaN values"
      ],
      "execution_count": null,
      "outputs": [
        {
          "output_type": "execute_result",
          "data": {
            "text/plain": [
              "Site           0\n",
              "View           0\n",
              "Age            0\n",
              "Bedrooms       0\n",
              "Bathrooms      0\n",
              "GLA            0\n",
              "Garage         1\n",
              "Fireplace      0\n",
              "Pool           0\n",
              "Sales_Price    0\n",
              "dtype: int64"
            ]
          },
          "metadata": {
            "tags": []
          },
          "execution_count": 14
        }
      ]
    },
    {
      "cell_type": "markdown",
      "metadata": {
        "id": "gKF90hYO5l0y"
      },
      "source": [
        "### There is one property with a null value for \"Garage\". Now, since it is only one value, it wouldn't be a good idea to delete the entire column and potentially lose a lot of relevant data. Instead, we are going to fill that data point with a number. In this case we use the number 0 because, most likely, this property has no garage."
      ]
    },
    {
      "cell_type": "code",
      "metadata": {
        "colab": {
          "base_uri": "https://localhost:8080/"
        },
        "id": "uba7ruYiExD-",
        "outputId": "0e2a9814-b3f2-477a-a8f3-974d6925b3c6"
      },
      "source": [
        "sales_df = sales_df.fillna(0)   #Fill null values with a 0\r\n",
        "\r\n",
        "sales_df.isnull().sum()         #Find null/NaN values"
      ],
      "execution_count": null,
      "outputs": [
        {
          "output_type": "execute_result",
          "data": {
            "text/plain": [
              "Site           0\n",
              "View           0\n",
              "Age            0\n",
              "Bedrooms       0\n",
              "Bathrooms      0\n",
              "GLA            0\n",
              "Garage         0\n",
              "Fireplace      0\n",
              "Pool           0\n",
              "Sales_Price    0\n",
              "dtype: int64"
            ]
          },
          "metadata": {
            "tags": []
          },
          "execution_count": 15
        }
      ]
    },
    {
      "cell_type": "markdown",
      "metadata": {
        "id": "d-pydmwK6_0P"
      },
      "source": [
        "### At this point there are no more null values and all of the data types are numeric. The dataframe is now \"clean\". It is time to create some visualizations."
      ]
    },
    {
      "cell_type": "markdown",
      "metadata": {
        "id": "9PsL8UyGDCgU"
      },
      "source": [
        "### **VISUALIZATIONS**"
      ]
    },
    {
      "cell_type": "markdown",
      "metadata": {
        "id": "tbMfN0hr_W7l"
      },
      "source": [
        "### The first visualization we are going to try is the Histogram of Sales Prices using matplotlib."
      ]
    },
    {
      "cell_type": "code",
      "metadata": {
        "id": "UMG2UcOF5JK_",
        "colab": {
          "base_uri": "https://localhost:8080/",
          "height": 265
        },
        "outputId": "509f0159-326f-4bbe-d1b3-5ad07cb47166"
      },
      "source": [
        "sales_df['Sales_Price'].plot(kind='hist')   #Simple Histogram\n",
        "plt.show()"
      ],
      "execution_count": null,
      "outputs": [
        {
          "output_type": "display_data",
          "data": {
            "image/png": "[encoded data removed]",
            "text/plain": [
              "<Figure size 432x288 with 1 Axes>"
            ]
          },
          "metadata": {
            "tags": [],
            "needs_background": "light"
          }
        }
      ]
    },
    {
      "cell_type": "markdown",
      "metadata": {
        "id": "Ckyf6EejAAis"
      },
      "source": [
        "### That previous histogram provides information about the distribution of sales prices. However, if we want to use it for a report, it is probably better if we customize it to make more readible and visually appealing."
      ]
    },
    {
      "cell_type": "code",
      "metadata": {
        "colab": {
          "base_uri": "https://localhost:8080/",
          "height": 639
        },
        "id": "Ed1PBsRC_p1K",
        "outputId": "f844edf0-d8f7-41d0-a0f8-c3e131a9d2cd"
      },
      "source": [
        "sales_df['Sales_Price'].plot(kind='hist', figsize=(12,10), edgecolor='black', linewidth=1) \r\n",
        "plt.title('Histogram - Sales Price',fontsize=20)\r\n",
        "plt.xlabel('Sales Price',fontsize=18)\r\n",
        "plt.ylabel('Frequency (# of Properties)',fontsize=18)\r\n",
        "plt.xticks(fontsize=14)\r\n",
        "plt.yticks(fontsize=14)\r\n",
        "plt.show()"
      ],
      "execution_count": null,
      "outputs": [
        {
          "output_type": "display_data",
          "data": {
            "image/png": "[encoded data removed]",
            "text/plain": [
              "<Figure size 864x720 with 1 Axes>"
            ]
          },
          "metadata": {
            "tags": [],
            "needs_background": "light"
          }
        }
      ]
    },
    {
      "cell_type": "markdown",
      "metadata": {
        "id": "dBrjqFmUChmd"
      },
      "source": [
        "### Histograms are highly customizable. Read the library documentation to learn more about this and other visualizations with matplotlib (https://matplotlib.org)"
      ]
    },
    {
      "cell_type": "markdown",
      "metadata": {
        "id": "O26zhYWxC5TZ"
      },
      "source": [
        "### Another histogram. Now we are going to visualize \"GLA\".\r\n",
        "### We are also going to try a different color (lightblue)."
      ]
    },
    {
      "cell_type": "code",
      "metadata": {
        "id": "ERLV9hZd5OXx",
        "colab": {
          "base_uri": "https://localhost:8080/",
          "height": 639
        },
        "outputId": "87f1a063-e63b-4503-8212-45ea605530d4"
      },
      "source": [
        "sales_df['GLA'].plot(kind='hist', figsize=(12,10),color='lightblue',edgecolor='black', linewidth=1)\n",
        "plt.title('Histogram - GLA (Gross Living Area)',fontsize=20)\n",
        "plt.xlabel('GLA (Gross Living Area)',fontsize=18)\n",
        "plt.ylabel('Frequency (# of Properties)',fontsize=18)\n",
        "plt.xticks(fontsize=14)\n",
        "plt.yticks(fontsize=14)\n",
        "plt.show()\n"
      ],
      "execution_count": null,
      "outputs": [
        {
          "output_type": "display_data",
          "data": {
            "image/png": "[encoded data removed]",
            "text/plain": [
              "<Figure size 864x720 with 1 Axes>"
            ]
          },
          "metadata": {
            "tags": [],
            "needs_background": "light"
          }
        }
      ]
    },
    {
      "cell_type": "markdown",
      "metadata": {
        "id": "5VSDZQ2eEfde"
      },
      "source": [
        "### One more histogram to visualize 'Age'. Different color (darkseagreen)"
      ]
    },
    {
      "cell_type": "code",
      "metadata": {
        "id": "CezdQGF65ZTe",
        "colab": {
          "base_uri": "https://localhost:8080/",
          "height": 639
        },
        "outputId": "f3d1bf08-1fe4-4134-c28f-ab6328480ddb"
      },
      "source": [
        "sales_df['Age'].plot(kind='hist',figsize=(12,10),color='darkseagreen',edgecolor='black', linewidth=1)\n",
        "plt.title('Histogram - Age',fontsize=20)\n",
        "plt.xlabel('Age',fontsize=18)\n",
        "plt.ylabel('Frequency (# of Properties)',fontsize=18)\n",
        "plt.xticks(fontsize=14)\n",
        "plt.yticks(fontsize=14)\n",
        "plt.show()\n"
      ],
      "execution_count": null,
      "outputs": [
        {
          "output_type": "display_data",
          "data": {
            "image/png": "[encoded data removed]",
            "text/plain": [
              "<Figure size 864x720 with 1 Axes>"
            ]
          },
          "metadata": {
            "tags": [],
            "needs_background": "light"
          }
        }
      ]
    },
    {
      "cell_type": "markdown",
      "metadata": {
        "id": "MJe92ea2HMAM"
      },
      "source": [
        "### Next, we are going to use one of the favorite visualizations among residential appraisers, the scatterplot of GLA and Sales Price. (We will be using the seaborn library. For more information read the documentation at https://seaborn.pydata.org/)"
      ]
    },
    {
      "cell_type": "markdown",
      "metadata": {
        "id": "-BXDMgRrUmfw"
      },
      "source": [
        "The"
      ]
    },
    {
      "cell_type": "code",
      "metadata": {
        "colab": {
          "base_uri": "https://localhost:8080/",
          "height": 634
        },
        "id": "pPj12tDOHMfc",
        "outputId": "b1aa2d3b-d499-4cd9-ff08-c35487865948"
      },
      "source": [
        "plt.figure(figsize=(10,10))\r\n",
        "sns.regplot(x='GLA', y='Sales_Price', data=sales_df)\r\n",
        "plt.title('GLA and Sales Prices',fontsize=20)\r\n",
        "plt.xlabel('GLA',fontsize=14)\r\n",
        "plt.ylabel('Sales Price',fontsize=14)\r\n",
        "plt.xticks(fontsize=12)\r\n",
        "plt.yticks(fontsize=12)\r\n",
        "plt.show()"
      ],
      "execution_count": null,
      "outputs": [
        {
          "output_type": "display_data",
          "data": {
            "image/png": "[encoded data removed]",
            "text/plain": [
              "<Figure size 720x720 with 1 Axes>"
            ]
          },
          "metadata": {
            "tags": [],
            "needs_background": "light"
          }
        }
      ]
    },
    {
      "cell_type": "markdown",
      "metadata": {
        "id": "yLvAnJfaIh3i"
      },
      "source": [
        "### Now a scatterplot of Site and Sales Price."
      ]
    },
    {
      "cell_type": "code",
      "metadata": {
        "colab": {
          "base_uri": "https://localhost:8080/",
          "height": 634
        },
        "id": "9La6mpuZIxQq",
        "outputId": "884018ae-d68b-4e92-bbc9-2de12fb18175"
      },
      "source": [
        "plt.figure(figsize=(10,10))\r\n",
        "sns.regplot(x='Site', y='Sales_Price', data=sales_df)\r\n",
        "plt.title('Site and Sales Prices',fontsize=20)\r\n",
        "plt.xlabel('Site',fontsize=14)\r\n",
        "plt.ylabel('Sales Price',fontsize=14)\r\n",
        "plt.xticks(fontsize=12)\r\n",
        "plt.yticks(fontsize=12)\r\n",
        "plt.show()\r\n",
        "plt.show()"
      ],
      "execution_count": null,
      "outputs": [
        {
          "output_type": "display_data",
          "data": {
            "image/png": "[encoded data removed]",
            "text/plain": [
              "<Figure size 720x720 with 1 Axes>"
            ]
          },
          "metadata": {
            "tags": [],
            "needs_background": "light"
          }
        }
      ]
    },
    {
      "cell_type": "markdown",
      "metadata": {
        "id": "eoD6zjDYR7al"
      },
      "source": [
        "### A great visualization to show the correlation between features (correlation matrix) is the heatmap."
      ]
    },
    {
      "cell_type": "markdown",
      "metadata": {
        "id": "Ylq7maclSQ7p"
      },
      "source": [
        "### Quick look at the correlation matrix"
      ]
    },
    {
      "cell_type": "code",
      "metadata": {
        "id": "6vvoPzcakzVn",
        "colab": {
          "base_uri": "https://localhost:8080/",
          "height": 359
        },
        "outputId": "b8d6080b-42c5-4f0c-fa06-1b64008cb491"
      },
      "source": [
        "sales_df.corr()     #Run correlation matrix"
      ],
      "execution_count": null,
      "outputs": [
        {
          "output_type": "execute_result",
          "data": {
            "text/html": [
              "<div>\n",
              "<style scoped>\n",
              "    .dataframe tbody tr th:only-of-type {\n",
              "        vertical-align: middle;\n",
              "    }\n",
              "\n",
              "    .dataframe tbody tr th {\n",
              "        vertical-align: top;\n",
              "    }\n",
              "\n",
              "    .dataframe thead th {\n",
              "        text-align: right;\n",
              "    }\n",
              "</style>\n",
              "<table border=\"1\" class=\"dataframe\">\n",
              "  <thead>\n",
              "    <tr style=\"text-align: right;\">\n",
              "      <th></th>\n",
              "      <th>Site</th>\n",
              "      <th>View</th>\n",
              "      <th>Age</th>\n",
              "      <th>Bedrooms</th>\n",
              "      <th>Bathrooms</th>\n",
              "      <th>GLA</th>\n",
              "      <th>Garage</th>\n",
              "      <th>Fireplace</th>\n",
              "      <th>Pool</th>\n",
              "      <th>Sales_Price</th>\n",
              "    </tr>\n",
              "  </thead>\n",
              "  <tbody>\n",
              "    <tr>\n",
              "      <th>Site</th>\n",
              "      <td>1.000000</td>\n",
              "      <td>-0.250851</td>\n",
              "      <td>-0.047395</td>\n",
              "      <td>0.377349</td>\n",
              "      <td>0.396751</td>\n",
              "      <td>0.466039</td>\n",
              "      <td>0.057883</td>\n",
              "      <td>0.124235</td>\n",
              "      <td>0.357358</td>\n",
              "      <td>0.485549</td>\n",
              "    </tr>\n",
              "    <tr>\n",
              "      <th>View</th>\n",
              "      <td>-0.250851</td>\n",
              "      <td>1.000000</td>\n",
              "      <td>-0.037876</td>\n",
              "      <td>0.024390</td>\n",
              "      <td>0.076089</td>\n",
              "      <td>-0.006968</td>\n",
              "      <td>-0.035697</td>\n",
              "      <td>0.150430</td>\n",
              "      <td>0.033979</td>\n",
              "      <td>0.064961</td>\n",
              "    </tr>\n",
              "    <tr>\n",
              "      <th>Age</th>\n",
              "      <td>-0.047395</td>\n",
              "      <td>-0.037876</td>\n",
              "      <td>1.000000</td>\n",
              "      <td>-0.313767</td>\n",
              "      <td>-0.412013</td>\n",
              "      <td>-0.472071</td>\n",
              "      <td>0.001644</td>\n",
              "      <td>0.206450</td>\n",
              "      <td>0.114419</td>\n",
              "      <td>-0.425663</td>\n",
              "    </tr>\n",
              "    <tr>\n",
              "      <th>Bedrooms</th>\n",
              "      <td>0.377349</td>\n",
              "      <td>0.024390</td>\n",
              "      <td>-0.313767</td>\n",
              "      <td>1.000000</td>\n",
              "      <td>0.644415</td>\n",
              "      <td>0.712319</td>\n",
              "      <td>0.042926</td>\n",
              "      <td>0.100129</td>\n",
              "      <td>0.283967</td>\n",
              "      <td>0.668227</td>\n",
              "    </tr>\n",
              "    <tr>\n",
              "      <th>Bathrooms</th>\n",
              "      <td>0.396751</td>\n",
              "      <td>0.076089</td>\n",
              "      <td>-0.412013</td>\n",
              "      <td>0.644415</td>\n",
              "      <td>1.000000</td>\n",
              "      <td>0.835726</td>\n",
              "      <td>0.072859</td>\n",
              "      <td>0.162889</td>\n",
              "      <td>0.237168</td>\n",
              "      <td>0.789761</td>\n",
              "    </tr>\n",
              "    <tr>\n",
              "      <th>GLA</th>\n",
              "      <td>0.466039</td>\n",
              "      <td>-0.006968</td>\n",
              "      <td>-0.472071</td>\n",
              "      <td>0.712319</td>\n",
              "      <td>0.835726</td>\n",
              "      <td>1.000000</td>\n",
              "      <td>-0.012028</td>\n",
              "      <td>0.121182</td>\n",
              "      <td>0.269489</td>\n",
              "      <td>0.903643</td>\n",
              "    </tr>\n",
              "    <tr>\n",
              "      <th>Garage</th>\n",
              "      <td>0.057883</td>\n",
              "      <td>-0.035697</td>\n",
              "      <td>0.001644</td>\n",
              "      <td>0.042926</td>\n",
              "      <td>0.072859</td>\n",
              "      <td>-0.012028</td>\n",
              "      <td>1.000000</td>\n",
              "      <td>-0.026790</td>\n",
              "      <td>-0.045061</td>\n",
              "      <td>-0.012330</td>\n",
              "    </tr>\n",
              "    <tr>\n",
              "      <th>Fireplace</th>\n",
              "      <td>0.124235</td>\n",
              "      <td>0.150430</td>\n",
              "      <td>0.206450</td>\n",
              "      <td>0.100129</td>\n",
              "      <td>0.162889</td>\n",
              "      <td>0.121182</td>\n",
              "      <td>-0.026790</td>\n",
              "      <td>1.000000</td>\n",
              "      <td>0.277564</td>\n",
              "      <td>0.168883</td>\n",
              "    </tr>\n",
              "    <tr>\n",
              "      <th>Pool</th>\n",
              "      <td>0.357358</td>\n",
              "      <td>0.033979</td>\n",
              "      <td>0.114419</td>\n",
              "      <td>0.283967</td>\n",
              "      <td>0.237168</td>\n",
              "      <td>0.269489</td>\n",
              "      <td>-0.045061</td>\n",
              "      <td>0.277564</td>\n",
              "      <td>1.000000</td>\n",
              "      <td>0.412499</td>\n",
              "    </tr>\n",
              "    <tr>\n",
              "      <th>Sales_Price</th>\n",
              "      <td>0.485549</td>\n",
              "      <td>0.064961</td>\n",
              "      <td>-0.425663</td>\n",
              "      <td>0.668227</td>\n",
              "      <td>0.789761</td>\n",
              "      <td>0.903643</td>\n",
              "      <td>-0.012330</td>\n",
              "      <td>0.168883</td>\n",
              "      <td>0.412499</td>\n",
              "      <td>1.000000</td>\n",
              "    </tr>\n",
              "  </tbody>\n",
              "</table>\n",
              "</div>"
            ],
            "text/plain": [
              "                 Site      View       Age  ...  Fireplace      Pool  Sales_Price\n",
              "Site         1.000000 -0.250851 -0.047395  ...   0.124235  0.357358     0.485549\n",
              "View        -0.250851  1.000000 -0.037876  ...   0.150430  0.033979     0.064961\n",
              "Age         -0.047395 -0.037876  1.000000  ...   0.206450  0.114419    -0.425663\n",
              "Bedrooms     0.377349  0.024390 -0.313767  ...   0.100129  0.283967     0.668227\n",
              "Bathrooms    0.396751  0.076089 -0.412013  ...   0.162889  0.237168     0.789761\n",
              "GLA          0.466039 -0.006968 -0.472071  ...   0.121182  0.269489     0.903643\n",
              "Garage       0.057883 -0.035697  0.001644  ...  -0.026790 -0.045061    -0.012330\n",
              "Fireplace    0.124235  0.150430  0.206450  ...   1.000000  0.277564     0.168883\n",
              "Pool         0.357358  0.033979  0.114419  ...   0.277564  1.000000     0.412499\n",
              "Sales_Price  0.485549  0.064961 -0.425663  ...   0.168883  0.412499     1.000000\n",
              "\n",
              "[10 rows x 10 columns]"
            ]
          },
          "metadata": {
            "tags": []
          },
          "execution_count": 22
        }
      ]
    },
    {
      "cell_type": "markdown",
      "metadata": {
        "id": "8nLjLjovSbNN"
      },
      "source": [
        "### Use a heatmap to visualize the correlation matrix."
      ]
    },
    {
      "cell_type": "code",
      "metadata": {
        "id": "GGbW_pxpl3t_",
        "colab": {
          "base_uri": "https://localhost:8080/",
          "height": 604
        },
        "outputId": "00208b9e-d9bf-4b32-d712-707c6a6db7a8"
      },
      "source": [
        "plt.figure(figsize=(12,10))\n",
        "\n",
        "sns.heatmap(sales_df.corr(),linewidths = 0.25,square = True,cmap = 'coolwarm',linecolor = 'black',annot= True);\n",
        "\n",
        "plt.title(\"Correlation Matrix\",fontsize=18)\n",
        "plt.xticks(fontsize=10)\n",
        "plt.yticks(fontsize=10)\n",
        "\n",
        "plt.show()\n"
      ],
      "execution_count": null,
      "outputs": [
        {
          "output_type": "display_data",
          "data": {
            "image/png": "[encoded data removed]",
            "text/plain": [
              "<Figure size 864x720 with 2 Axes>"
            ]
          },
          "metadata": {
            "tags": [],
            "needs_background": "light"
          }
        }
      ]
    },
    {
      "cell_type": "markdown",
      "metadata": {
        "id": "uOEzdFYFUjDP"
      },
      "source": [
        "### The previous visualizations are only a few of the many kinds of visualizations that can be used to explore a dataset. To learn more about the matplotlib and seaborn libraries please refer to the documentation. \r\n",
        "### It is time to start working on the regression models (Linear Regression and Decision Tree Regression).\r\n"
      ]
    },
    {
      "cell_type": "markdown",
      "metadata": {
        "id": "kZqbTAJ9B82B"
      },
      "source": [
        "# **MODELS**"
      ]
    },
    {
      "cell_type": "markdown",
      "metadata": {
        "id": "iApM6WL7I2a8"
      },
      "source": [
        "### Import the libraries we are going to be using."
      ]
    },
    {
      "cell_type": "code",
      "metadata": {
        "id": "PQ8PopDAIxik"
      },
      "source": [
        "from sklearn.model_selection import train_test_split\r\n",
        "from sklearn.linear_model import LinearRegression\r\n",
        "from sklearn.tree import DecisionTreeRegressor\r\n",
        "from sklearn.metrics import mean_absolute_error"
      ],
      "execution_count": null,
      "outputs": []
    },
    {
      "cell_type": "markdown",
      "metadata": {
        "id": "2GGxPVepHzuO"
      },
      "source": [
        "### Before running the linear regression and the decision tree regression we must define the predicting features (Site, View, Age, Bedrooms, Bathrooms, GLA, Garage, Fireplace, and Pool) as 'X' and the target feature (Sales Prices) as 'y'."
      ]
    },
    {
      "cell_type": "code",
      "metadata": {
        "id": "9Jtw44jMPjGR"
      },
      "source": [
        "X = sales_df.iloc[:,:-1]      #Define predicting features, X\n",
        "y = sales_df.iloc[:,-1]       #Define target, y"
      ],
      "execution_count": null,
      "outputs": []
    },
    {
      "cell_type": "markdown",
      "metadata": {
        "id": "Eu9Lr2dsJY-s"
      },
      "source": [
        "### Now we split the dataframe in two sets. The train set, to fit the model, and the test set, to test the model with new data.\r\n",
        "### We assign 80% of the data to the train set and 20% to the test set. (Other common combinations are 75/25, 85/15, and 90/10)."
      ]
    },
    {
      "cell_type": "code",
      "metadata": {
        "id": "gaGZL7d_Jxzy"
      },
      "source": [
        "X_train, X_test, y_train, y_test = train_test_split(X, y, train_size=0.80, test_size=0.2, random_state=0)     #train-test split"
      ],
      "execution_count": null,
      "outputs": []
    },
    {
      "cell_type": "markdown",
      "metadata": {
        "id": "up0Vr5qDK8Bw"
      },
      "source": [
        "### Define the linear regression model and fit the train set."
      ]
    },
    {
      "cell_type": "markdown",
      "metadata": {
        "id": "seapE5RxPH6R"
      },
      "source": [
        "### **MODEL: Linear Regression**"
      ]
    },
    {
      "cell_type": "code",
      "metadata": {
        "id": "RW1sulxHSjNI",
        "colab": {
          "base_uri": "https://localhost:8080/"
        },
        "outputId": "62729b0b-5538-4330-b07a-f61d54eff94f"
      },
      "source": [
        "lin_regressor = LinearRegression()        #Define the model\n",
        "\n",
        "lin_regressor.fit(X_train,y_train)        #Fit the train set"
      ],
      "execution_count": null,
      "outputs": [
        {
          "output_type": "execute_result",
          "data": {
            "text/plain": [
              "LinearRegression(copy_X=True, fit_intercept=True, n_jobs=None, normalize=False)"
            ]
          },
          "metadata": {
            "tags": []
          },
          "execution_count": 27
        }
      ]
    },
    {
      "cell_type": "markdown",
      "metadata": {
        "id": "giOSu1bcL1GH"
      },
      "source": [
        "### We just created the Linear Regression model. Now we want to know how well it performs with new data (test set). We will use \"Mean Absolute Error\" (MAE) to score the model."
      ]
    },
    {
      "cell_type": "code",
      "metadata": {
        "colab": {
          "base_uri": "https://localhost:8080/"
        },
        "id": "tvkbaCo0MQCJ",
        "outputId": "1e3ebfbb-770a-4790-8c7f-77bc85311016"
      },
      "source": [
        "lin_pred = lin_regressor.predict(X_test)                                 #Get predictions using the test set\r\n",
        "\r\n",
        "lin_mae = mean_absolute_error(lin_pred,y_test)                           #Calculate MAE\r\n",
        "\r\n",
        "print('Linear Regression\\nMean Absolute Error (MAE):', format(lin_mae, ',.2f'))    #Display MAE score"
      ],
      "execution_count": null,
      "outputs": [
        {
          "output_type": "stream",
          "text": [
            "Linear Regression\n",
            "Mean Absolute Error (MAE): 17,980.19\n"
          ],
          "name": "stdout"
        }
      ]
    },
    {
      "cell_type": "markdown",
      "metadata": {
        "id": "IM19UomwRFua"
      },
      "source": [
        "###Next, we can work on the Decision Tree Regression model."
      ]
    },
    {
      "cell_type": "markdown",
      "metadata": {
        "id": "eca1NBFrw1uq"
      },
      "source": [
        "## **MODEL : Decision Tree**"
      ]
    },
    {
      "cell_type": "markdown",
      "metadata": {
        "id": "-8Wt7ITgSWiD"
      },
      "source": [
        "###Define the Decision Tree model and fit the train set."
      ]
    },
    {
      "cell_type": "code",
      "metadata": {
        "id": "otNQwhNSja_o",
        "colab": {
          "base_uri": "https://localhost:8080/"
        },
        "outputId": "b5c1f05b-2b6c-42bc-8e8a-39caf29c4536"
      },
      "source": [
        "decision_tree = DecisionTreeRegressor()     #Define the model\n",
        " \n",
        "decision_tree.fit(X_train,y_train)          #Fit the train set"
      ],
      "execution_count": null,
      "outputs": [
        {
          "output_type": "execute_result",
          "data": {
            "text/plain": [
              "DecisionTreeRegressor(ccp_alpha=0.0, criterion='mse', max_depth=None,\n",
              "                      max_features=None, max_leaf_nodes=None,\n",
              "                      min_impurity_decrease=0.0, min_impurity_split=None,\n",
              "                      min_samples_leaf=1, min_samples_split=2,\n",
              "                      min_weight_fraction_leaf=0.0, presort='deprecated',\n",
              "                      random_state=None, splitter='best')"
            ]
          },
          "metadata": {
            "tags": []
          },
          "execution_count": 29
        }
      ]
    },
    {
      "cell_type": "markdown",
      "metadata": {
        "id": "07tpVfN5SzyO"
      },
      "source": [
        "### We just created the Decision Tree Regression model. Now we want to know how well it performs with new data (test set). We will use \"Mean Absolute Error\" (MAE) to score the model."
      ]
    },
    {
      "cell_type": "code",
      "metadata": {
        "id": "y-5_uZlKSyVI",
        "colab": {
          "base_uri": "https://localhost:8080/"
        },
        "outputId": "47e6316b-aefd-4a83-aade-058b72b92336"
      },
      "source": [
        "dt_pred = decision_tree.predict(X_test)       #Get predictions using the test set\r\n",
        "\r\n",
        "dt_mae = mean_absolute_error(dt_pred,y_test)  #Calculate MAE\r\n",
        "\r\n",
        "print('Decision Tree\\nMean Absolute Error (MAE):', format(dt_mae, ',.2f'))    #Display MAE score\r\n"
      ],
      "execution_count": null,
      "outputs": [
        {
          "output_type": "stream",
          "text": [
            "Decision Tree\n",
            "Mean Absolute Error (MAE): 30,763.95\n"
          ],
          "name": "stdout"
        }
      ]
    },
    {
      "cell_type": "markdown",
      "metadata": {
        "id": "MS4XtRgxWCmI"
      },
      "source": [
        "## Based on the MAE scores it appears that the *Linear Regression* model is a better fit for our dataset."
      ]
    },
    {
      "cell_type": "markdown",
      "metadata": {
        "id": "YrObnivyWj59"
      },
      "source": [
        "##We can now run both of the trained models using the subject property. "
      ]
    },
    {
      "cell_type": "markdown",
      "metadata": {
        "id": "dGRy_DDkmxeZ"
      },
      "source": [
        "## **PREDICTIONS**"
      ]
    },
    {
      "cell_type": "markdown",
      "metadata": {
        "id": "Za7s0g65WywE"
      },
      "source": [
        "### Import a csv file that contains the subject's information in the same format as the cleaned dataframe. The only missing feature is the \"Sales Price\" since that is the target we are trying to predict."
      ]
    },
    {
      "cell_type": "code",
      "metadata": {
        "id": "Wq3tRkv0b628",
        "colab": {
          "base_uri": "https://localhost:8080/",
          "height": 80
        },
        "outputId": "f621e5cc-0cc3-4c84-ffe1-21bbcda7ef12"
      },
      "source": [
        "sp_data_path = '/content/SP_Data.csv'           #Create file path to csv dataset \n",
        "sp_data = pd.read_csv(sp_data_path)             #Read dataset in dataframe\n",
        "\n",
        "sp_data.head()                                  #Display data (first 5 rows) just to make sure it was successfully imported"
      ],
      "execution_count": null,
      "outputs": [
        {
          "output_type": "execute_result",
          "data": {
            "text/html": [
              "<div>\n",
              "<style scoped>\n",
              "    .dataframe tbody tr th:only-of-type {\n",
              "        vertical-align: middle;\n",
              "    }\n",
              "\n",
              "    .dataframe tbody tr th {\n",
              "        vertical-align: top;\n",
              "    }\n",
              "\n",
              "    .dataframe thead th {\n",
              "        text-align: right;\n",
              "    }\n",
              "</style>\n",
              "<table border=\"1\" class=\"dataframe\">\n",
              "  <thead>\n",
              "    <tr style=\"text-align: right;\">\n",
              "      <th></th>\n",
              "      <th>Site</th>\n",
              "      <th>View</th>\n",
              "      <th>Age</th>\n",
              "      <th>Bedrooms</th>\n",
              "      <th>Bathrooms</th>\n",
              "      <th>GLA</th>\n",
              "      <th>Garage</th>\n",
              "      <th>Fireplace</th>\n",
              "      <th>Pool</th>\n",
              "    </tr>\n",
              "  </thead>\n",
              "  <tbody>\n",
              "    <tr>\n",
              "      <th>0</th>\n",
              "      <td>12100</td>\n",
              "      <td>0</td>\n",
              "      <td>16</td>\n",
              "      <td>4</td>\n",
              "      <td>3</td>\n",
              "      <td>2915</td>\n",
              "      <td>3</td>\n",
              "      <td>0</td>\n",
              "      <td>1</td>\n",
              "    </tr>\n",
              "  </tbody>\n",
              "</table>\n",
              "</div>"
            ],
            "text/plain": [
              "    Site  View  Age  Bedrooms  Bathrooms   GLA  Garage  Fireplace  Pool\n",
              "0  12100     0   16         4          3  2915       3          0     1"
            ]
          },
          "metadata": {
            "tags": []
          },
          "execution_count": 31
        }
      ]
    },
    {
      "cell_type": "markdown",
      "metadata": {
        "id": "MknaQcljbJHn"
      },
      "source": [
        "###First we define the predicting features and then we are run the trained models to predict the subject's value."
      ]
    },
    {
      "cell_type": "code",
      "metadata": {
        "colab": {
          "base_uri": "https://localhost:8080/"
        },
        "id": "5o0tnsZuaaxO",
        "outputId": "afae1440-e794-435f-856d-97cc8812c80a"
      },
      "source": [
        "features = ['Site', 'View', 'Age', 'Bedrooms', 'Bathrooms', 'GLA','Garage','Fireplace','Pool']    #Define predicting features\r\n",
        "sp_X = sp_data[features]\r\n",
        "\r\n",
        "prediction_linear = int(lin_regressor.predict(sp_X))                    #Predict the subject's value using Linear Regresion model\r\n",
        "prediction_decision_tree = int(decision_tree.predict(sp_X))             #Predict the subject's value using Decision Tree Regresion model\r\n",
        "\r\n",
        "print('Estimated Values')                                               #Display estimated values\r\n",
        "print()\r\n",
        "print('Linear Regression: $', format(prediction_linear,','))\r\n",
        "print('Decision Tree Regression: $', format(prediction_decision_tree,','))"
      ],
      "execution_count": null,
      "outputs": [
        {
          "output_type": "stream",
          "text": [
            "Estimated Values\n",
            "\n",
            "Linear Regression: $ 403,911\n",
            "Decision Tree Regression: $ 420,000\n"
          ],
          "name": "stdout"
        }
      ]
    },
    {
      "cell_type": "markdown",
      "metadata": {
        "id": "FOV9Kz32nRaP"
      },
      "source": [
        "### Subject's estimated value:\r\n",
        "### 1) Based on Linear Regression is \\$403,911\r\n",
        "### 2) Based on Decision Tree Regression is \\$420,000"
      ]
    },
    {
      "cell_type": "markdown",
      "metadata": {
        "id": "0--_bh-4H6DP"
      },
      "source": [
        "### **What to do with the results?**\r\n",
        "\r\n",
        "### We were able to run a couple of regression models that predicted a property value with reasonable accuracy. However, the fact that our models produced these results doesn’t mean that we must use them to derive a final estimate of value. Perhaps we just want them as extra tool to support our own analysis. Or maybe we do want to use them for low-risk collateral analysis. The point is that we should always keep in mind that machine learning is just a tool, we are ultimately in charge of making the decision to use it or not use it. \r\n",
        "\r\n",
        "### **Conclusion**\r\n",
        "### In this tutorial we covered data collection, data wrangling/cleaning, visualizations, data modelling, and prediction of values. The process may seem lengthy the first time, but now it is all done and our code is saved in a notebook. We can run it and predict property values as many times as we want, in a matter of seconds.\r\n",
        "\r\n",
        "### **What’s next?** \r\n",
        "### Hopefully now you have a better idea of what it takes to run a (basic) prediction model. But, there is a lot more about data analysis and machine learning than what we covered in this tutorial. Next, you can explore more data visualizations, optimizations, learn about feature engineering, or have fun with deep learning. Go explore the vast world of machine learning and Level Up!!\r\n"
      ]
    }
  ]
}